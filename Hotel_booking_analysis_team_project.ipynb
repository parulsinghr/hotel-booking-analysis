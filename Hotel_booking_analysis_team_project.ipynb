{
  "nbformat": 4,
  "nbformat_minor": 0,
  "metadata": {
    "colab": {
      "name": "Hotel_booking_analysis_team_project",
      "provenance": [],
      "collapsed_sections": [
        "VGDyp6iZRfEI",
        "FDU41bUof2pz",
        "oP4ooP0Dobx5",
        "uBd0ywQQVBxY",
        "BqOLM5X-Xw_5",
        "EqCuR4zPYclx",
        "JEhI5-tLZqfV"
      ],
      "include_colab_link": true
    },
    "kernelspec": {
      "display_name": "Python 3",
      "name": "python3"
    },
    "language_info": {
      "name": "python"
    }
  },
  "cells": [
    {
      "cell_type": "markdown",
      "metadata": {
        "id": "view-in-github",
        "colab_type": "text"
      },
      "source": [
        "<a href=\"https://colab.research.google.com/github/parulsinghr/hotel-booking-analysis/blob/main/Hotel_booking_analysis_team_project.ipynb\" target=\"_parent\"><img src=\"https://colab.research.google.com/assets/colab-badge.svg\" alt=\"Open In Colab\"/></a>"
      ]
    },
    {
      "cell_type": "markdown",
      "metadata": {
        "id": "so-EH3vEsVyy"
      },
      "source": [
        "## Have you ever wondered when the best time of year to book a hotel room is? Or the optimal length of stay in order to get the best daily rate? What if you wanted to predict whether or not a hotel was likely to receive a disproportionately high number of special requests? This hotel booking dataset can help you explore those questions!\n",
        "This data set contains booking information for a city hotel and a resort hotel, and includes information such as when the booking was made, length of stay, the number of adults, children, and/or babies, and the number of available parking spaces, among other things. All personally identifying information has been removed from the data.\n",
        "\n",
        "Explore and analyze the data to discover important factors that govern the bookings."
      ]
    },
    {
      "cell_type": "code",
      "metadata": {
        "id": "p-KbgZOInKfQ"
      },
      "source": [
        ""
      ],
      "execution_count": null,
      "outputs": []
    },
    {
      "cell_type": "markdown",
      "metadata": {
        "id": "1fzQ5bzEP3kp"
      },
      "source": [
        "# Importing Libraries and datasets"
      ]
    },
    {
      "cell_type": "code",
      "metadata": {
        "id": "Tb70sM5oqyaa"
      },
      "source": [
        "# Lets dive in\n",
        "# lets import packages and data required for analysis\n",
        "import pandas as pd\n",
        "import numpy as np\n",
        "import matplotlib.pyplot as plt\n",
        "import seaborn as sns\n",
        "%matplotlib inline"
      ],
      "execution_count": null,
      "outputs": []
    },
    {
      "cell_type": "code",
      "metadata": {
        "colab": {
          "base_uri": "https://localhost:8080/"
        },
        "id": "XGc9sLK7wJjb",
        "outputId": "bc8df3fe-9e3a-4eec-ca9d-fe9293930684"
      },
      "source": [
        "from google.colab import drive\n",
        "drive.mount('/content/drive')"
      ],
      "execution_count": null,
      "outputs": [
        {
          "output_type": "stream",
          "text": [
            "Mounted at /content/drive\n"
          ],
          "name": "stdout"
        }
      ]
    },
    {
      "cell_type": "code",
      "metadata": {
        "id": "qRT-NSJzwJgJ"
      },
      "source": [
        "file_path=\"/content/drive/MyDrive/Almabetter/Hotel_bookings/Hotel Bookings.csv\""
      ],
      "execution_count": null,
      "outputs": []
    },
    {
      "cell_type": "code",
      "metadata": {
        "id": "ofwIEvq7wJOT"
      },
      "source": [
        "df=pd.read_csv(file_path)"
      ],
      "execution_count": null,
      "outputs": []
    },
    {
      "cell_type": "code",
      "metadata": {
        "colab": {
          "base_uri": "https://localhost:8080/",
          "height": 313
        },
        "id": "TTThFSCKv56E",
        "outputId": "082aa5ad-7908-4872-a234-de3241c3f7f4"
      },
      "source": [
        "df.head()"
      ],
      "execution_count": null,
      "outputs": [
        {
          "output_type": "execute_result",
          "data": {
            "text/html": [
              "<div>\n",
              "<style scoped>\n",
              "    .dataframe tbody tr th:only-of-type {\n",
              "        vertical-align: middle;\n",
              "    }\n",
              "\n",
              "    .dataframe tbody tr th {\n",
              "        vertical-align: top;\n",
              "    }\n",
              "\n",
              "    .dataframe thead th {\n",
              "        text-align: right;\n",
              "    }\n",
              "</style>\n",
              "<table border=\"1\" class=\"dataframe\">\n",
              "  <thead>\n",
              "    <tr style=\"text-align: right;\">\n",
              "      <th></th>\n",
              "      <th>hotel</th>\n",
              "      <th>is_canceled</th>\n",
              "      <th>lead_time</th>\n",
              "      <th>arrival_date_year</th>\n",
              "      <th>arrival_date_month</th>\n",
              "      <th>arrival_date_week_number</th>\n",
              "      <th>arrival_date_day_of_month</th>\n",
              "      <th>stays_in_weekend_nights</th>\n",
              "      <th>stays_in_week_nights</th>\n",
              "      <th>adults</th>\n",
              "      <th>children</th>\n",
              "      <th>babies</th>\n",
              "      <th>meal</th>\n",
              "      <th>country</th>\n",
              "      <th>market_segment</th>\n",
              "      <th>distribution_channel</th>\n",
              "      <th>is_repeated_guest</th>\n",
              "      <th>previous_cancellations</th>\n",
              "      <th>previous_bookings_not_canceled</th>\n",
              "      <th>reserved_room_type</th>\n",
              "      <th>assigned_room_type</th>\n",
              "      <th>booking_changes</th>\n",
              "      <th>deposit_type</th>\n",
              "      <th>agent</th>\n",
              "      <th>company</th>\n",
              "      <th>days_in_waiting_list</th>\n",
              "      <th>customer_type</th>\n",
              "      <th>adr</th>\n",
              "      <th>required_car_parking_spaces</th>\n",
              "      <th>total_of_special_requests</th>\n",
              "      <th>reservation_status</th>\n",
              "      <th>reservation_status_date</th>\n",
              "    </tr>\n",
              "  </thead>\n",
              "  <tbody>\n",
              "    <tr>\n",
              "      <th>0</th>\n",
              "      <td>Resort Hotel</td>\n",
              "      <td>0</td>\n",
              "      <td>342</td>\n",
              "      <td>2015</td>\n",
              "      <td>July</td>\n",
              "      <td>27</td>\n",
              "      <td>1</td>\n",
              "      <td>0</td>\n",
              "      <td>0</td>\n",
              "      <td>2</td>\n",
              "      <td>0.0</td>\n",
              "      <td>0</td>\n",
              "      <td>BB</td>\n",
              "      <td>PRT</td>\n",
              "      <td>Direct</td>\n",
              "      <td>Direct</td>\n",
              "      <td>0</td>\n",
              "      <td>0</td>\n",
              "      <td>0</td>\n",
              "      <td>C</td>\n",
              "      <td>C</td>\n",
              "      <td>3</td>\n",
              "      <td>No Deposit</td>\n",
              "      <td>NaN</td>\n",
              "      <td>NaN</td>\n",
              "      <td>0</td>\n",
              "      <td>Transient</td>\n",
              "      <td>0.0</td>\n",
              "      <td>0</td>\n",
              "      <td>0</td>\n",
              "      <td>Check-Out</td>\n",
              "      <td>2015-07-01</td>\n",
              "    </tr>\n",
              "    <tr>\n",
              "      <th>1</th>\n",
              "      <td>Resort Hotel</td>\n",
              "      <td>0</td>\n",
              "      <td>737</td>\n",
              "      <td>2015</td>\n",
              "      <td>July</td>\n",
              "      <td>27</td>\n",
              "      <td>1</td>\n",
              "      <td>0</td>\n",
              "      <td>0</td>\n",
              "      <td>2</td>\n",
              "      <td>0.0</td>\n",
              "      <td>0</td>\n",
              "      <td>BB</td>\n",
              "      <td>PRT</td>\n",
              "      <td>Direct</td>\n",
              "      <td>Direct</td>\n",
              "      <td>0</td>\n",
              "      <td>0</td>\n",
              "      <td>0</td>\n",
              "      <td>C</td>\n",
              "      <td>C</td>\n",
              "      <td>4</td>\n",
              "      <td>No Deposit</td>\n",
              "      <td>NaN</td>\n",
              "      <td>NaN</td>\n",
              "      <td>0</td>\n",
              "      <td>Transient</td>\n",
              "      <td>0.0</td>\n",
              "      <td>0</td>\n",
              "      <td>0</td>\n",
              "      <td>Check-Out</td>\n",
              "      <td>2015-07-01</td>\n",
              "    </tr>\n",
              "    <tr>\n",
              "      <th>2</th>\n",
              "      <td>Resort Hotel</td>\n",
              "      <td>0</td>\n",
              "      <td>7</td>\n",
              "      <td>2015</td>\n",
              "      <td>July</td>\n",
              "      <td>27</td>\n",
              "      <td>1</td>\n",
              "      <td>0</td>\n",
              "      <td>1</td>\n",
              "      <td>1</td>\n",
              "      <td>0.0</td>\n",
              "      <td>0</td>\n",
              "      <td>BB</td>\n",
              "      <td>GBR</td>\n",
              "      <td>Direct</td>\n",
              "      <td>Direct</td>\n",
              "      <td>0</td>\n",
              "      <td>0</td>\n",
              "      <td>0</td>\n",
              "      <td>A</td>\n",
              "      <td>C</td>\n",
              "      <td>0</td>\n",
              "      <td>No Deposit</td>\n",
              "      <td>NaN</td>\n",
              "      <td>NaN</td>\n",
              "      <td>0</td>\n",
              "      <td>Transient</td>\n",
              "      <td>75.0</td>\n",
              "      <td>0</td>\n",
              "      <td>0</td>\n",
              "      <td>Check-Out</td>\n",
              "      <td>2015-07-02</td>\n",
              "    </tr>\n",
              "    <tr>\n",
              "      <th>3</th>\n",
              "      <td>Resort Hotel</td>\n",
              "      <td>0</td>\n",
              "      <td>13</td>\n",
              "      <td>2015</td>\n",
              "      <td>July</td>\n",
              "      <td>27</td>\n",
              "      <td>1</td>\n",
              "      <td>0</td>\n",
              "      <td>1</td>\n",
              "      <td>1</td>\n",
              "      <td>0.0</td>\n",
              "      <td>0</td>\n",
              "      <td>BB</td>\n",
              "      <td>GBR</td>\n",
              "      <td>Corporate</td>\n",
              "      <td>Corporate</td>\n",
              "      <td>0</td>\n",
              "      <td>0</td>\n",
              "      <td>0</td>\n",
              "      <td>A</td>\n",
              "      <td>A</td>\n",
              "      <td>0</td>\n",
              "      <td>No Deposit</td>\n",
              "      <td>304.0</td>\n",
              "      <td>NaN</td>\n",
              "      <td>0</td>\n",
              "      <td>Transient</td>\n",
              "      <td>75.0</td>\n",
              "      <td>0</td>\n",
              "      <td>0</td>\n",
              "      <td>Check-Out</td>\n",
              "      <td>2015-07-02</td>\n",
              "    </tr>\n",
              "    <tr>\n",
              "      <th>4</th>\n",
              "      <td>Resort Hotel</td>\n",
              "      <td>0</td>\n",
              "      <td>14</td>\n",
              "      <td>2015</td>\n",
              "      <td>July</td>\n",
              "      <td>27</td>\n",
              "      <td>1</td>\n",
              "      <td>0</td>\n",
              "      <td>2</td>\n",
              "      <td>2</td>\n",
              "      <td>0.0</td>\n",
              "      <td>0</td>\n",
              "      <td>BB</td>\n",
              "      <td>GBR</td>\n",
              "      <td>Online TA</td>\n",
              "      <td>TA/TO</td>\n",
              "      <td>0</td>\n",
              "      <td>0</td>\n",
              "      <td>0</td>\n",
              "      <td>A</td>\n",
              "      <td>A</td>\n",
              "      <td>0</td>\n",
              "      <td>No Deposit</td>\n",
              "      <td>240.0</td>\n",
              "      <td>NaN</td>\n",
              "      <td>0</td>\n",
              "      <td>Transient</td>\n",
              "      <td>98.0</td>\n",
              "      <td>0</td>\n",
              "      <td>1</td>\n",
              "      <td>Check-Out</td>\n",
              "      <td>2015-07-03</td>\n",
              "    </tr>\n",
              "  </tbody>\n",
              "</table>\n",
              "</div>"
            ],
            "text/plain": [
              "          hotel  is_canceled  ...  reservation_status  reservation_status_date\n",
              "0  Resort Hotel            0  ...           Check-Out               2015-07-01\n",
              "1  Resort Hotel            0  ...           Check-Out               2015-07-01\n",
              "2  Resort Hotel            0  ...           Check-Out               2015-07-02\n",
              "3  Resort Hotel            0  ...           Check-Out               2015-07-02\n",
              "4  Resort Hotel            0  ...           Check-Out               2015-07-03\n",
              "\n",
              "[5 rows x 32 columns]"
            ]
          },
          "metadata": {
            "tags": []
          },
          "execution_count": 6
        }
      ]
    },
    {
      "cell_type": "code",
      "metadata": {
        "colab": {
          "base_uri": "https://localhost:8080/",
          "height": 313
        },
        "id": "nFv8RsLQQX1a",
        "outputId": "9b70d8a3-2af6-4296-a0b3-e726097631b8"
      },
      "source": [
        "df.tail()"
      ],
      "execution_count": null,
      "outputs": [
        {
          "output_type": "execute_result",
          "data": {
            "text/html": [
              "<div>\n",
              "<style scoped>\n",
              "    .dataframe tbody tr th:only-of-type {\n",
              "        vertical-align: middle;\n",
              "    }\n",
              "\n",
              "    .dataframe tbody tr th {\n",
              "        vertical-align: top;\n",
              "    }\n",
              "\n",
              "    .dataframe thead th {\n",
              "        text-align: right;\n",
              "    }\n",
              "</style>\n",
              "<table border=\"1\" class=\"dataframe\">\n",
              "  <thead>\n",
              "    <tr style=\"text-align: right;\">\n",
              "      <th></th>\n",
              "      <th>hotel</th>\n",
              "      <th>is_canceled</th>\n",
              "      <th>lead_time</th>\n",
              "      <th>arrival_date_year</th>\n",
              "      <th>arrival_date_month</th>\n",
              "      <th>arrival_date_week_number</th>\n",
              "      <th>arrival_date_day_of_month</th>\n",
              "      <th>stays_in_weekend_nights</th>\n",
              "      <th>stays_in_week_nights</th>\n",
              "      <th>adults</th>\n",
              "      <th>children</th>\n",
              "      <th>babies</th>\n",
              "      <th>meal</th>\n",
              "      <th>country</th>\n",
              "      <th>market_segment</th>\n",
              "      <th>distribution_channel</th>\n",
              "      <th>is_repeated_guest</th>\n",
              "      <th>previous_cancellations</th>\n",
              "      <th>previous_bookings_not_canceled</th>\n",
              "      <th>reserved_room_type</th>\n",
              "      <th>assigned_room_type</th>\n",
              "      <th>booking_changes</th>\n",
              "      <th>deposit_type</th>\n",
              "      <th>agent</th>\n",
              "      <th>company</th>\n",
              "      <th>days_in_waiting_list</th>\n",
              "      <th>customer_type</th>\n",
              "      <th>adr</th>\n",
              "      <th>required_car_parking_spaces</th>\n",
              "      <th>total_of_special_requests</th>\n",
              "      <th>reservation_status</th>\n",
              "      <th>reservation_status_date</th>\n",
              "    </tr>\n",
              "  </thead>\n",
              "  <tbody>\n",
              "    <tr>\n",
              "      <th>119385</th>\n",
              "      <td>City Hotel</td>\n",
              "      <td>0</td>\n",
              "      <td>23</td>\n",
              "      <td>2017</td>\n",
              "      <td>August</td>\n",
              "      <td>35</td>\n",
              "      <td>30</td>\n",
              "      <td>2</td>\n",
              "      <td>5</td>\n",
              "      <td>2</td>\n",
              "      <td>0.0</td>\n",
              "      <td>0</td>\n",
              "      <td>BB</td>\n",
              "      <td>BEL</td>\n",
              "      <td>Offline TA/TO</td>\n",
              "      <td>TA/TO</td>\n",
              "      <td>0</td>\n",
              "      <td>0</td>\n",
              "      <td>0</td>\n",
              "      <td>A</td>\n",
              "      <td>A</td>\n",
              "      <td>0</td>\n",
              "      <td>No Deposit</td>\n",
              "      <td>394.0</td>\n",
              "      <td>NaN</td>\n",
              "      <td>0</td>\n",
              "      <td>Transient</td>\n",
              "      <td>96.14</td>\n",
              "      <td>0</td>\n",
              "      <td>0</td>\n",
              "      <td>Check-Out</td>\n",
              "      <td>2017-09-06</td>\n",
              "    </tr>\n",
              "    <tr>\n",
              "      <th>119386</th>\n",
              "      <td>City Hotel</td>\n",
              "      <td>0</td>\n",
              "      <td>102</td>\n",
              "      <td>2017</td>\n",
              "      <td>August</td>\n",
              "      <td>35</td>\n",
              "      <td>31</td>\n",
              "      <td>2</td>\n",
              "      <td>5</td>\n",
              "      <td>3</td>\n",
              "      <td>0.0</td>\n",
              "      <td>0</td>\n",
              "      <td>BB</td>\n",
              "      <td>FRA</td>\n",
              "      <td>Online TA</td>\n",
              "      <td>TA/TO</td>\n",
              "      <td>0</td>\n",
              "      <td>0</td>\n",
              "      <td>0</td>\n",
              "      <td>E</td>\n",
              "      <td>E</td>\n",
              "      <td>0</td>\n",
              "      <td>No Deposit</td>\n",
              "      <td>9.0</td>\n",
              "      <td>NaN</td>\n",
              "      <td>0</td>\n",
              "      <td>Transient</td>\n",
              "      <td>225.43</td>\n",
              "      <td>0</td>\n",
              "      <td>2</td>\n",
              "      <td>Check-Out</td>\n",
              "      <td>2017-09-07</td>\n",
              "    </tr>\n",
              "    <tr>\n",
              "      <th>119387</th>\n",
              "      <td>City Hotel</td>\n",
              "      <td>0</td>\n",
              "      <td>34</td>\n",
              "      <td>2017</td>\n",
              "      <td>August</td>\n",
              "      <td>35</td>\n",
              "      <td>31</td>\n",
              "      <td>2</td>\n",
              "      <td>5</td>\n",
              "      <td>2</td>\n",
              "      <td>0.0</td>\n",
              "      <td>0</td>\n",
              "      <td>BB</td>\n",
              "      <td>DEU</td>\n",
              "      <td>Online TA</td>\n",
              "      <td>TA/TO</td>\n",
              "      <td>0</td>\n",
              "      <td>0</td>\n",
              "      <td>0</td>\n",
              "      <td>D</td>\n",
              "      <td>D</td>\n",
              "      <td>0</td>\n",
              "      <td>No Deposit</td>\n",
              "      <td>9.0</td>\n",
              "      <td>NaN</td>\n",
              "      <td>0</td>\n",
              "      <td>Transient</td>\n",
              "      <td>157.71</td>\n",
              "      <td>0</td>\n",
              "      <td>4</td>\n",
              "      <td>Check-Out</td>\n",
              "      <td>2017-09-07</td>\n",
              "    </tr>\n",
              "    <tr>\n",
              "      <th>119388</th>\n",
              "      <td>City Hotel</td>\n",
              "      <td>0</td>\n",
              "      <td>109</td>\n",
              "      <td>2017</td>\n",
              "      <td>August</td>\n",
              "      <td>35</td>\n",
              "      <td>31</td>\n",
              "      <td>2</td>\n",
              "      <td>5</td>\n",
              "      <td>2</td>\n",
              "      <td>0.0</td>\n",
              "      <td>0</td>\n",
              "      <td>BB</td>\n",
              "      <td>GBR</td>\n",
              "      <td>Online TA</td>\n",
              "      <td>TA/TO</td>\n",
              "      <td>0</td>\n",
              "      <td>0</td>\n",
              "      <td>0</td>\n",
              "      <td>A</td>\n",
              "      <td>A</td>\n",
              "      <td>0</td>\n",
              "      <td>No Deposit</td>\n",
              "      <td>89.0</td>\n",
              "      <td>NaN</td>\n",
              "      <td>0</td>\n",
              "      <td>Transient</td>\n",
              "      <td>104.40</td>\n",
              "      <td>0</td>\n",
              "      <td>0</td>\n",
              "      <td>Check-Out</td>\n",
              "      <td>2017-09-07</td>\n",
              "    </tr>\n",
              "    <tr>\n",
              "      <th>119389</th>\n",
              "      <td>City Hotel</td>\n",
              "      <td>0</td>\n",
              "      <td>205</td>\n",
              "      <td>2017</td>\n",
              "      <td>August</td>\n",
              "      <td>35</td>\n",
              "      <td>29</td>\n",
              "      <td>2</td>\n",
              "      <td>7</td>\n",
              "      <td>2</td>\n",
              "      <td>0.0</td>\n",
              "      <td>0</td>\n",
              "      <td>HB</td>\n",
              "      <td>DEU</td>\n",
              "      <td>Online TA</td>\n",
              "      <td>TA/TO</td>\n",
              "      <td>0</td>\n",
              "      <td>0</td>\n",
              "      <td>0</td>\n",
              "      <td>A</td>\n",
              "      <td>A</td>\n",
              "      <td>0</td>\n",
              "      <td>No Deposit</td>\n",
              "      <td>9.0</td>\n",
              "      <td>NaN</td>\n",
              "      <td>0</td>\n",
              "      <td>Transient</td>\n",
              "      <td>151.20</td>\n",
              "      <td>0</td>\n",
              "      <td>2</td>\n",
              "      <td>Check-Out</td>\n",
              "      <td>2017-09-07</td>\n",
              "    </tr>\n",
              "  </tbody>\n",
              "</table>\n",
              "</div>"
            ],
            "text/plain": [
              "             hotel  is_canceled  ...  reservation_status  reservation_status_date\n",
              "119385  City Hotel            0  ...           Check-Out               2017-09-06\n",
              "119386  City Hotel            0  ...           Check-Out               2017-09-07\n",
              "119387  City Hotel            0  ...           Check-Out               2017-09-07\n",
              "119388  City Hotel            0  ...           Check-Out               2017-09-07\n",
              "119389  City Hotel            0  ...           Check-Out               2017-09-07\n",
              "\n",
              "[5 rows x 32 columns]"
            ]
          },
          "metadata": {
            "tags": []
          },
          "execution_count": 7
        }
      ]
    },
    {
      "cell_type": "markdown",
      "metadata": {
        "id": "wnRPZvZnQgci"
      },
      "source": [
        "# Checking for null values"
      ]
    },
    {
      "cell_type": "code",
      "metadata": {
        "colab": {
          "base_uri": "https://localhost:8080/"
        },
        "id": "t56uJoFx1KQi",
        "outputId": "8e7a4cf5-c942-46a1-bfb9-2f6c0b9b8fcc"
      },
      "source": [
        "df.info()"
      ],
      "execution_count": null,
      "outputs": [
        {
          "output_type": "stream",
          "text": [
            "<class 'pandas.core.frame.DataFrame'>\n",
            "RangeIndex: 119390 entries, 0 to 119389\n",
            "Data columns (total 32 columns):\n",
            " #   Column                          Non-Null Count   Dtype  \n",
            "---  ------                          --------------   -----  \n",
            " 0   hotel                           119390 non-null  object \n",
            " 1   is_canceled                     119390 non-null  int64  \n",
            " 2   lead_time                       119390 non-null  int64  \n",
            " 3   arrival_date_year               119390 non-null  int64  \n",
            " 4   arrival_date_month              119390 non-null  object \n",
            " 5   arrival_date_week_number        119390 non-null  int64  \n",
            " 6   arrival_date_day_of_month       119390 non-null  int64  \n",
            " 7   stays_in_weekend_nights         119390 non-null  int64  \n",
            " 8   stays_in_week_nights            119390 non-null  int64  \n",
            " 9   adults                          119390 non-null  int64  \n",
            " 10  children                        119386 non-null  float64\n",
            " 11  babies                          119390 non-null  int64  \n",
            " 12  meal                            119390 non-null  object \n",
            " 13  country                         118902 non-null  object \n",
            " 14  market_segment                  119390 non-null  object \n",
            " 15  distribution_channel            119390 non-null  object \n",
            " 16  is_repeated_guest               119390 non-null  int64  \n",
            " 17  previous_cancellations          119390 non-null  int64  \n",
            " 18  previous_bookings_not_canceled  119390 non-null  int64  \n",
            " 19  reserved_room_type              119390 non-null  object \n",
            " 20  assigned_room_type              119390 non-null  object \n",
            " 21  booking_changes                 119390 non-null  int64  \n",
            " 22  deposit_type                    119390 non-null  object \n",
            " 23  agent                           103050 non-null  float64\n",
            " 24  company                         6797 non-null    float64\n",
            " 25  days_in_waiting_list            119390 non-null  int64  \n",
            " 26  customer_type                   119390 non-null  object \n",
            " 27  adr                             119390 non-null  float64\n",
            " 28  required_car_parking_spaces     119390 non-null  int64  \n",
            " 29  total_of_special_requests       119390 non-null  int64  \n",
            " 30  reservation_status              119390 non-null  object \n",
            " 31  reservation_status_date         119390 non-null  object \n",
            "dtypes: float64(4), int64(16), object(12)\n",
            "memory usage: 29.1+ MB\n"
          ],
          "name": "stdout"
        }
      ]
    },
    {
      "cell_type": "code",
      "metadata": {
        "colab": {
          "base_uri": "https://localhost:8080/",
          "height": 1000
        },
        "id": "e_ENBp1f2VAE",
        "outputId": "6f26c612-30b2-4ad4-ae50-9bc61b5fbc01"
      },
      "source": [
        "# checking for null values \n",
        "\n",
        "null = pd.DataFrame({'Null Values' : df.isna().sum(), 'Percentage Null Values' : (df.isna().sum()) / (df.shape[0]) * (100)})\n",
        "null"
      ],
      "execution_count": null,
      "outputs": [
        {
          "output_type": "execute_result",
          "data": {
            "text/html": [
              "<div>\n",
              "<style scoped>\n",
              "    .dataframe tbody tr th:only-of-type {\n",
              "        vertical-align: middle;\n",
              "    }\n",
              "\n",
              "    .dataframe tbody tr th {\n",
              "        vertical-align: top;\n",
              "    }\n",
              "\n",
              "    .dataframe thead th {\n",
              "        text-align: right;\n",
              "    }\n",
              "</style>\n",
              "<table border=\"1\" class=\"dataframe\">\n",
              "  <thead>\n",
              "    <tr style=\"text-align: right;\">\n",
              "      <th></th>\n",
              "      <th>Null Values</th>\n",
              "      <th>Percentage Null Values</th>\n",
              "    </tr>\n",
              "  </thead>\n",
              "  <tbody>\n",
              "    <tr>\n",
              "      <th>hotel</th>\n",
              "      <td>0</td>\n",
              "      <td>0.000000</td>\n",
              "    </tr>\n",
              "    <tr>\n",
              "      <th>is_canceled</th>\n",
              "      <td>0</td>\n",
              "      <td>0.000000</td>\n",
              "    </tr>\n",
              "    <tr>\n",
              "      <th>lead_time</th>\n",
              "      <td>0</td>\n",
              "      <td>0.000000</td>\n",
              "    </tr>\n",
              "    <tr>\n",
              "      <th>arrival_date_year</th>\n",
              "      <td>0</td>\n",
              "      <td>0.000000</td>\n",
              "    </tr>\n",
              "    <tr>\n",
              "      <th>arrival_date_month</th>\n",
              "      <td>0</td>\n",
              "      <td>0.000000</td>\n",
              "    </tr>\n",
              "    <tr>\n",
              "      <th>arrival_date_week_number</th>\n",
              "      <td>0</td>\n",
              "      <td>0.000000</td>\n",
              "    </tr>\n",
              "    <tr>\n",
              "      <th>arrival_date_day_of_month</th>\n",
              "      <td>0</td>\n",
              "      <td>0.000000</td>\n",
              "    </tr>\n",
              "    <tr>\n",
              "      <th>stays_in_weekend_nights</th>\n",
              "      <td>0</td>\n",
              "      <td>0.000000</td>\n",
              "    </tr>\n",
              "    <tr>\n",
              "      <th>stays_in_week_nights</th>\n",
              "      <td>0</td>\n",
              "      <td>0.000000</td>\n",
              "    </tr>\n",
              "    <tr>\n",
              "      <th>adults</th>\n",
              "      <td>0</td>\n",
              "      <td>0.000000</td>\n",
              "    </tr>\n",
              "    <tr>\n",
              "      <th>children</th>\n",
              "      <td>4</td>\n",
              "      <td>0.003350</td>\n",
              "    </tr>\n",
              "    <tr>\n",
              "      <th>babies</th>\n",
              "      <td>0</td>\n",
              "      <td>0.000000</td>\n",
              "    </tr>\n",
              "    <tr>\n",
              "      <th>meal</th>\n",
              "      <td>0</td>\n",
              "      <td>0.000000</td>\n",
              "    </tr>\n",
              "    <tr>\n",
              "      <th>country</th>\n",
              "      <td>488</td>\n",
              "      <td>0.408744</td>\n",
              "    </tr>\n",
              "    <tr>\n",
              "      <th>market_segment</th>\n",
              "      <td>0</td>\n",
              "      <td>0.000000</td>\n",
              "    </tr>\n",
              "    <tr>\n",
              "      <th>distribution_channel</th>\n",
              "      <td>0</td>\n",
              "      <td>0.000000</td>\n",
              "    </tr>\n",
              "    <tr>\n",
              "      <th>is_repeated_guest</th>\n",
              "      <td>0</td>\n",
              "      <td>0.000000</td>\n",
              "    </tr>\n",
              "    <tr>\n",
              "      <th>previous_cancellations</th>\n",
              "      <td>0</td>\n",
              "      <td>0.000000</td>\n",
              "    </tr>\n",
              "    <tr>\n",
              "      <th>previous_bookings_not_canceled</th>\n",
              "      <td>0</td>\n",
              "      <td>0.000000</td>\n",
              "    </tr>\n",
              "    <tr>\n",
              "      <th>reserved_room_type</th>\n",
              "      <td>0</td>\n",
              "      <td>0.000000</td>\n",
              "    </tr>\n",
              "    <tr>\n",
              "      <th>assigned_room_type</th>\n",
              "      <td>0</td>\n",
              "      <td>0.000000</td>\n",
              "    </tr>\n",
              "    <tr>\n",
              "      <th>booking_changes</th>\n",
              "      <td>0</td>\n",
              "      <td>0.000000</td>\n",
              "    </tr>\n",
              "    <tr>\n",
              "      <th>deposit_type</th>\n",
              "      <td>0</td>\n",
              "      <td>0.000000</td>\n",
              "    </tr>\n",
              "    <tr>\n",
              "      <th>agent</th>\n",
              "      <td>16340</td>\n",
              "      <td>13.686238</td>\n",
              "    </tr>\n",
              "    <tr>\n",
              "      <th>company</th>\n",
              "      <td>112593</td>\n",
              "      <td>94.306893</td>\n",
              "    </tr>\n",
              "    <tr>\n",
              "      <th>days_in_waiting_list</th>\n",
              "      <td>0</td>\n",
              "      <td>0.000000</td>\n",
              "    </tr>\n",
              "    <tr>\n",
              "      <th>customer_type</th>\n",
              "      <td>0</td>\n",
              "      <td>0.000000</td>\n",
              "    </tr>\n",
              "    <tr>\n",
              "      <th>adr</th>\n",
              "      <td>0</td>\n",
              "      <td>0.000000</td>\n",
              "    </tr>\n",
              "    <tr>\n",
              "      <th>required_car_parking_spaces</th>\n",
              "      <td>0</td>\n",
              "      <td>0.000000</td>\n",
              "    </tr>\n",
              "    <tr>\n",
              "      <th>total_of_special_requests</th>\n",
              "      <td>0</td>\n",
              "      <td>0.000000</td>\n",
              "    </tr>\n",
              "    <tr>\n",
              "      <th>reservation_status</th>\n",
              "      <td>0</td>\n",
              "      <td>0.000000</td>\n",
              "    </tr>\n",
              "    <tr>\n",
              "      <th>reservation_status_date</th>\n",
              "      <td>0</td>\n",
              "      <td>0.000000</td>\n",
              "    </tr>\n",
              "  </tbody>\n",
              "</table>\n",
              "</div>"
            ],
            "text/plain": [
              "                                Null Values  Percentage Null Values\n",
              "hotel                                     0                0.000000\n",
              "is_canceled                               0                0.000000\n",
              "lead_time                                 0                0.000000\n",
              "arrival_date_year                         0                0.000000\n",
              "arrival_date_month                        0                0.000000\n",
              "arrival_date_week_number                  0                0.000000\n",
              "arrival_date_day_of_month                 0                0.000000\n",
              "stays_in_weekend_nights                   0                0.000000\n",
              "stays_in_week_nights                      0                0.000000\n",
              "adults                                    0                0.000000\n",
              "children                                  4                0.003350\n",
              "babies                                    0                0.000000\n",
              "meal                                      0                0.000000\n",
              "country                                 488                0.408744\n",
              "market_segment                            0                0.000000\n",
              "distribution_channel                      0                0.000000\n",
              "is_repeated_guest                         0                0.000000\n",
              "previous_cancellations                    0                0.000000\n",
              "previous_bookings_not_canceled            0                0.000000\n",
              "reserved_room_type                        0                0.000000\n",
              "assigned_room_type                        0                0.000000\n",
              "booking_changes                           0                0.000000\n",
              "deposit_type                              0                0.000000\n",
              "agent                                 16340               13.686238\n",
              "company                              112593               94.306893\n",
              "days_in_waiting_list                      0                0.000000\n",
              "customer_type                             0                0.000000\n",
              "adr                                       0                0.000000\n",
              "required_car_parking_spaces               0                0.000000\n",
              "total_of_special_requests                 0                0.000000\n",
              "reservation_status                        0                0.000000\n",
              "reservation_status_date                   0                0.000000"
            ]
          },
          "metadata": {
            "tags": []
          },
          "execution_count": 9
        }
      ]
    },
    {
      "cell_type": "code",
      "metadata": {
        "colab": {
          "base_uri": "https://localhost:8080/",
          "height": 320
        },
        "id": "LcXWzX0hBlxj",
        "outputId": "1b191662-6ae6-4c63-9953-5d68ea669cb5"
      },
      "source": [
        "df.describe()"
      ],
      "execution_count": null,
      "outputs": [
        {
          "output_type": "execute_result",
          "data": {
            "text/html": [
              "<div>\n",
              "<style scoped>\n",
              "    .dataframe tbody tr th:only-of-type {\n",
              "        vertical-align: middle;\n",
              "    }\n",
              "\n",
              "    .dataframe tbody tr th {\n",
              "        vertical-align: top;\n",
              "    }\n",
              "\n",
              "    .dataframe thead th {\n",
              "        text-align: right;\n",
              "    }\n",
              "</style>\n",
              "<table border=\"1\" class=\"dataframe\">\n",
              "  <thead>\n",
              "    <tr style=\"text-align: right;\">\n",
              "      <th></th>\n",
              "      <th>is_canceled</th>\n",
              "      <th>lead_time</th>\n",
              "      <th>arrival_date_year</th>\n",
              "      <th>arrival_date_week_number</th>\n",
              "      <th>arrival_date_day_of_month</th>\n",
              "      <th>stays_in_weekend_nights</th>\n",
              "      <th>stays_in_week_nights</th>\n",
              "      <th>adults</th>\n",
              "      <th>children</th>\n",
              "      <th>babies</th>\n",
              "      <th>is_repeated_guest</th>\n",
              "      <th>previous_cancellations</th>\n",
              "      <th>previous_bookings_not_canceled</th>\n",
              "      <th>booking_changes</th>\n",
              "      <th>agent</th>\n",
              "      <th>company</th>\n",
              "      <th>days_in_waiting_list</th>\n",
              "      <th>adr</th>\n",
              "      <th>required_car_parking_spaces</th>\n",
              "      <th>total_of_special_requests</th>\n",
              "    </tr>\n",
              "  </thead>\n",
              "  <tbody>\n",
              "    <tr>\n",
              "      <th>count</th>\n",
              "      <td>119390.000000</td>\n",
              "      <td>119390.000000</td>\n",
              "      <td>119390.000000</td>\n",
              "      <td>119390.000000</td>\n",
              "      <td>119390.000000</td>\n",
              "      <td>119390.000000</td>\n",
              "      <td>119390.000000</td>\n",
              "      <td>119390.000000</td>\n",
              "      <td>119386.000000</td>\n",
              "      <td>119390.000000</td>\n",
              "      <td>119390.000000</td>\n",
              "      <td>119390.000000</td>\n",
              "      <td>119390.000000</td>\n",
              "      <td>119390.000000</td>\n",
              "      <td>103050.000000</td>\n",
              "      <td>6797.000000</td>\n",
              "      <td>119390.000000</td>\n",
              "      <td>119390.000000</td>\n",
              "      <td>119390.000000</td>\n",
              "      <td>119390.000000</td>\n",
              "    </tr>\n",
              "    <tr>\n",
              "      <th>mean</th>\n",
              "      <td>0.370416</td>\n",
              "      <td>104.011416</td>\n",
              "      <td>2016.156554</td>\n",
              "      <td>27.165173</td>\n",
              "      <td>15.798241</td>\n",
              "      <td>0.927599</td>\n",
              "      <td>2.500302</td>\n",
              "      <td>1.856403</td>\n",
              "      <td>0.103890</td>\n",
              "      <td>0.007949</td>\n",
              "      <td>0.031912</td>\n",
              "      <td>0.087118</td>\n",
              "      <td>0.137097</td>\n",
              "      <td>0.221124</td>\n",
              "      <td>86.693382</td>\n",
              "      <td>189.266735</td>\n",
              "      <td>2.321149</td>\n",
              "      <td>101.831122</td>\n",
              "      <td>0.062518</td>\n",
              "      <td>0.571363</td>\n",
              "    </tr>\n",
              "    <tr>\n",
              "      <th>std</th>\n",
              "      <td>0.482918</td>\n",
              "      <td>106.863097</td>\n",
              "      <td>0.707476</td>\n",
              "      <td>13.605138</td>\n",
              "      <td>8.780829</td>\n",
              "      <td>0.998613</td>\n",
              "      <td>1.908286</td>\n",
              "      <td>0.579261</td>\n",
              "      <td>0.398561</td>\n",
              "      <td>0.097436</td>\n",
              "      <td>0.175767</td>\n",
              "      <td>0.844336</td>\n",
              "      <td>1.497437</td>\n",
              "      <td>0.652306</td>\n",
              "      <td>110.774548</td>\n",
              "      <td>131.655015</td>\n",
              "      <td>17.594721</td>\n",
              "      <td>50.535790</td>\n",
              "      <td>0.245291</td>\n",
              "      <td>0.792798</td>\n",
              "    </tr>\n",
              "    <tr>\n",
              "      <th>min</th>\n",
              "      <td>0.000000</td>\n",
              "      <td>0.000000</td>\n",
              "      <td>2015.000000</td>\n",
              "      <td>1.000000</td>\n",
              "      <td>1.000000</td>\n",
              "      <td>0.000000</td>\n",
              "      <td>0.000000</td>\n",
              "      <td>0.000000</td>\n",
              "      <td>0.000000</td>\n",
              "      <td>0.000000</td>\n",
              "      <td>0.000000</td>\n",
              "      <td>0.000000</td>\n",
              "      <td>0.000000</td>\n",
              "      <td>0.000000</td>\n",
              "      <td>1.000000</td>\n",
              "      <td>6.000000</td>\n",
              "      <td>0.000000</td>\n",
              "      <td>-6.380000</td>\n",
              "      <td>0.000000</td>\n",
              "      <td>0.000000</td>\n",
              "    </tr>\n",
              "    <tr>\n",
              "      <th>25%</th>\n",
              "      <td>0.000000</td>\n",
              "      <td>18.000000</td>\n",
              "      <td>2016.000000</td>\n",
              "      <td>16.000000</td>\n",
              "      <td>8.000000</td>\n",
              "      <td>0.000000</td>\n",
              "      <td>1.000000</td>\n",
              "      <td>2.000000</td>\n",
              "      <td>0.000000</td>\n",
              "      <td>0.000000</td>\n",
              "      <td>0.000000</td>\n",
              "      <td>0.000000</td>\n",
              "      <td>0.000000</td>\n",
              "      <td>0.000000</td>\n",
              "      <td>9.000000</td>\n",
              "      <td>62.000000</td>\n",
              "      <td>0.000000</td>\n",
              "      <td>69.290000</td>\n",
              "      <td>0.000000</td>\n",
              "      <td>0.000000</td>\n",
              "    </tr>\n",
              "    <tr>\n",
              "      <th>50%</th>\n",
              "      <td>0.000000</td>\n",
              "      <td>69.000000</td>\n",
              "      <td>2016.000000</td>\n",
              "      <td>28.000000</td>\n",
              "      <td>16.000000</td>\n",
              "      <td>1.000000</td>\n",
              "      <td>2.000000</td>\n",
              "      <td>2.000000</td>\n",
              "      <td>0.000000</td>\n",
              "      <td>0.000000</td>\n",
              "      <td>0.000000</td>\n",
              "      <td>0.000000</td>\n",
              "      <td>0.000000</td>\n",
              "      <td>0.000000</td>\n",
              "      <td>14.000000</td>\n",
              "      <td>179.000000</td>\n",
              "      <td>0.000000</td>\n",
              "      <td>94.575000</td>\n",
              "      <td>0.000000</td>\n",
              "      <td>0.000000</td>\n",
              "    </tr>\n",
              "    <tr>\n",
              "      <th>75%</th>\n",
              "      <td>1.000000</td>\n",
              "      <td>160.000000</td>\n",
              "      <td>2017.000000</td>\n",
              "      <td>38.000000</td>\n",
              "      <td>23.000000</td>\n",
              "      <td>2.000000</td>\n",
              "      <td>3.000000</td>\n",
              "      <td>2.000000</td>\n",
              "      <td>0.000000</td>\n",
              "      <td>0.000000</td>\n",
              "      <td>0.000000</td>\n",
              "      <td>0.000000</td>\n",
              "      <td>0.000000</td>\n",
              "      <td>0.000000</td>\n",
              "      <td>229.000000</td>\n",
              "      <td>270.000000</td>\n",
              "      <td>0.000000</td>\n",
              "      <td>126.000000</td>\n",
              "      <td>0.000000</td>\n",
              "      <td>1.000000</td>\n",
              "    </tr>\n",
              "    <tr>\n",
              "      <th>max</th>\n",
              "      <td>1.000000</td>\n",
              "      <td>737.000000</td>\n",
              "      <td>2017.000000</td>\n",
              "      <td>53.000000</td>\n",
              "      <td>31.000000</td>\n",
              "      <td>19.000000</td>\n",
              "      <td>50.000000</td>\n",
              "      <td>55.000000</td>\n",
              "      <td>10.000000</td>\n",
              "      <td>10.000000</td>\n",
              "      <td>1.000000</td>\n",
              "      <td>26.000000</td>\n",
              "      <td>72.000000</td>\n",
              "      <td>21.000000</td>\n",
              "      <td>535.000000</td>\n",
              "      <td>543.000000</td>\n",
              "      <td>391.000000</td>\n",
              "      <td>5400.000000</td>\n",
              "      <td>8.000000</td>\n",
              "      <td>5.000000</td>\n",
              "    </tr>\n",
              "  </tbody>\n",
              "</table>\n",
              "</div>"
            ],
            "text/plain": [
              "         is_canceled  ...  total_of_special_requests\n",
              "count  119390.000000  ...              119390.000000\n",
              "mean        0.370416  ...                   0.571363\n",
              "std         0.482918  ...                   0.792798\n",
              "min         0.000000  ...                   0.000000\n",
              "25%         0.000000  ...                   0.000000\n",
              "50%         0.000000  ...                   0.000000\n",
              "75%         1.000000  ...                   1.000000\n",
              "max         1.000000  ...                   5.000000\n",
              "\n",
              "[8 rows x 20 columns]"
            ]
          },
          "metadata": {
            "tags": []
          },
          "execution_count": 10
        }
      ]
    },
    {
      "cell_type": "markdown",
      "metadata": {
        "id": "gGkfIU0dQzjG"
      },
      "source": [
        "# Cleaning data\n",
        "\n",
        "- Dropping unnecessary data for analysis\n",
        "- Replacing null data with appropriate values"
      ]
    },
    {
      "cell_type": "code",
      "metadata": {
        "id": "ud6vVEYkEH1M"
      },
      "source": [
        "#Dropping company coloumn from main dataset because it has 94% missing values\n",
        "company_df = df.drop(['company'], axis = 1,inplace=True)"
      ],
      "execution_count": null,
      "outputs": []
    },
    {
      "cell_type": "code",
      "metadata": {
        "id": "Xw6TlRoZdEwk"
      },
      "source": [
        "agent_df=df.drop(['agent'], axis = 1,inplace=True)"
      ],
      "execution_count": null,
      "outputs": []
    },
    {
      "cell_type": "code",
      "metadata": {
        "colab": {
          "base_uri": "https://localhost:8080/",
          "height": 633
        },
        "id": "OAaVGavwl5Au",
        "outputId": "7923d17a-695a-4e2e-d533-d9b63b2eac49"
      },
      "source": [
        "# checking correlation\n",
        "df.corr()"
      ],
      "execution_count": null,
      "outputs": [
        {
          "output_type": "execute_result",
          "data": {
            "text/html": [
              "<div>\n",
              "<style scoped>\n",
              "    .dataframe tbody tr th:only-of-type {\n",
              "        vertical-align: middle;\n",
              "    }\n",
              "\n",
              "    .dataframe tbody tr th {\n",
              "        vertical-align: top;\n",
              "    }\n",
              "\n",
              "    .dataframe thead th {\n",
              "        text-align: right;\n",
              "    }\n",
              "</style>\n",
              "<table border=\"1\" class=\"dataframe\">\n",
              "  <thead>\n",
              "    <tr style=\"text-align: right;\">\n",
              "      <th></th>\n",
              "      <th>is_canceled</th>\n",
              "      <th>lead_time</th>\n",
              "      <th>arrival_date_year</th>\n",
              "      <th>arrival_date_week_number</th>\n",
              "      <th>arrival_date_day_of_month</th>\n",
              "      <th>stays_in_weekend_nights</th>\n",
              "      <th>stays_in_week_nights</th>\n",
              "      <th>adults</th>\n",
              "      <th>children</th>\n",
              "      <th>babies</th>\n",
              "      <th>is_repeated_guest</th>\n",
              "      <th>previous_cancellations</th>\n",
              "      <th>previous_bookings_not_canceled</th>\n",
              "      <th>booking_changes</th>\n",
              "      <th>days_in_waiting_list</th>\n",
              "      <th>adr</th>\n",
              "      <th>required_car_parking_spaces</th>\n",
              "      <th>total_of_special_requests</th>\n",
              "    </tr>\n",
              "  </thead>\n",
              "  <tbody>\n",
              "    <tr>\n",
              "      <th>is_canceled</th>\n",
              "      <td>1.000000</td>\n",
              "      <td>0.293123</td>\n",
              "      <td>0.016660</td>\n",
              "      <td>0.008148</td>\n",
              "      <td>-0.006130</td>\n",
              "      <td>-0.001791</td>\n",
              "      <td>0.024765</td>\n",
              "      <td>0.060017</td>\n",
              "      <td>0.005048</td>\n",
              "      <td>-0.032491</td>\n",
              "      <td>-0.084793</td>\n",
              "      <td>0.110133</td>\n",
              "      <td>-0.057358</td>\n",
              "      <td>-0.144381</td>\n",
              "      <td>0.054186</td>\n",
              "      <td>0.047557</td>\n",
              "      <td>-0.195498</td>\n",
              "      <td>-0.234658</td>\n",
              "    </tr>\n",
              "    <tr>\n",
              "      <th>lead_time</th>\n",
              "      <td>0.293123</td>\n",
              "      <td>1.000000</td>\n",
              "      <td>0.040142</td>\n",
              "      <td>0.126871</td>\n",
              "      <td>0.002268</td>\n",
              "      <td>0.085671</td>\n",
              "      <td>0.165799</td>\n",
              "      <td>0.119519</td>\n",
              "      <td>-0.037622</td>\n",
              "      <td>-0.020915</td>\n",
              "      <td>-0.124410</td>\n",
              "      <td>0.086042</td>\n",
              "      <td>-0.073548</td>\n",
              "      <td>0.000149</td>\n",
              "      <td>0.170084</td>\n",
              "      <td>-0.063077</td>\n",
              "      <td>-0.116451</td>\n",
              "      <td>-0.095712</td>\n",
              "    </tr>\n",
              "    <tr>\n",
              "      <th>arrival_date_year</th>\n",
              "      <td>0.016660</td>\n",
              "      <td>0.040142</td>\n",
              "      <td>1.000000</td>\n",
              "      <td>-0.540561</td>\n",
              "      <td>-0.000221</td>\n",
              "      <td>0.021497</td>\n",
              "      <td>0.030883</td>\n",
              "      <td>0.029635</td>\n",
              "      <td>0.054624</td>\n",
              "      <td>-0.013192</td>\n",
              "      <td>0.010341</td>\n",
              "      <td>-0.119822</td>\n",
              "      <td>0.029218</td>\n",
              "      <td>0.030872</td>\n",
              "      <td>-0.056497</td>\n",
              "      <td>0.197580</td>\n",
              "      <td>-0.013684</td>\n",
              "      <td>0.108531</td>\n",
              "    </tr>\n",
              "    <tr>\n",
              "      <th>arrival_date_week_number</th>\n",
              "      <td>0.008148</td>\n",
              "      <td>0.126871</td>\n",
              "      <td>-0.540561</td>\n",
              "      <td>1.000000</td>\n",
              "      <td>0.066809</td>\n",
              "      <td>0.018208</td>\n",
              "      <td>0.015558</td>\n",
              "      <td>0.025909</td>\n",
              "      <td>0.005518</td>\n",
              "      <td>0.010395</td>\n",
              "      <td>-0.030131</td>\n",
              "      <td>0.035501</td>\n",
              "      <td>-0.020904</td>\n",
              "      <td>0.005508</td>\n",
              "      <td>0.022933</td>\n",
              "      <td>0.075791</td>\n",
              "      <td>0.001920</td>\n",
              "      <td>0.026149</td>\n",
              "    </tr>\n",
              "    <tr>\n",
              "      <th>arrival_date_day_of_month</th>\n",
              "      <td>-0.006130</td>\n",
              "      <td>0.002268</td>\n",
              "      <td>-0.000221</td>\n",
              "      <td>0.066809</td>\n",
              "      <td>1.000000</td>\n",
              "      <td>-0.016354</td>\n",
              "      <td>-0.028174</td>\n",
              "      <td>-0.001566</td>\n",
              "      <td>0.014544</td>\n",
              "      <td>-0.000230</td>\n",
              "      <td>-0.006145</td>\n",
              "      <td>-0.027011</td>\n",
              "      <td>-0.000300</td>\n",
              "      <td>0.010613</td>\n",
              "      <td>0.022728</td>\n",
              "      <td>0.030245</td>\n",
              "      <td>0.008683</td>\n",
              "      <td>0.003062</td>\n",
              "    </tr>\n",
              "    <tr>\n",
              "      <th>stays_in_weekend_nights</th>\n",
              "      <td>-0.001791</td>\n",
              "      <td>0.085671</td>\n",
              "      <td>0.021497</td>\n",
              "      <td>0.018208</td>\n",
              "      <td>-0.016354</td>\n",
              "      <td>1.000000</td>\n",
              "      <td>0.498969</td>\n",
              "      <td>0.091871</td>\n",
              "      <td>0.045793</td>\n",
              "      <td>0.018483</td>\n",
              "      <td>-0.087239</td>\n",
              "      <td>-0.012775</td>\n",
              "      <td>-0.042715</td>\n",
              "      <td>0.063281</td>\n",
              "      <td>-0.054151</td>\n",
              "      <td>0.049342</td>\n",
              "      <td>-0.018554</td>\n",
              "      <td>0.072671</td>\n",
              "    </tr>\n",
              "    <tr>\n",
              "      <th>stays_in_week_nights</th>\n",
              "      <td>0.024765</td>\n",
              "      <td>0.165799</td>\n",
              "      <td>0.030883</td>\n",
              "      <td>0.015558</td>\n",
              "      <td>-0.028174</td>\n",
              "      <td>0.498969</td>\n",
              "      <td>1.000000</td>\n",
              "      <td>0.092976</td>\n",
              "      <td>0.044203</td>\n",
              "      <td>0.020191</td>\n",
              "      <td>-0.097245</td>\n",
              "      <td>-0.013992</td>\n",
              "      <td>-0.048743</td>\n",
              "      <td>0.096209</td>\n",
              "      <td>-0.002020</td>\n",
              "      <td>0.065237</td>\n",
              "      <td>-0.024859</td>\n",
              "      <td>0.068192</td>\n",
              "    </tr>\n",
              "    <tr>\n",
              "      <th>adults</th>\n",
              "      <td>0.060017</td>\n",
              "      <td>0.119519</td>\n",
              "      <td>0.029635</td>\n",
              "      <td>0.025909</td>\n",
              "      <td>-0.001566</td>\n",
              "      <td>0.091871</td>\n",
              "      <td>0.092976</td>\n",
              "      <td>1.000000</td>\n",
              "      <td>0.030447</td>\n",
              "      <td>0.018146</td>\n",
              "      <td>-0.146426</td>\n",
              "      <td>-0.006738</td>\n",
              "      <td>-0.107983</td>\n",
              "      <td>-0.051673</td>\n",
              "      <td>-0.008283</td>\n",
              "      <td>0.230641</td>\n",
              "      <td>0.014785</td>\n",
              "      <td>0.122884</td>\n",
              "    </tr>\n",
              "    <tr>\n",
              "      <th>children</th>\n",
              "      <td>0.005048</td>\n",
              "      <td>-0.037622</td>\n",
              "      <td>0.054624</td>\n",
              "      <td>0.005518</td>\n",
              "      <td>0.014544</td>\n",
              "      <td>0.045793</td>\n",
              "      <td>0.044203</td>\n",
              "      <td>0.030447</td>\n",
              "      <td>1.000000</td>\n",
              "      <td>0.024030</td>\n",
              "      <td>-0.032859</td>\n",
              "      <td>-0.024730</td>\n",
              "      <td>-0.021072</td>\n",
              "      <td>0.048949</td>\n",
              "      <td>-0.033273</td>\n",
              "      <td>0.324854</td>\n",
              "      <td>0.056253</td>\n",
              "      <td>0.081745</td>\n",
              "    </tr>\n",
              "    <tr>\n",
              "      <th>babies</th>\n",
              "      <td>-0.032491</td>\n",
              "      <td>-0.020915</td>\n",
              "      <td>-0.013192</td>\n",
              "      <td>0.010395</td>\n",
              "      <td>-0.000230</td>\n",
              "      <td>0.018483</td>\n",
              "      <td>0.020191</td>\n",
              "      <td>0.018146</td>\n",
              "      <td>0.024030</td>\n",
              "      <td>1.000000</td>\n",
              "      <td>-0.008943</td>\n",
              "      <td>-0.007501</td>\n",
              "      <td>-0.006550</td>\n",
              "      <td>0.083440</td>\n",
              "      <td>-0.010621</td>\n",
              "      <td>0.029186</td>\n",
              "      <td>0.037383</td>\n",
              "      <td>0.097889</td>\n",
              "    </tr>\n",
              "    <tr>\n",
              "      <th>is_repeated_guest</th>\n",
              "      <td>-0.084793</td>\n",
              "      <td>-0.124410</td>\n",
              "      <td>0.010341</td>\n",
              "      <td>-0.030131</td>\n",
              "      <td>-0.006145</td>\n",
              "      <td>-0.087239</td>\n",
              "      <td>-0.097245</td>\n",
              "      <td>-0.146426</td>\n",
              "      <td>-0.032859</td>\n",
              "      <td>-0.008943</td>\n",
              "      <td>1.000000</td>\n",
              "      <td>0.082293</td>\n",
              "      <td>0.418056</td>\n",
              "      <td>0.012092</td>\n",
              "      <td>-0.022235</td>\n",
              "      <td>-0.134314</td>\n",
              "      <td>0.077090</td>\n",
              "      <td>0.013050</td>\n",
              "    </tr>\n",
              "    <tr>\n",
              "      <th>previous_cancellations</th>\n",
              "      <td>0.110133</td>\n",
              "      <td>0.086042</td>\n",
              "      <td>-0.119822</td>\n",
              "      <td>0.035501</td>\n",
              "      <td>-0.027011</td>\n",
              "      <td>-0.012775</td>\n",
              "      <td>-0.013992</td>\n",
              "      <td>-0.006738</td>\n",
              "      <td>-0.024730</td>\n",
              "      <td>-0.007501</td>\n",
              "      <td>0.082293</td>\n",
              "      <td>1.000000</td>\n",
              "      <td>0.152728</td>\n",
              "      <td>-0.026993</td>\n",
              "      <td>0.005929</td>\n",
              "      <td>-0.065646</td>\n",
              "      <td>-0.018492</td>\n",
              "      <td>-0.048384</td>\n",
              "    </tr>\n",
              "    <tr>\n",
              "      <th>previous_bookings_not_canceled</th>\n",
              "      <td>-0.057358</td>\n",
              "      <td>-0.073548</td>\n",
              "      <td>0.029218</td>\n",
              "      <td>-0.020904</td>\n",
              "      <td>-0.000300</td>\n",
              "      <td>-0.042715</td>\n",
              "      <td>-0.048743</td>\n",
              "      <td>-0.107983</td>\n",
              "      <td>-0.021072</td>\n",
              "      <td>-0.006550</td>\n",
              "      <td>0.418056</td>\n",
              "      <td>0.152728</td>\n",
              "      <td>1.000000</td>\n",
              "      <td>0.011608</td>\n",
              "      <td>-0.009397</td>\n",
              "      <td>-0.072144</td>\n",
              "      <td>0.047653</td>\n",
              "      <td>0.037824</td>\n",
              "    </tr>\n",
              "    <tr>\n",
              "      <th>booking_changes</th>\n",
              "      <td>-0.144381</td>\n",
              "      <td>0.000149</td>\n",
              "      <td>0.030872</td>\n",
              "      <td>0.005508</td>\n",
              "      <td>0.010613</td>\n",
              "      <td>0.063281</td>\n",
              "      <td>0.096209</td>\n",
              "      <td>-0.051673</td>\n",
              "      <td>0.048949</td>\n",
              "      <td>0.083440</td>\n",
              "      <td>0.012092</td>\n",
              "      <td>-0.026993</td>\n",
              "      <td>0.011608</td>\n",
              "      <td>1.000000</td>\n",
              "      <td>-0.011634</td>\n",
              "      <td>0.019618</td>\n",
              "      <td>0.065620</td>\n",
              "      <td>0.052833</td>\n",
              "    </tr>\n",
              "    <tr>\n",
              "      <th>days_in_waiting_list</th>\n",
              "      <td>0.054186</td>\n",
              "      <td>0.170084</td>\n",
              "      <td>-0.056497</td>\n",
              "      <td>0.022933</td>\n",
              "      <td>0.022728</td>\n",
              "      <td>-0.054151</td>\n",
              "      <td>-0.002020</td>\n",
              "      <td>-0.008283</td>\n",
              "      <td>-0.033273</td>\n",
              "      <td>-0.010621</td>\n",
              "      <td>-0.022235</td>\n",
              "      <td>0.005929</td>\n",
              "      <td>-0.009397</td>\n",
              "      <td>-0.011634</td>\n",
              "      <td>1.000000</td>\n",
              "      <td>-0.040756</td>\n",
              "      <td>-0.030600</td>\n",
              "      <td>-0.082730</td>\n",
              "    </tr>\n",
              "    <tr>\n",
              "      <th>adr</th>\n",
              "      <td>0.047557</td>\n",
              "      <td>-0.063077</td>\n",
              "      <td>0.197580</td>\n",
              "      <td>0.075791</td>\n",
              "      <td>0.030245</td>\n",
              "      <td>0.049342</td>\n",
              "      <td>0.065237</td>\n",
              "      <td>0.230641</td>\n",
              "      <td>0.324854</td>\n",
              "      <td>0.029186</td>\n",
              "      <td>-0.134314</td>\n",
              "      <td>-0.065646</td>\n",
              "      <td>-0.072144</td>\n",
              "      <td>0.019618</td>\n",
              "      <td>-0.040756</td>\n",
              "      <td>1.000000</td>\n",
              "      <td>0.056628</td>\n",
              "      <td>0.172185</td>\n",
              "    </tr>\n",
              "    <tr>\n",
              "      <th>required_car_parking_spaces</th>\n",
              "      <td>-0.195498</td>\n",
              "      <td>-0.116451</td>\n",
              "      <td>-0.013684</td>\n",
              "      <td>0.001920</td>\n",
              "      <td>0.008683</td>\n",
              "      <td>-0.018554</td>\n",
              "      <td>-0.024859</td>\n",
              "      <td>0.014785</td>\n",
              "      <td>0.056253</td>\n",
              "      <td>0.037383</td>\n",
              "      <td>0.077090</td>\n",
              "      <td>-0.018492</td>\n",
              "      <td>0.047653</td>\n",
              "      <td>0.065620</td>\n",
              "      <td>-0.030600</td>\n",
              "      <td>0.056628</td>\n",
              "      <td>1.000000</td>\n",
              "      <td>0.082626</td>\n",
              "    </tr>\n",
              "    <tr>\n",
              "      <th>total_of_special_requests</th>\n",
              "      <td>-0.234658</td>\n",
              "      <td>-0.095712</td>\n",
              "      <td>0.108531</td>\n",
              "      <td>0.026149</td>\n",
              "      <td>0.003062</td>\n",
              "      <td>0.072671</td>\n",
              "      <td>0.068192</td>\n",
              "      <td>0.122884</td>\n",
              "      <td>0.081745</td>\n",
              "      <td>0.097889</td>\n",
              "      <td>0.013050</td>\n",
              "      <td>-0.048384</td>\n",
              "      <td>0.037824</td>\n",
              "      <td>0.052833</td>\n",
              "      <td>-0.082730</td>\n",
              "      <td>0.172185</td>\n",
              "      <td>0.082626</td>\n",
              "      <td>1.000000</td>\n",
              "    </tr>\n",
              "  </tbody>\n",
              "</table>\n",
              "</div>"
            ],
            "text/plain": [
              "                                is_canceled  ...  total_of_special_requests\n",
              "is_canceled                        1.000000  ...                  -0.234658\n",
              "lead_time                          0.293123  ...                  -0.095712\n",
              "arrival_date_year                  0.016660  ...                   0.108531\n",
              "arrival_date_week_number           0.008148  ...                   0.026149\n",
              "arrival_date_day_of_month         -0.006130  ...                   0.003062\n",
              "stays_in_weekend_nights           -0.001791  ...                   0.072671\n",
              "stays_in_week_nights               0.024765  ...                   0.068192\n",
              "adults                             0.060017  ...                   0.122884\n",
              "children                           0.005048  ...                   0.081745\n",
              "babies                            -0.032491  ...                   0.097889\n",
              "is_repeated_guest                 -0.084793  ...                   0.013050\n",
              "previous_cancellations             0.110133  ...                  -0.048384\n",
              "previous_bookings_not_canceled    -0.057358  ...                   0.037824\n",
              "booking_changes                   -0.144381  ...                   0.052833\n",
              "days_in_waiting_list               0.054186  ...                  -0.082730\n",
              "adr                                0.047557  ...                   0.172185\n",
              "required_car_parking_spaces       -0.195498  ...                   0.082626\n",
              "total_of_special_requests         -0.234658  ...                   1.000000\n",
              "\n",
              "[18 rows x 18 columns]"
            ]
          },
          "metadata": {
            "tags": []
          },
          "execution_count": 13
        }
      ]
    },
    {
      "cell_type": "code",
      "metadata": {
        "colab": {
          "base_uri": "https://localhost:8080/"
        },
        "id": "2ai3AasMKNA9",
        "outputId": "ca206a6a-afdc-4501-c230-b47eba3482a3"
      },
      "source": [
        "df.info()"
      ],
      "execution_count": null,
      "outputs": [
        {
          "output_type": "stream",
          "text": [
            "<class 'pandas.core.frame.DataFrame'>\n",
            "RangeIndex: 119390 entries, 0 to 119389\n",
            "Data columns (total 30 columns):\n",
            " #   Column                          Non-Null Count   Dtype  \n",
            "---  ------                          --------------   -----  \n",
            " 0   hotel                           119390 non-null  object \n",
            " 1   is_canceled                     119390 non-null  int64  \n",
            " 2   lead_time                       119390 non-null  int64  \n",
            " 3   arrival_date_year               119390 non-null  int64  \n",
            " 4   arrival_date_month              119390 non-null  object \n",
            " 5   arrival_date_week_number        119390 non-null  int64  \n",
            " 6   arrival_date_day_of_month       119390 non-null  int64  \n",
            " 7   stays_in_weekend_nights         119390 non-null  int64  \n",
            " 8   stays_in_week_nights            119390 non-null  int64  \n",
            " 9   adults                          119390 non-null  int64  \n",
            " 10  children                        119386 non-null  float64\n",
            " 11  babies                          119390 non-null  int64  \n",
            " 12  meal                            119390 non-null  object \n",
            " 13  country                         118902 non-null  object \n",
            " 14  market_segment                  119390 non-null  object \n",
            " 15  distribution_channel            119390 non-null  object \n",
            " 16  is_repeated_guest               119390 non-null  int64  \n",
            " 17  previous_cancellations          119390 non-null  int64  \n",
            " 18  previous_bookings_not_canceled  119390 non-null  int64  \n",
            " 19  reserved_room_type              119390 non-null  object \n",
            " 20  assigned_room_type              119390 non-null  object \n",
            " 21  booking_changes                 119390 non-null  int64  \n",
            " 22  deposit_type                    119390 non-null  object \n",
            " 23  days_in_waiting_list            119390 non-null  int64  \n",
            " 24  customer_type                   119390 non-null  object \n",
            " 25  adr                             119390 non-null  float64\n",
            " 26  required_car_parking_spaces     119390 non-null  int64  \n",
            " 27  total_of_special_requests       119390 non-null  int64  \n",
            " 28  reservation_status              119390 non-null  object \n",
            " 29  reservation_status_date         119390 non-null  object \n",
            "dtypes: float64(2), int64(16), object(12)\n",
            "memory usage: 27.3+ MB\n"
          ],
          "name": "stdout"
        }
      ]
    },
    {
      "cell_type": "code",
      "metadata": {
        "colab": {
          "base_uri": "https://localhost:8080/"
        },
        "id": "YHhLAgSbLw4j",
        "outputId": "a9fd72c2-1d10-4d8e-a336-d31f3a43f7c8"
      },
      "source": [
        "# looking for total null in columns\n",
        "df.isnull().sum()"
      ],
      "execution_count": null,
      "outputs": [
        {
          "output_type": "execute_result",
          "data": {
            "text/plain": [
              "hotel                               0\n",
              "is_canceled                         0\n",
              "lead_time                           0\n",
              "arrival_date_year                   0\n",
              "arrival_date_month                  0\n",
              "arrival_date_week_number            0\n",
              "arrival_date_day_of_month           0\n",
              "stays_in_weekend_nights             0\n",
              "stays_in_week_nights                0\n",
              "adults                              0\n",
              "children                            4\n",
              "babies                              0\n",
              "meal                                0\n",
              "country                           488\n",
              "market_segment                      0\n",
              "distribution_channel                0\n",
              "is_repeated_guest                   0\n",
              "previous_cancellations              0\n",
              "previous_bookings_not_canceled      0\n",
              "reserved_room_type                  0\n",
              "assigned_room_type                  0\n",
              "booking_changes                     0\n",
              "deposit_type                        0\n",
              "days_in_waiting_list                0\n",
              "customer_type                       0\n",
              "adr                                 0\n",
              "required_car_parking_spaces         0\n",
              "total_of_special_requests           0\n",
              "reservation_status                  0\n",
              "reservation_status_date             0\n",
              "dtype: int64"
            ]
          },
          "metadata": {
            "tags": []
          },
          "execution_count": 15
        }
      ]
    },
    {
      "cell_type": "markdown",
      "metadata": {
        "id": "VGDyp6iZRfEI"
      },
      "source": [
        "## imputing missing data"
      ]
    },
    {
      "cell_type": "code",
      "metadata": {
        "id": "XHxsXcaTMD-N"
      },
      "source": [
        "# def a function to input data in to missing places\n",
        "def median_input(data_column):\n",
        "  return data_column.fillna(data_column.median())"
      ],
      "execution_count": null,
      "outputs": []
    },
    {
      "cell_type": "code",
      "metadata": {
        "id": "Qe25KC0BNjWH"
      },
      "source": [
        "df.children = df['children'].transform(median_input)"
      ],
      "execution_count": null,
      "outputs": []
    },
    {
      "cell_type": "code",
      "metadata": {
        "id": "vgP3J8u_OJAP"
      },
      "source": [
        "df['country'].fillna(str(df['country'].mode().values[0]),inplace=True)"
      ],
      "execution_count": null,
      "outputs": []
    },
    {
      "cell_type": "code",
      "metadata": {
        "colab": {
          "base_uri": "https://localhost:8080/"
        },
        "id": "fSJPAiORQUNR",
        "outputId": "1811c9fa-7a17-4b41-df20-815a060028c8"
      },
      "source": [
        "df.head()"
      ],
      "execution_count": null,
      "outputs": [
        {
          "output_type": "execute_result",
          "data": {
            "text/html": [
              "<div>\n",
              "<style scoped>\n",
              "    .dataframe tbody tr th:only-of-type {\n",
              "        vertical-align: middle;\n",
              "    }\n",
              "\n",
              "    .dataframe tbody tr th {\n",
              "        vertical-align: top;\n",
              "    }\n",
              "\n",
              "    .dataframe thead th {\n",
              "        text-align: right;\n",
              "    }\n",
              "</style>\n",
              "<table border=\"1\" class=\"dataframe\">\n",
              "  <thead>\n",
              "    <tr style=\"text-align: right;\">\n",
              "      <th></th>\n",
              "      <th>hotel</th>\n",
              "      <th>is_canceled</th>\n",
              "      <th>lead_time</th>\n",
              "      <th>arrival_date_year</th>\n",
              "      <th>arrival_date_month</th>\n",
              "      <th>arrival_date_week_number</th>\n",
              "      <th>arrival_date_day_of_month</th>\n",
              "      <th>stays_in_weekend_nights</th>\n",
              "      <th>stays_in_week_nights</th>\n",
              "      <th>adults</th>\n",
              "      <th>children</th>\n",
              "      <th>babies</th>\n",
              "      <th>meal</th>\n",
              "      <th>country</th>\n",
              "      <th>market_segment</th>\n",
              "      <th>distribution_channel</th>\n",
              "      <th>is_repeated_guest</th>\n",
              "      <th>previous_cancellations</th>\n",
              "      <th>previous_bookings_not_canceled</th>\n",
              "      <th>reserved_room_type</th>\n",
              "      <th>assigned_room_type</th>\n",
              "      <th>booking_changes</th>\n",
              "      <th>deposit_type</th>\n",
              "      <th>days_in_waiting_list</th>\n",
              "      <th>customer_type</th>\n",
              "      <th>adr</th>\n",
              "      <th>required_car_parking_spaces</th>\n",
              "      <th>total_of_special_requests</th>\n",
              "      <th>reservation_status</th>\n",
              "      <th>reservation_status_date</th>\n",
              "    </tr>\n",
              "  </thead>\n",
              "  <tbody>\n",
              "    <tr>\n",
              "      <th>0</th>\n",
              "      <td>Resort Hotel</td>\n",
              "      <td>0</td>\n",
              "      <td>342</td>\n",
              "      <td>2015</td>\n",
              "      <td>July</td>\n",
              "      <td>27</td>\n",
              "      <td>1</td>\n",
              "      <td>0</td>\n",
              "      <td>0</td>\n",
              "      <td>2</td>\n",
              "      <td>0.0</td>\n",
              "      <td>0</td>\n",
              "      <td>BB</td>\n",
              "      <td>PRT</td>\n",
              "      <td>Direct</td>\n",
              "      <td>Direct</td>\n",
              "      <td>0</td>\n",
              "      <td>0</td>\n",
              "      <td>0</td>\n",
              "      <td>C</td>\n",
              "      <td>C</td>\n",
              "      <td>3</td>\n",
              "      <td>No Deposit</td>\n",
              "      <td>0</td>\n",
              "      <td>Transient</td>\n",
              "      <td>0.0</td>\n",
              "      <td>0</td>\n",
              "      <td>0</td>\n",
              "      <td>Check-Out</td>\n",
              "      <td>2015-07-01</td>\n",
              "    </tr>\n",
              "    <tr>\n",
              "      <th>1</th>\n",
              "      <td>Resort Hotel</td>\n",
              "      <td>0</td>\n",
              "      <td>737</td>\n",
              "      <td>2015</td>\n",
              "      <td>July</td>\n",
              "      <td>27</td>\n",
              "      <td>1</td>\n",
              "      <td>0</td>\n",
              "      <td>0</td>\n",
              "      <td>2</td>\n",
              "      <td>0.0</td>\n",
              "      <td>0</td>\n",
              "      <td>BB</td>\n",
              "      <td>PRT</td>\n",
              "      <td>Direct</td>\n",
              "      <td>Direct</td>\n",
              "      <td>0</td>\n",
              "      <td>0</td>\n",
              "      <td>0</td>\n",
              "      <td>C</td>\n",
              "      <td>C</td>\n",
              "      <td>4</td>\n",
              "      <td>No Deposit</td>\n",
              "      <td>0</td>\n",
              "      <td>Transient</td>\n",
              "      <td>0.0</td>\n",
              "      <td>0</td>\n",
              "      <td>0</td>\n",
              "      <td>Check-Out</td>\n",
              "      <td>2015-07-01</td>\n",
              "    </tr>\n",
              "    <tr>\n",
              "      <th>2</th>\n",
              "      <td>Resort Hotel</td>\n",
              "      <td>0</td>\n",
              "      <td>7</td>\n",
              "      <td>2015</td>\n",
              "      <td>July</td>\n",
              "      <td>27</td>\n",
              "      <td>1</td>\n",
              "      <td>0</td>\n",
              "      <td>1</td>\n",
              "      <td>1</td>\n",
              "      <td>0.0</td>\n",
              "      <td>0</td>\n",
              "      <td>BB</td>\n",
              "      <td>GBR</td>\n",
              "      <td>Direct</td>\n",
              "      <td>Direct</td>\n",
              "      <td>0</td>\n",
              "      <td>0</td>\n",
              "      <td>0</td>\n",
              "      <td>A</td>\n",
              "      <td>C</td>\n",
              "      <td>0</td>\n",
              "      <td>No Deposit</td>\n",
              "      <td>0</td>\n",
              "      <td>Transient</td>\n",
              "      <td>75.0</td>\n",
              "      <td>0</td>\n",
              "      <td>0</td>\n",
              "      <td>Check-Out</td>\n",
              "      <td>2015-07-02</td>\n",
              "    </tr>\n",
              "    <tr>\n",
              "      <th>3</th>\n",
              "      <td>Resort Hotel</td>\n",
              "      <td>0</td>\n",
              "      <td>13</td>\n",
              "      <td>2015</td>\n",
              "      <td>July</td>\n",
              "      <td>27</td>\n",
              "      <td>1</td>\n",
              "      <td>0</td>\n",
              "      <td>1</td>\n",
              "      <td>1</td>\n",
              "      <td>0.0</td>\n",
              "      <td>0</td>\n",
              "      <td>BB</td>\n",
              "      <td>GBR</td>\n",
              "      <td>Corporate</td>\n",
              "      <td>Corporate</td>\n",
              "      <td>0</td>\n",
              "      <td>0</td>\n",
              "      <td>0</td>\n",
              "      <td>A</td>\n",
              "      <td>A</td>\n",
              "      <td>0</td>\n",
              "      <td>No Deposit</td>\n",
              "      <td>0</td>\n",
              "      <td>Transient</td>\n",
              "      <td>75.0</td>\n",
              "      <td>0</td>\n",
              "      <td>0</td>\n",
              "      <td>Check-Out</td>\n",
              "      <td>2015-07-02</td>\n",
              "    </tr>\n",
              "    <tr>\n",
              "      <th>4</th>\n",
              "      <td>Resort Hotel</td>\n",
              "      <td>0</td>\n",
              "      <td>14</td>\n",
              "      <td>2015</td>\n",
              "      <td>July</td>\n",
              "      <td>27</td>\n",
              "      <td>1</td>\n",
              "      <td>0</td>\n",
              "      <td>2</td>\n",
              "      <td>2</td>\n",
              "      <td>0.0</td>\n",
              "      <td>0</td>\n",
              "      <td>BB</td>\n",
              "      <td>GBR</td>\n",
              "      <td>Online TA</td>\n",
              "      <td>TA/TO</td>\n",
              "      <td>0</td>\n",
              "      <td>0</td>\n",
              "      <td>0</td>\n",
              "      <td>A</td>\n",
              "      <td>A</td>\n",
              "      <td>0</td>\n",
              "      <td>No Deposit</td>\n",
              "      <td>0</td>\n",
              "      <td>Transient</td>\n",
              "      <td>98.0</td>\n",
              "      <td>0</td>\n",
              "      <td>1</td>\n",
              "      <td>Check-Out</td>\n",
              "      <td>2015-07-03</td>\n",
              "    </tr>\n",
              "  </tbody>\n",
              "</table>\n",
              "</div>"
            ],
            "text/plain": [
              "          hotel  is_canceled  ...  reservation_status  reservation_status_date\n",
              "0  Resort Hotel            0  ...           Check-Out               2015-07-01\n",
              "1  Resort Hotel            0  ...           Check-Out               2015-07-01\n",
              "2  Resort Hotel            0  ...           Check-Out               2015-07-02\n",
              "3  Resort Hotel            0  ...           Check-Out               2015-07-02\n",
              "4  Resort Hotel            0  ...           Check-Out               2015-07-03\n",
              "\n",
              "[5 rows x 30 columns]"
            ]
          },
          "metadata": {
            "tags": []
          },
          "execution_count": 19
        }
      ]
    },
    {
      "cell_type": "code",
      "metadata": {
        "colab": {
          "base_uri": "https://localhost:8080/"
        },
        "id": "XfRBzmfsQZjA",
        "outputId": "a26ae1e2-00a2-4bb2-92c2-ddad0ae9643f"
      },
      "source": [
        "df.columns"
      ],
      "execution_count": null,
      "outputs": [
        {
          "output_type": "execute_result",
          "data": {
            "text/plain": [
              "Index(['hotel', 'is_canceled', 'lead_time', 'arrival_date_year',\n",
              "       'arrival_date_month', 'arrival_date_week_number',\n",
              "       'arrival_date_day_of_month', 'stays_in_weekend_nights',\n",
              "       'stays_in_week_nights', 'adults', 'children', 'babies', 'meal',\n",
              "       'country', 'market_segment', 'distribution_channel',\n",
              "       'is_repeated_guest', 'previous_cancellations',\n",
              "       'previous_bookings_not_canceled', 'reserved_room_type',\n",
              "       'assigned_room_type', 'booking_changes', 'deposit_type',\n",
              "       'days_in_waiting_list', 'customer_type', 'adr',\n",
              "       'required_car_parking_spaces', 'total_of_special_requests',\n",
              "       'reservation_status', 'reservation_status_date'],\n",
              "      dtype='object')"
            ]
          },
          "metadata": {
            "tags": []
          },
          "execution_count": 20
        }
      ]
    },
    {
      "cell_type": "markdown",
      "metadata": {
        "id": "U8rjbGgMRsWQ"
      },
      "source": [
        "# Univarite analysis"
      ]
    },
    {
      "cell_type": "markdown",
      "metadata": {
        "id": "FDU41bUof2pz"
      },
      "source": [
        "### 1. What is most preffered hotel by customers"
      ]
    },
    {
      "cell_type": "code",
      "metadata": {
        "colab": {
          "base_uri": "https://localhost:8080/"
        },
        "id": "p4gBPkXtTUjJ",
        "outputId": "cf143200-f6bf-4de6-d4a9-5fba327e749a"
      },
      "source": [
        "type_hotels = df['hotel'].value_counts()\n",
        "type_hotels"
      ],
      "execution_count": null,
      "outputs": [
        {
          "output_type": "execute_result",
          "data": {
            "text/plain": [
              "City Hotel      79330\n",
              "Resort Hotel    40060\n",
              "Name: hotel, dtype: int64"
            ]
          },
          "metadata": {
            "tags": []
          },
          "execution_count": 21
        }
      ]
    },
    {
      "cell_type": "code",
      "metadata": {
        "colab": {
          "base_uri": "https://localhost:8080/"
        },
        "id": "N4Bg_CglXV4I",
        "outputId": "3f29bc94-df21-40fd-c9d2-919393a2af29"
      },
      "source": [
        "type_hotels.plot(kind = 'bar')\n",
        "plt.xlabel('Type of hotels')\n",
        "plt.ylabel('Count')"
      ],
      "execution_count": null,
      "outputs": [
        {
          "output_type": "execute_result",
          "data": {
            "text/plain": [
              "Text(0, 0.5, 'Count')"
            ]
          },
          "metadata": {
            "tags": []
          },
          "execution_count": 22
        },
        {
          "output_type": "display_data",
          "data": {
            "image/png": "[encoded data removed]",
            "text/plain": [
              "<Figure size 432x288 with 1 Axes>"
            ]
          },
          "metadata": {
            "tags": [],
            "needs_background": "light"
          }
        }
      ]
    },
    {
      "cell_type": "markdown",
      "metadata": {
        "id": "lTRhBDZ9oCNk"
      },
      "source": [
        "## 2.Cancellations according to hotel"
      ]
    },
    {
      "cell_type": "code",
      "metadata": {
        "colab": {
          "base_uri": "https://localhost:8080/"
        },
        "id": "k_g5JssZTqx0",
        "outputId": "8759b3d8-ecb4-4654-a452-0e5ca763f37d"
      },
      "source": [
        "cancel_count = df.groupby(['hotel'])['is_canceled'].value_counts()\n",
        "cancel_count"
      ],
      "execution_count": null,
      "outputs": [
        {
          "output_type": "execute_result",
          "data": {
            "text/plain": [
              "hotel         is_canceled\n",
              "City Hotel    0              46228\n",
              "              1              33102\n",
              "Resort Hotel  0              28938\n",
              "              1              11122\n",
              "Name: is_canceled, dtype: int64"
            ]
          },
          "metadata": {
            "tags": []
          },
          "execution_count": 23
        }
      ]
    },
    {
      "cell_type": "code",
      "metadata": {
        "colab": {
          "base_uri": "https://localhost:8080/",
          "height": 531
        },
        "id": "OL1cIYfYT8aJ",
        "outputId": "15123375-81e1-44ac-ffe9-ebe81ff20965"
      },
      "source": [
        "plt.rcParams['figure.figsize'] = (7, 7)\n",
        "cancel_count.plot(kind = 'bar',color=['green','red'])\n",
        "plt.xlabel('Type of hotels')\n",
        "plt.ylabel('Count')\n",
        "plt.legend(labels=['Not Cancelled','Canceled'])"
      ],
      "execution_count": null,
      "outputs": [
        {
          "output_type": "execute_result",
          "data": {
            "text/plain": [
              "<matplotlib.legend.Legend at 0x7effaef03a10>"
            ]
          },
          "metadata": {
            "tags": []
          },
          "execution_count": 24
        },
        {
          "output_type": "display_data",
          "data": {
            "image/png": "[encoded data removed]",
            "text/plain": [
              "<Figure size 504x504 with 1 Axes>"
            ]
          },
          "metadata": {
            "tags": [],
            "needs_background": "light"
          }
        }
      ]
    },
    {
      "cell_type": "markdown",
      "metadata": {
        "id": "oP4ooP0Dobx5"
      },
      "source": [
        "## 3. Meal prefered by hotelers"
      ]
    },
    {
      "cell_type": "code",
      "metadata": {
        "colab": {
          "base_uri": "https://localhost:8080/"
        },
        "id": "eZDMmPkUU2RO",
        "outputId": "0114678c-01ad-48c4-d712-977283a1c458"
      },
      "source": [
        "meal_type = df['meal'].value_counts()\n",
        "meal_type"
      ],
      "execution_count": null,
      "outputs": [
        {
          "output_type": "execute_result",
          "data": {
            "text/plain": [
              "BB           92310\n",
              "HB           14463\n",
              "SC           10650\n",
              "Undefined     1169\n",
              "FB             798\n",
              "Name: meal, dtype: int64"
            ]
          },
          "metadata": {
            "tags": []
          },
          "execution_count": 25
        }
      ]
    },
    {
      "cell_type": "code",
      "metadata": {
        "colab": {
          "base_uri": "https://localhost:8080/"
        },
        "id": "99hGPgTRVVXU",
        "outputId": "1af7d0cd-1a58-40db-8037-20f2b0167c38"
      },
      "source": [
        "plt.rcParams['figure.figsize'] = (7, 7)\n",
        "meal_type.plot(kind = 'bar',color=['seagreen','darkslategrey','slateblue','greenyellow','saddlebrown'])\n",
        "plt.xlabel('Types of meal')\n",
        "plt.ylabel('Count')"
      ],
      "execution_count": null,
      "outputs": [
        {
          "output_type": "execute_result",
          "data": {
            "text/plain": [
              "Text(0, 0.5, 'Count')"
            ]
          },
          "metadata": {
            "tags": []
          },
          "execution_count": 26
        },
        {
          "output_type": "display_data",
          "data": {
            "image/png": "[encoded data removed]",
            "text/plain": [
              "<Figure size 504x504 with 1 Axes>"
            ]
          },
          "metadata": {
            "tags": [],
            "needs_background": "light"
          }
        }
      ]
    },
    {
      "cell_type": "markdown",
      "metadata": {
        "id": "uBd0ywQQVBxY"
      },
      "source": [
        "## 4.User by market"
      ]
    },
    {
      "cell_type": "code",
      "metadata": {
        "colab": {
          "base_uri": "https://localhost:8080/"
        },
        "id": "nZHIur8BU_Sm",
        "outputId": "57eb7951-5ff1-4566-d469-5aecbe91e6bb"
      },
      "source": [
        "user_market = df['market_segment'].value_counts()\n",
        "label_data = df['market_segment'].value_counts().index.tolist()\n",
        "user_market"
      ],
      "execution_count": null,
      "outputs": [
        {
          "output_type": "execute_result",
          "data": {
            "text/plain": [
              "Online TA        56477\n",
              "Offline TA/TO    24219\n",
              "Groups           19811\n",
              "Direct           12606\n",
              "Corporate         5295\n",
              "Complementary      743\n",
              "Aviation           237\n",
              "Undefined            2\n",
              "Name: market_segment, dtype: int64"
            ]
          },
          "metadata": {
            "tags": []
          },
          "execution_count": 27
        }
      ]
    },
    {
      "cell_type": "code",
      "metadata": {
        "colab": {
          "base_uri": "https://localhost:8080/"
        },
        "id": "VqOfo07KVK3v",
        "outputId": "a5ff5f3d-5897-4f08-cb63-e7197ed37082"
      },
      "source": [
        "pie, ax = plt.subplots(figsize=[9,6])\n",
        "plt.pie(user_market, autopct=\"%.1f%%\", labels=label_data, pctdistance=0.5)\n",
        "plt.title(\"Customer_type\", fontsize=14);\n",
        "plt.legend(labels=label_data,loc='upper right')"
      ],
      "execution_count": null,
      "outputs": [
        {
          "output_type": "execute_result",
          "data": {
            "text/plain": [
              "<matplotlib.legend.Legend at 0x7effae8d0850>"
            ]
          },
          "metadata": {
            "tags": []
          },
          "execution_count": 28
        },
        {
          "output_type": "display_data",
          "data": {
            "image/png": "[encoded data removed]",
            "text/plain": [
              "<Figure size 648x432 with 1 Axes>"
            ]
          },
          "metadata": {
            "tags": []
          }
        }
      ]
    },
    {
      "cell_type": "markdown",
      "metadata": {
        "id": "BqOLM5X-Xw_5"
      },
      "source": [
        "## 5.Customer type"
      ]
    },
    {
      "cell_type": "code",
      "metadata": {
        "colab": {
          "base_uri": "https://localhost:8080/"
        },
        "id": "6_pl-VxBXvLH",
        "outputId": "2e9c7664-7bb7-4d8e-89cf-0ff86a0ce296"
      },
      "source": [
        "df['customer_type'].value_counts()"
      ],
      "execution_count": null,
      "outputs": [
        {
          "output_type": "execute_result",
          "data": {
            "text/plain": [
              "Transient          89613\n",
              "Transient-Party    25124\n",
              "Contract            4076\n",
              "Group                577\n",
              "Name: customer_type, dtype: int64"
            ]
          },
          "metadata": {
            "tags": []
          },
          "execution_count": 29
        }
      ]
    },
    {
      "cell_type": "code",
      "metadata": {
        "colab": {
          "base_uri": "https://localhost:8080/"
        },
        "id": "ECK5xkVWYDKK",
        "outputId": "95b46d45-7c0c-498d-b397-405a3cebd57a"
      },
      "source": [
        "# sns.countplot(x='customer_type',data=df,hue= 'customer_type')\n",
        "customer_count = df['customer_type'].value_counts()\n",
        "customer_labels = df['customer_type'].value_counts().index.tolist()\n",
        "#Using matplotlib\n",
        "pie, ax = plt.subplots(figsize=[6,6])\n",
        "plt.pie(customer_count, autopct=\"%.1f%%\", explode=[0.05]*4, labels=customer_labels, pctdistance=0.5)\n",
        "plt.title(\"Customer_type\", fontsize=14);"
      ],
      "execution_count": null,
      "outputs": [
        {
          "output_type": "display_data",
          "data": {
            "image/png": "[encoded data removed]",
            "text/plain": [
              "<Figure size 432x432 with 1 Axes>"
            ]
          },
          "metadata": {
            "tags": []
          }
        }
      ]
    },
    {
      "cell_type": "markdown",
      "metadata": {
        "id": "EqCuR4zPYclx"
      },
      "source": [
        "## 6. country wise"
      ]
    },
    {
      "cell_type": "code",
      "metadata": {
        "colab": {
          "base_uri": "https://localhost:8080/"
        },
        "id": "YUZzZKUmYaPR",
        "outputId": "0757b855-e953-49e6-c928-874d60d4562a"
      },
      "source": [
        "plt.figure(figsize=(20,8))\n",
        "df_country = df['country'].value_counts().nlargest(25).astype(int)\n",
        "ax = sns.barplot(df_country.index, df_country.values)\n",
        "plt.title('Country')\n",
        "plt.xlabel('Country')\n",
        "plt.ylabel('Count')\n",
        "for p in ax.patches:\n",
        "    ax.annotate((p.get_height()),(p.get_x(), p.get_height()+100)) "
      ],
      "execution_count": null,
      "outputs": [
        {
          "output_type": "stream",
          "text": [
            "/usr/local/lib/python3.7/dist-packages/seaborn/_decorators.py:43: FutureWarning: Pass the following variables as keyword args: x, y. From version 0.12, the only valid positional argument will be `data`, and passing other arguments without an explicit keyword will result in an error or misinterpretation.\n",
            "  FutureWarning\n"
          ],
          "name": "stderr"
        },
        {
          "output_type": "display_data",
          "data": {
            "image/png": "[encoded data removed]",
            "text/plain": [
              "<Figure size 1440x576 with 1 Axes>"
            ]
          },
          "metadata": {
            "tags": [],
            "needs_background": "light"
          }
        }
      ]
    },
    {
      "cell_type": "markdown",
      "metadata": {
        "id": "JEhI5-tLZqfV"
      },
      "source": [
        "# 7.Nights stayed"
      ]
    },
    {
      "cell_type": "code",
      "metadata": {
        "colab": {
          "base_uri": "https://localhost:8080/"
        },
        "id": "u8v1JyP3Zous",
        "outputId": "dcf782e7-4b1b-48a3-e3ae-a7cc0fccde3b"
      },
      "source": [
        "df[\"total_nights\"] = df[\"stays_in_weekend_nights\"] + df[\"stays_in_week_nights\"]\n",
        "plt.figure(figsize=(20,10))\n",
        "sns.countplot(x= \"total_nights\", data = df)\n",
        "plt.title('Total Nights Stayed')\n",
        "plt.xlabel('Total Nights')\n",
        "plt.ylabel('Number of Stays')"
      ],
      "execution_count": null,
      "outputs": [
        {
          "output_type": "execute_result",
          "data": {
            "text/plain": [
              "Text(0, 0.5, 'Number of Stays')"
            ]
          },
          "metadata": {
            "tags": []
          },
          "execution_count": 32
        },
        {
          "output_type": "display_data",
          "data": {
            "image/png": "[encoded data removed]",
            "text/plain": [
              "<Figure size 1440x720 with 1 Axes>"
            ]
          },
          "metadata": {
            "tags": [],
            "needs_background": "light"
          }
        }
      ]
    },
    {
      "cell_type": "markdown",
      "metadata": {
        "id": "u_Zr4pxrAIwU"
      },
      "source": [
        "## Deposit type"
      ]
    },
    {
      "cell_type": "code",
      "metadata": {
        "colab": {
          "base_uri": "https://localhost:8080/"
        },
        "id": "Eg7LriAaAMlF",
        "outputId": "143c1330-767f-4958-84e4-750149b967a0"
      },
      "source": [
        "deposit_type1 = df['deposit_type'].value_counts()\n",
        "deposit_type1"
      ],
      "execution_count": null,
      "outputs": [
        {
          "output_type": "execute_result",
          "data": {
            "text/plain": [
              "No Deposit    104641\n",
              "Non Refund     14587\n",
              "Refundable       162\n",
              "Name: deposit_type, dtype: int64"
            ]
          },
          "metadata": {
            "tags": []
          },
          "execution_count": 33
        }
      ]
    },
    {
      "cell_type": "code",
      "metadata": {
        "colab": {
          "base_uri": "https://localhost:8080/"
        },
        "id": "e22Z6aLNERa9",
        "outputId": "d3e5da31-e41b-4359-e408-9682f2ee54a5"
      },
      "source": [
        "plt.plot(deposit_type1)"
      ],
      "execution_count": null,
      "outputs": [
        {
          "output_type": "execute_result",
          "data": {
            "text/plain": [
              "[<matplotlib.lines.Line2D at 0x7effae58b5d0>]"
            ]
          },
          "metadata": {
            "tags": []
          },
          "execution_count": 34
        },
        {
          "output_type": "display_data",
          "data": {
            "image/png": "[encoded data removed]",
            "text/plain": [
              "<Figure size 504x504 with 1 Axes>"
            ]
          },
          "metadata": {
            "tags": [],
            "needs_background": "light"
          }
        }
      ]
    },
    {
      "cell_type": "markdown",
      "metadata": {
        "id": "WTZV33slX9aq"
      },
      "source": [
        "# Bivariate\n",
        "### 1. Lets find out which month has more booking in different hotel types"
      ]
    },
    {
      "cell_type": "code",
      "metadata": {
        "id": "EbqJ8MQDcE6Z"
      },
      "source": [
        "month_wise=df.groupby(['arrival_date_month','hotel'])['arrival_date_month'].count().unstack()"
      ],
      "execution_count": null,
      "outputs": []
    },
    {
      "cell_type": "code",
      "metadata": {
        "colab": {
          "base_uri": "https://localhost:8080/",
          "height": 397
        },
        "id": "ptcmrdM-d4dY",
        "outputId": "54623d83-1fca-4d82-be52-804a10a3934f"
      },
      "source": [
        "plt.rcParams['figure.figsize'] = (10, 5)\n",
        "month_wise.plot(kind='bar')"
      ],
      "execution_count": null,
      "outputs": [
        {
          "output_type": "execute_result",
          "data": {
            "text/plain": [
              "<matplotlib.axes._subplots.AxesSubplot at 0x7effae4fe210>"
            ]
          },
          "metadata": {
            "tags": []
          },
          "execution_count": 36
        },
        {
          "output_type": "display_data",
          "data": {
            "image/png": "[encoded data removed]",
            "text/plain": [
              "<Figure size 720x360 with 1 Axes>"
            ]
          },
          "metadata": {
            "tags": [],
            "needs_background": "light"
          }
        }
      ]
    },
    {
      "cell_type": "code",
      "metadata": {
        "colab": {
          "base_uri": "https://localhost:8080/",
          "height": 895
        },
        "id": "eWSes397eEtC",
        "outputId": "3cb2da53-216b-434c-eb5e-5fb847f141b7"
      },
      "source": [
        "month_year_wise=df.sort_values(['arrival_date_year']).groupby(['arrival_date_year','arrival_date_month','hotel'],sort=False )['arrival_date_year'].count().unstack()\n",
        "month_year_wise"
      ],
      "execution_count": null,
      "outputs": [
        {
          "output_type": "execute_result",
          "data": {
            "text/html": [
              "<div>\n",
              "<style scoped>\n",
              "    .dataframe tbody tr th:only-of-type {\n",
              "        vertical-align: middle;\n",
              "    }\n",
              "\n",
              "    .dataframe tbody tr th {\n",
              "        vertical-align: top;\n",
              "    }\n",
              "\n",
              "    .dataframe thead th {\n",
              "        text-align: right;\n",
              "    }\n",
              "</style>\n",
              "<table border=\"1\" class=\"dataframe\">\n",
              "  <thead>\n",
              "    <tr style=\"text-align: right;\">\n",
              "      <th></th>\n",
              "      <th>hotel</th>\n",
              "      <th>Resort Hotel</th>\n",
              "      <th>City Hotel</th>\n",
              "    </tr>\n",
              "    <tr>\n",
              "      <th>arrival_date_year</th>\n",
              "      <th>arrival_date_month</th>\n",
              "      <th></th>\n",
              "      <th></th>\n",
              "    </tr>\n",
              "  </thead>\n",
              "  <tbody>\n",
              "    <tr>\n",
              "      <th rowspan=\"6\" valign=\"top\">2015</th>\n",
              "      <th>July</th>\n",
              "      <td>1378</td>\n",
              "      <td>1398</td>\n",
              "    </tr>\n",
              "    <tr>\n",
              "      <th>December</th>\n",
              "      <td>1266</td>\n",
              "      <td>1654</td>\n",
              "    </tr>\n",
              "    <tr>\n",
              "      <th>August</th>\n",
              "      <td>1409</td>\n",
              "      <td>2480</td>\n",
              "    </tr>\n",
              "    <tr>\n",
              "      <th>November</th>\n",
              "      <td>1105</td>\n",
              "      <td>1235</td>\n",
              "    </tr>\n",
              "    <tr>\n",
              "      <th>September</th>\n",
              "      <td>1585</td>\n",
              "      <td>3529</td>\n",
              "    </tr>\n",
              "    <tr>\n",
              "      <th>October</th>\n",
              "      <td>1571</td>\n",
              "      <td>3386</td>\n",
              "    </tr>\n",
              "    <tr>\n",
              "      <th rowspan=\"12\" valign=\"top\">2016</th>\n",
              "      <th>July</th>\n",
              "      <td>1441</td>\n",
              "      <td>3131</td>\n",
              "    </tr>\n",
              "    <tr>\n",
              "      <th>December</th>\n",
              "      <td>1382</td>\n",
              "      <td>2478</td>\n",
              "    </tr>\n",
              "    <tr>\n",
              "      <th>August</th>\n",
              "      <td>1685</td>\n",
              "      <td>3378</td>\n",
              "    </tr>\n",
              "    <tr>\n",
              "      <th>November</th>\n",
              "      <td>1332</td>\n",
              "      <td>3122</td>\n",
              "    </tr>\n",
              "    <tr>\n",
              "      <th>September</th>\n",
              "      <td>1523</td>\n",
              "      <td>3871</td>\n",
              "    </tr>\n",
              "    <tr>\n",
              "      <th>October</th>\n",
              "      <td>1984</td>\n",
              "      <td>4219</td>\n",
              "    </tr>\n",
              "    <tr>\n",
              "      <th>June</th>\n",
              "      <td>1369</td>\n",
              "      <td>3923</td>\n",
              "    </tr>\n",
              "    <tr>\n",
              "      <th>January</th>\n",
              "      <td>884</td>\n",
              "      <td>1364</td>\n",
              "    </tr>\n",
              "    <tr>\n",
              "      <th>April</th>\n",
              "      <td>1867</td>\n",
              "      <td>3561</td>\n",
              "    </tr>\n",
              "    <tr>\n",
              "      <th>March</th>\n",
              "      <td>1778</td>\n",
              "      <td>3046</td>\n",
              "    </tr>\n",
              "    <tr>\n",
              "      <th>February</th>\n",
              "      <td>1520</td>\n",
              "      <td>2371</td>\n",
              "    </tr>\n",
              "    <tr>\n",
              "      <th>May</th>\n",
              "      <td>1802</td>\n",
              "      <td>3676</td>\n",
              "    </tr>\n",
              "    <tr>\n",
              "      <th rowspan=\"8\" valign=\"top\">2017</th>\n",
              "      <th>July</th>\n",
              "      <td>1754</td>\n",
              "      <td>3559</td>\n",
              "    </tr>\n",
              "    <tr>\n",
              "      <th>August</th>\n",
              "      <td>1800</td>\n",
              "      <td>3125</td>\n",
              "    </tr>\n",
              "    <tr>\n",
              "      <th>June</th>\n",
              "      <td>1676</td>\n",
              "      <td>3971</td>\n",
              "    </tr>\n",
              "    <tr>\n",
              "      <th>January</th>\n",
              "      <td>1309</td>\n",
              "      <td>2372</td>\n",
              "    </tr>\n",
              "    <tr>\n",
              "      <th>April</th>\n",
              "      <td>1742</td>\n",
              "      <td>3919</td>\n",
              "    </tr>\n",
              "    <tr>\n",
              "      <th>March</th>\n",
              "      <td>1558</td>\n",
              "      <td>3412</td>\n",
              "    </tr>\n",
              "    <tr>\n",
              "      <th>February</th>\n",
              "      <td>1583</td>\n",
              "      <td>2594</td>\n",
              "    </tr>\n",
              "    <tr>\n",
              "      <th>May</th>\n",
              "      <td>1757</td>\n",
              "      <td>4556</td>\n",
              "    </tr>\n",
              "  </tbody>\n",
              "</table>\n",
              "</div>"
            ],
            "text/plain": [
              "hotel                                 Resort Hotel  City Hotel\n",
              "arrival_date_year arrival_date_month                          \n",
              "2015              July                        1378        1398\n",
              "                  December                    1266        1654\n",
              "                  August                      1409        2480\n",
              "                  November                    1105        1235\n",
              "                  September                   1585        3529\n",
              "                  October                     1571        3386\n",
              "2016              July                        1441        3131\n",
              "                  December                    1382        2478\n",
              "                  August                      1685        3378\n",
              "                  November                    1332        3122\n",
              "                  September                   1523        3871\n",
              "                  October                     1984        4219\n",
              "                  June                        1369        3923\n",
              "                  January                      884        1364\n",
              "                  April                       1867        3561\n",
              "                  March                       1778        3046\n",
              "                  February                    1520        2371\n",
              "                  May                         1802        3676\n",
              "2017              July                        1754        3559\n",
              "                  August                      1800        3125\n",
              "                  June                        1676        3971\n",
              "                  January                     1309        2372\n",
              "                  April                       1742        3919\n",
              "                  March                       1558        3412\n",
              "                  February                    1583        2594\n",
              "                  May                         1757        4556"
            ]
          },
          "metadata": {
            "tags": []
          },
          "execution_count": 37
        }
      ]
    },
    {
      "cell_type": "code",
      "metadata": {
        "colab": {
          "base_uri": "https://localhost:8080/",
          "height": 313
        },
        "id": "aomPJEQPcUaG",
        "outputId": "8386e406-61ae-427c-c6a4-91c874480c8c"
      },
      "source": [
        "df.head()"
      ],
      "execution_count": null,
      "outputs": [
        {
          "output_type": "execute_result",
          "data": {
            "text/html": [
              "<div>\n",
              "<style scoped>\n",
              "    .dataframe tbody tr th:only-of-type {\n",
              "        vertical-align: middle;\n",
              "    }\n",
              "\n",
              "    .dataframe tbody tr th {\n",
              "        vertical-align: top;\n",
              "    }\n",
              "\n",
              "    .dataframe thead th {\n",
              "        text-align: right;\n",
              "    }\n",
              "</style>\n",
              "<table border=\"1\" class=\"dataframe\">\n",
              "  <thead>\n",
              "    <tr style=\"text-align: right;\">\n",
              "      <th></th>\n",
              "      <th>hotel</th>\n",
              "      <th>is_canceled</th>\n",
              "      <th>lead_time</th>\n",
              "      <th>arrival_date_year</th>\n",
              "      <th>arrival_date_month</th>\n",
              "      <th>arrival_date_week_number</th>\n",
              "      <th>arrival_date_day_of_month</th>\n",
              "      <th>stays_in_weekend_nights</th>\n",
              "      <th>stays_in_week_nights</th>\n",
              "      <th>adults</th>\n",
              "      <th>children</th>\n",
              "      <th>babies</th>\n",
              "      <th>meal</th>\n",
              "      <th>country</th>\n",
              "      <th>market_segment</th>\n",
              "      <th>distribution_channel</th>\n",
              "      <th>is_repeated_guest</th>\n",
              "      <th>previous_cancellations</th>\n",
              "      <th>previous_bookings_not_canceled</th>\n",
              "      <th>reserved_room_type</th>\n",
              "      <th>assigned_room_type</th>\n",
              "      <th>booking_changes</th>\n",
              "      <th>deposit_type</th>\n",
              "      <th>days_in_waiting_list</th>\n",
              "      <th>customer_type</th>\n",
              "      <th>adr</th>\n",
              "      <th>required_car_parking_spaces</th>\n",
              "      <th>total_of_special_requests</th>\n",
              "      <th>reservation_status</th>\n",
              "      <th>reservation_status_date</th>\n",
              "      <th>total_nights</th>\n",
              "    </tr>\n",
              "  </thead>\n",
              "  <tbody>\n",
              "    <tr>\n",
              "      <th>0</th>\n",
              "      <td>Resort Hotel</td>\n",
              "      <td>0</td>\n",
              "      <td>342</td>\n",
              "      <td>2015</td>\n",
              "      <td>July</td>\n",
              "      <td>27</td>\n",
              "      <td>1</td>\n",
              "      <td>0</td>\n",
              "      <td>0</td>\n",
              "      <td>2</td>\n",
              "      <td>0.0</td>\n",
              "      <td>0</td>\n",
              "      <td>BB</td>\n",
              "      <td>PRT</td>\n",
              "      <td>Direct</td>\n",
              "      <td>Direct</td>\n",
              "      <td>0</td>\n",
              "      <td>0</td>\n",
              "      <td>0</td>\n",
              "      <td>C</td>\n",
              "      <td>C</td>\n",
              "      <td>3</td>\n",
              "      <td>No Deposit</td>\n",
              "      <td>0</td>\n",
              "      <td>Transient</td>\n",
              "      <td>0.0</td>\n",
              "      <td>0</td>\n",
              "      <td>0</td>\n",
              "      <td>Check-Out</td>\n",
              "      <td>2015-07-01</td>\n",
              "      <td>0</td>\n",
              "    </tr>\n",
              "    <tr>\n",
              "      <th>1</th>\n",
              "      <td>Resort Hotel</td>\n",
              "      <td>0</td>\n",
              "      <td>737</td>\n",
              "      <td>2015</td>\n",
              "      <td>July</td>\n",
              "      <td>27</td>\n",
              "      <td>1</td>\n",
              "      <td>0</td>\n",
              "      <td>0</td>\n",
              "      <td>2</td>\n",
              "      <td>0.0</td>\n",
              "      <td>0</td>\n",
              "      <td>BB</td>\n",
              "      <td>PRT</td>\n",
              "      <td>Direct</td>\n",
              "      <td>Direct</td>\n",
              "      <td>0</td>\n",
              "      <td>0</td>\n",
              "      <td>0</td>\n",
              "      <td>C</td>\n",
              "      <td>C</td>\n",
              "      <td>4</td>\n",
              "      <td>No Deposit</td>\n",
              "      <td>0</td>\n",
              "      <td>Transient</td>\n",
              "      <td>0.0</td>\n",
              "      <td>0</td>\n",
              "      <td>0</td>\n",
              "      <td>Check-Out</td>\n",
              "      <td>2015-07-01</td>\n",
              "      <td>0</td>\n",
              "    </tr>\n",
              "    <tr>\n",
              "      <th>2</th>\n",
              "      <td>Resort Hotel</td>\n",
              "      <td>0</td>\n",
              "      <td>7</td>\n",
              "      <td>2015</td>\n",
              "      <td>July</td>\n",
              "      <td>27</td>\n",
              "      <td>1</td>\n",
              "      <td>0</td>\n",
              "      <td>1</td>\n",
              "      <td>1</td>\n",
              "      <td>0.0</td>\n",
              "      <td>0</td>\n",
              "      <td>BB</td>\n",
              "      <td>GBR</td>\n",
              "      <td>Direct</td>\n",
              "      <td>Direct</td>\n",
              "      <td>0</td>\n",
              "      <td>0</td>\n",
              "      <td>0</td>\n",
              "      <td>A</td>\n",
              "      <td>C</td>\n",
              "      <td>0</td>\n",
              "      <td>No Deposit</td>\n",
              "      <td>0</td>\n",
              "      <td>Transient</td>\n",
              "      <td>75.0</td>\n",
              "      <td>0</td>\n",
              "      <td>0</td>\n",
              "      <td>Check-Out</td>\n",
              "      <td>2015-07-02</td>\n",
              "      <td>1</td>\n",
              "    </tr>\n",
              "    <tr>\n",
              "      <th>3</th>\n",
              "      <td>Resort Hotel</td>\n",
              "      <td>0</td>\n",
              "      <td>13</td>\n",
              "      <td>2015</td>\n",
              "      <td>July</td>\n",
              "      <td>27</td>\n",
              "      <td>1</td>\n",
              "      <td>0</td>\n",
              "      <td>1</td>\n",
              "      <td>1</td>\n",
              "      <td>0.0</td>\n",
              "      <td>0</td>\n",
              "      <td>BB</td>\n",
              "      <td>GBR</td>\n",
              "      <td>Corporate</td>\n",
              "      <td>Corporate</td>\n",
              "      <td>0</td>\n",
              "      <td>0</td>\n",
              "      <td>0</td>\n",
              "      <td>A</td>\n",
              "      <td>A</td>\n",
              "      <td>0</td>\n",
              "      <td>No Deposit</td>\n",
              "      <td>0</td>\n",
              "      <td>Transient</td>\n",
              "      <td>75.0</td>\n",
              "      <td>0</td>\n",
              "      <td>0</td>\n",
              "      <td>Check-Out</td>\n",
              "      <td>2015-07-02</td>\n",
              "      <td>1</td>\n",
              "    </tr>\n",
              "    <tr>\n",
              "      <th>4</th>\n",
              "      <td>Resort Hotel</td>\n",
              "      <td>0</td>\n",
              "      <td>14</td>\n",
              "      <td>2015</td>\n",
              "      <td>July</td>\n",
              "      <td>27</td>\n",
              "      <td>1</td>\n",
              "      <td>0</td>\n",
              "      <td>2</td>\n",
              "      <td>2</td>\n",
              "      <td>0.0</td>\n",
              "      <td>0</td>\n",
              "      <td>BB</td>\n",
              "      <td>GBR</td>\n",
              "      <td>Online TA</td>\n",
              "      <td>TA/TO</td>\n",
              "      <td>0</td>\n",
              "      <td>0</td>\n",
              "      <td>0</td>\n",
              "      <td>A</td>\n",
              "      <td>A</td>\n",
              "      <td>0</td>\n",
              "      <td>No Deposit</td>\n",
              "      <td>0</td>\n",
              "      <td>Transient</td>\n",
              "      <td>98.0</td>\n",
              "      <td>0</td>\n",
              "      <td>1</td>\n",
              "      <td>Check-Out</td>\n",
              "      <td>2015-07-03</td>\n",
              "      <td>2</td>\n",
              "    </tr>\n",
              "  </tbody>\n",
              "</table>\n",
              "</div>"
            ],
            "text/plain": [
              "          hotel  is_canceled  ...  reservation_status_date  total_nights\n",
              "0  Resort Hotel            0  ...               2015-07-01             0\n",
              "1  Resort Hotel            0  ...               2015-07-01             0\n",
              "2  Resort Hotel            0  ...               2015-07-02             1\n",
              "3  Resort Hotel            0  ...               2015-07-02             1\n",
              "4  Resort Hotel            0  ...               2015-07-03             2\n",
              "\n",
              "[5 rows x 31 columns]"
            ]
          },
          "metadata": {
            "tags": []
          },
          "execution_count": 38
        }
      ]
    },
    {
      "cell_type": "code",
      "metadata": {
        "colab": {
          "base_uri": "https://localhost:8080/",
          "height": 423
        },
        "id": "E-MWAaPSgQOi",
        "outputId": "21db365a-2c42-4978-d311-0fb2efccff1b"
      },
      "source": [
        "plt.rcParams['figure.figsize'] = (15, 5)\n",
        "month_year_wise.plot(kind='bar')"
      ],
      "execution_count": null,
      "outputs": [
        {
          "output_type": "execute_result",
          "data": {
            "text/plain": [
              "<matplotlib.axes._subplots.AxesSubplot at 0x7effae4172d0>"
            ]
          },
          "metadata": {
            "tags": []
          },
          "execution_count": 39
        },
        {
          "output_type": "display_data",
          "data": {
            "image/png": "[encoded data removed]",
            "text/plain": [
              "<Figure size 1080x360 with 1 Axes>"
            ]
          },
          "metadata": {
            "tags": [],
            "needs_background": "light"
          }
        }
      ]
    },
    {
      "cell_type": "markdown",
      "metadata": {
        "id": "QHoizpCCv1dT"
      },
      "source": [
        "- In year 2015, september and october have more bookings\n",
        "- In year 2016, september has more bookings\n",
        "- In year 2017, May has more number of bookings"
      ]
    },
    {
      "cell_type": "markdown",
      "metadata": {
        "id": "lmWLeebM3nNW"
      },
      "source": [
        "# **Most busy months**"
      ]
    },
    {
      "cell_type": "code",
      "metadata": {
        "colab": {
          "base_uri": "https://localhost:8080/",
          "height": 425
        },
        "id": "T4roRyqr34Bk",
        "outputId": "2a2a4d1c-4f2c-41b5-a064-85276b389d81"
      },
      "source": [
        "#make 2 seperate dasets for resort hotel and city hotel\n",
        "data_resort = df[(df['hotel'] == 'Resort Hotel') & (df['is_canceled'] == 0)]\n",
        "data_city = df[(df['hotel'] == 'City Hotel') & (df['is_canceled'] == 0)]\n",
        "\n",
        "#first find resort hotel guest\n",
        "resort_guests = data_resort['arrival_date_month'].value_counts().reset_index()\n",
        "resort_guests.columns=['month','no of guests']\n",
        "resort_guests"
      ],
      "execution_count": null,
      "outputs": [
        {
          "output_type": "execute_result",
          "data": {
            "text/html": [
              "<div>\n",
              "<style scoped>\n",
              "    .dataframe tbody tr th:only-of-type {\n",
              "        vertical-align: middle;\n",
              "    }\n",
              "\n",
              "    .dataframe tbody tr th {\n",
              "        vertical-align: top;\n",
              "    }\n",
              "\n",
              "    .dataframe thead th {\n",
              "        text-align: right;\n",
              "    }\n",
              "</style>\n",
              "<table border=\"1\" class=\"dataframe\">\n",
              "  <thead>\n",
              "    <tr style=\"text-align: right;\">\n",
              "      <th></th>\n",
              "      <th>month</th>\n",
              "      <th>no of guests</th>\n",
              "    </tr>\n",
              "  </thead>\n",
              "  <tbody>\n",
              "    <tr>\n",
              "      <th>0</th>\n",
              "      <td>August</td>\n",
              "      <td>3257</td>\n",
              "    </tr>\n",
              "    <tr>\n",
              "      <th>1</th>\n",
              "      <td>July</td>\n",
              "      <td>3137</td>\n",
              "    </tr>\n",
              "    <tr>\n",
              "      <th>2</th>\n",
              "      <td>October</td>\n",
              "      <td>2577</td>\n",
              "    </tr>\n",
              "    <tr>\n",
              "      <th>3</th>\n",
              "      <td>March</td>\n",
              "      <td>2573</td>\n",
              "    </tr>\n",
              "    <tr>\n",
              "      <th>4</th>\n",
              "      <td>April</td>\n",
              "      <td>2550</td>\n",
              "    </tr>\n",
              "    <tr>\n",
              "      <th>5</th>\n",
              "      <td>May</td>\n",
              "      <td>2535</td>\n",
              "    </tr>\n",
              "    <tr>\n",
              "      <th>6</th>\n",
              "      <td>February</td>\n",
              "      <td>2308</td>\n",
              "    </tr>\n",
              "    <tr>\n",
              "      <th>7</th>\n",
              "      <td>September</td>\n",
              "      <td>2102</td>\n",
              "    </tr>\n",
              "    <tr>\n",
              "      <th>8</th>\n",
              "      <td>June</td>\n",
              "      <td>2038</td>\n",
              "    </tr>\n",
              "    <tr>\n",
              "      <th>9</th>\n",
              "      <td>December</td>\n",
              "      <td>2017</td>\n",
              "    </tr>\n",
              "    <tr>\n",
              "      <th>10</th>\n",
              "      <td>November</td>\n",
              "      <td>1976</td>\n",
              "    </tr>\n",
              "    <tr>\n",
              "      <th>11</th>\n",
              "      <td>January</td>\n",
              "      <td>1868</td>\n",
              "    </tr>\n",
              "  </tbody>\n",
              "</table>\n",
              "</div>"
            ],
            "text/plain": [
              "        month  no of guests\n",
              "0      August          3257\n",
              "1        July          3137\n",
              "2     October          2577\n",
              "3       March          2573\n",
              "4       April          2550\n",
              "5         May          2535\n",
              "6    February          2308\n",
              "7   September          2102\n",
              "8        June          2038\n",
              "9    December          2017\n",
              "10   November          1976\n",
              "11    January          1868"
            ]
          },
          "metadata": {
            "tags": []
          },
          "execution_count": 40
        }
      ]
    },
    {
      "cell_type": "code",
      "metadata": {
        "colab": {
          "base_uri": "https://localhost:8080/",
          "height": 425
        },
        "id": "5iICI17V4Y5W",
        "outputId": "d33e2610-0309-4ca0-fbdb-71c0ae3f96e0"
      },
      "source": [
        "#now find out city hotel guest\n",
        "city_guests = data_city['arrival_date_month'].value_counts().reset_index()\n",
        "city_guests.columns=['month','no of guests']\n",
        "city_guests"
      ],
      "execution_count": null,
      "outputs": [
        {
          "output_type": "execute_result",
          "data": {
            "text/html": [
              "<div>\n",
              "<style scoped>\n",
              "    .dataframe tbody tr th:only-of-type {\n",
              "        vertical-align: middle;\n",
              "    }\n",
              "\n",
              "    .dataframe tbody tr th {\n",
              "        vertical-align: top;\n",
              "    }\n",
              "\n",
              "    .dataframe thead th {\n",
              "        text-align: right;\n",
              "    }\n",
              "</style>\n",
              "<table border=\"1\" class=\"dataframe\">\n",
              "  <thead>\n",
              "    <tr style=\"text-align: right;\">\n",
              "      <th></th>\n",
              "      <th>month</th>\n",
              "      <th>no of guests</th>\n",
              "    </tr>\n",
              "  </thead>\n",
              "  <tbody>\n",
              "    <tr>\n",
              "      <th>0</th>\n",
              "      <td>August</td>\n",
              "      <td>5381</td>\n",
              "    </tr>\n",
              "    <tr>\n",
              "      <th>1</th>\n",
              "      <td>July</td>\n",
              "      <td>4782</td>\n",
              "    </tr>\n",
              "    <tr>\n",
              "      <th>2</th>\n",
              "      <td>May</td>\n",
              "      <td>4579</td>\n",
              "    </tr>\n",
              "    <tr>\n",
              "      <th>3</th>\n",
              "      <td>June</td>\n",
              "      <td>4366</td>\n",
              "    </tr>\n",
              "    <tr>\n",
              "      <th>4</th>\n",
              "      <td>October</td>\n",
              "      <td>4337</td>\n",
              "    </tr>\n",
              "    <tr>\n",
              "      <th>5</th>\n",
              "      <td>September</td>\n",
              "      <td>4290</td>\n",
              "    </tr>\n",
              "    <tr>\n",
              "      <th>6</th>\n",
              "      <td>March</td>\n",
              "      <td>4072</td>\n",
              "    </tr>\n",
              "    <tr>\n",
              "      <th>7</th>\n",
              "      <td>April</td>\n",
              "      <td>4015</td>\n",
              "    </tr>\n",
              "    <tr>\n",
              "      <th>8</th>\n",
              "      <td>February</td>\n",
              "      <td>3064</td>\n",
              "    </tr>\n",
              "    <tr>\n",
              "      <th>9</th>\n",
              "      <td>November</td>\n",
              "      <td>2696</td>\n",
              "    </tr>\n",
              "    <tr>\n",
              "      <th>10</th>\n",
              "      <td>December</td>\n",
              "      <td>2392</td>\n",
              "    </tr>\n",
              "    <tr>\n",
              "      <th>11</th>\n",
              "      <td>January</td>\n",
              "      <td>2254</td>\n",
              "    </tr>\n",
              "  </tbody>\n",
              "</table>\n",
              "</div>"
            ],
            "text/plain": [
              "        month  no of guests\n",
              "0      August          5381\n",
              "1        July          4782\n",
              "2         May          4579\n",
              "3        June          4366\n",
              "4     October          4337\n",
              "5   September          4290\n",
              "6       March          4072\n",
              "7       April          4015\n",
              "8    February          3064\n",
              "9    November          2696\n",
              "10   December          2392\n",
              "11    January          2254"
            ]
          },
          "metadata": {
            "tags": []
          },
          "execution_count": 41
        }
      ]
    },
    {
      "cell_type": "code",
      "metadata": {
        "colab": {
          "base_uri": "https://localhost:8080/",
          "height": 425
        },
        "id": "cKrCTAfT7FG5",
        "outputId": "29dc2aeb-51b4-4ab2-84f6-bd9ccf6e79a7"
      },
      "source": [
        "#we merge both resort and city hotel \n",
        "final_guests = resort_guests.merge(city_guests,on='month')\n",
        "final_guests.columns=['month','no of guests in resort','no of guest in city hotel']\n",
        "final_guests"
      ],
      "execution_count": null,
      "outputs": [
        {
          "output_type": "execute_result",
          "data": {
            "text/html": [
              "<div>\n",
              "<style scoped>\n",
              "    .dataframe tbody tr th:only-of-type {\n",
              "        vertical-align: middle;\n",
              "    }\n",
              "\n",
              "    .dataframe tbody tr th {\n",
              "        vertical-align: top;\n",
              "    }\n",
              "\n",
              "    .dataframe thead th {\n",
              "        text-align: right;\n",
              "    }\n",
              "</style>\n",
              "<table border=\"1\" class=\"dataframe\">\n",
              "  <thead>\n",
              "    <tr style=\"text-align: right;\">\n",
              "      <th></th>\n",
              "      <th>month</th>\n",
              "      <th>no of guests in resort</th>\n",
              "      <th>no of guest in city hotel</th>\n",
              "    </tr>\n",
              "  </thead>\n",
              "  <tbody>\n",
              "    <tr>\n",
              "      <th>0</th>\n",
              "      <td>August</td>\n",
              "      <td>3257</td>\n",
              "      <td>5381</td>\n",
              "    </tr>\n",
              "    <tr>\n",
              "      <th>1</th>\n",
              "      <td>July</td>\n",
              "      <td>3137</td>\n",
              "      <td>4782</td>\n",
              "    </tr>\n",
              "    <tr>\n",
              "      <th>2</th>\n",
              "      <td>October</td>\n",
              "      <td>2577</td>\n",
              "      <td>4337</td>\n",
              "    </tr>\n",
              "    <tr>\n",
              "      <th>3</th>\n",
              "      <td>March</td>\n",
              "      <td>2573</td>\n",
              "      <td>4072</td>\n",
              "    </tr>\n",
              "    <tr>\n",
              "      <th>4</th>\n",
              "      <td>April</td>\n",
              "      <td>2550</td>\n",
              "      <td>4015</td>\n",
              "    </tr>\n",
              "    <tr>\n",
              "      <th>5</th>\n",
              "      <td>May</td>\n",
              "      <td>2535</td>\n",
              "      <td>4579</td>\n",
              "    </tr>\n",
              "    <tr>\n",
              "      <th>6</th>\n",
              "      <td>February</td>\n",
              "      <td>2308</td>\n",
              "      <td>3064</td>\n",
              "    </tr>\n",
              "    <tr>\n",
              "      <th>7</th>\n",
              "      <td>September</td>\n",
              "      <td>2102</td>\n",
              "      <td>4290</td>\n",
              "    </tr>\n",
              "    <tr>\n",
              "      <th>8</th>\n",
              "      <td>June</td>\n",
              "      <td>2038</td>\n",
              "      <td>4366</td>\n",
              "    </tr>\n",
              "    <tr>\n",
              "      <th>9</th>\n",
              "      <td>December</td>\n",
              "      <td>2017</td>\n",
              "      <td>2392</td>\n",
              "    </tr>\n",
              "    <tr>\n",
              "      <th>10</th>\n",
              "      <td>November</td>\n",
              "      <td>1976</td>\n",
              "      <td>2696</td>\n",
              "    </tr>\n",
              "    <tr>\n",
              "      <th>11</th>\n",
              "      <td>January</td>\n",
              "      <td>1868</td>\n",
              "      <td>2254</td>\n",
              "    </tr>\n",
              "  </tbody>\n",
              "</table>\n",
              "</div>"
            ],
            "text/plain": [
              "        month  no of guests in resort  no of guest in city hotel\n",
              "0      August                    3257                       5381\n",
              "1        July                    3137                       4782\n",
              "2     October                    2577                       4337\n",
              "3       March                    2573                       4072\n",
              "4       April                    2550                       4015\n",
              "5         May                    2535                       4579\n",
              "6    February                    2308                       3064\n",
              "7   September                    2102                       4290\n",
              "8        June                    2038                       4366\n",
              "9    December                    2017                       2392\n",
              "10   November                    1976                       2696\n",
              "11    January                    1868                       2254"
            ]
          },
          "metadata": {
            "tags": []
          },
          "execution_count": 42
        }
      ]
    },
    {
      "cell_type": "markdown",
      "metadata": {
        "id": "WXbuelQm8kau"
      },
      "source": [
        "Above analysis show, May-August are the busiest, but here some unbalanced data left"
      ]
    },
    {
      "cell_type": "code",
      "metadata": {
        "id": "By0GpXIWpL1-"
      },
      "source": [
        "# cleaning data for excess july and august month that skewing result\n",
        "data_resort1 = data_resort.copy()\n",
        "data_resort1.drop(data_resort1[(data_resort1['arrival_date_year']==2015)&(data_resort1['arrival_date_month']=='July')].index,inplace=True)\n",
        "data_resort1.drop(data_resort1[(data_resort1['arrival_date_year']==2015)&(data_resort1['arrival_date_month']=='August')].index,inplace=True)"
      ],
      "execution_count": null,
      "outputs": []
    },
    {
      "cell_type": "code",
      "metadata": {
        "id": "zLtKin1WCRmU"
      },
      "source": [
        "data_city1 = data_city.copy()\n",
        "data_city1.drop(data_city1[(data_city1['arrival_date_year']==2015)&(data_city1['arrival_date_month']=='July')].index,inplace=True)\n",
        "data_city1.drop(data_city1[(data_city1['arrival_date_year']==2015)&(data_city1['arrival_date_month']=='August')].index,inplace=True)"
      ],
      "execution_count": null,
      "outputs": []
    },
    {
      "cell_type": "code",
      "metadata": {
        "colab": {
          "base_uri": "https://localhost:8080/",
          "height": 313
        },
        "id": "rsQWeZRACT3u",
        "outputId": "072994ba-d661-481b-8a1b-e0bc9192d2f8"
      },
      "source": [
        "data_city1.head()"
      ],
      "execution_count": null,
      "outputs": [
        {
          "output_type": "execute_result",
          "data": {
            "text/html": [
              "<div>\n",
              "<style scoped>\n",
              "    .dataframe tbody tr th:only-of-type {\n",
              "        vertical-align: middle;\n",
              "    }\n",
              "\n",
              "    .dataframe tbody tr th {\n",
              "        vertical-align: top;\n",
              "    }\n",
              "\n",
              "    .dataframe thead th {\n",
              "        text-align: right;\n",
              "    }\n",
              "</style>\n",
              "<table border=\"1\" class=\"dataframe\">\n",
              "  <thead>\n",
              "    <tr style=\"text-align: right;\">\n",
              "      <th></th>\n",
              "      <th>hotel</th>\n",
              "      <th>is_canceled</th>\n",
              "      <th>lead_time</th>\n",
              "      <th>arrival_date_year</th>\n",
              "      <th>arrival_date_month</th>\n",
              "      <th>arrival_date_week_number</th>\n",
              "      <th>arrival_date_day_of_month</th>\n",
              "      <th>stays_in_weekend_nights</th>\n",
              "      <th>stays_in_week_nights</th>\n",
              "      <th>adults</th>\n",
              "      <th>children</th>\n",
              "      <th>babies</th>\n",
              "      <th>meal</th>\n",
              "      <th>country</th>\n",
              "      <th>market_segment</th>\n",
              "      <th>distribution_channel</th>\n",
              "      <th>is_repeated_guest</th>\n",
              "      <th>previous_cancellations</th>\n",
              "      <th>previous_bookings_not_canceled</th>\n",
              "      <th>reserved_room_type</th>\n",
              "      <th>assigned_room_type</th>\n",
              "      <th>booking_changes</th>\n",
              "      <th>deposit_type</th>\n",
              "      <th>days_in_waiting_list</th>\n",
              "      <th>customer_type</th>\n",
              "      <th>adr</th>\n",
              "      <th>required_car_parking_spaces</th>\n",
              "      <th>total_of_special_requests</th>\n",
              "      <th>reservation_status</th>\n",
              "      <th>reservation_status_date</th>\n",
              "      <th>total_nights</th>\n",
              "    </tr>\n",
              "  </thead>\n",
              "  <tbody>\n",
              "    <tr>\n",
              "      <th>42138</th>\n",
              "      <td>City Hotel</td>\n",
              "      <td>0</td>\n",
              "      <td>1</td>\n",
              "      <td>2015</td>\n",
              "      <td>September</td>\n",
              "      <td>36</td>\n",
              "      <td>1</td>\n",
              "      <td>0</td>\n",
              "      <td>1</td>\n",
              "      <td>1</td>\n",
              "      <td>0.0</td>\n",
              "      <td>0</td>\n",
              "      <td>BB</td>\n",
              "      <td>DEU</td>\n",
              "      <td>Online TA</td>\n",
              "      <td>TA/TO</td>\n",
              "      <td>0</td>\n",
              "      <td>0</td>\n",
              "      <td>0</td>\n",
              "      <td>A</td>\n",
              "      <td>D</td>\n",
              "      <td>0</td>\n",
              "      <td>No Deposit</td>\n",
              "      <td>0</td>\n",
              "      <td>Contract</td>\n",
              "      <td>95.00</td>\n",
              "      <td>0</td>\n",
              "      <td>1</td>\n",
              "      <td>Check-Out</td>\n",
              "      <td>2015-09-02</td>\n",
              "      <td>1</td>\n",
              "    </tr>\n",
              "    <tr>\n",
              "      <th>42139</th>\n",
              "      <td>City Hotel</td>\n",
              "      <td>0</td>\n",
              "      <td>8</td>\n",
              "      <td>2015</td>\n",
              "      <td>September</td>\n",
              "      <td>36</td>\n",
              "      <td>1</td>\n",
              "      <td>0</td>\n",
              "      <td>2</td>\n",
              "      <td>1</td>\n",
              "      <td>0.0</td>\n",
              "      <td>0</td>\n",
              "      <td>BB</td>\n",
              "      <td>PRT</td>\n",
              "      <td>Online TA</td>\n",
              "      <td>TA/TO</td>\n",
              "      <td>0</td>\n",
              "      <td>0</td>\n",
              "      <td>0</td>\n",
              "      <td>A</td>\n",
              "      <td>D</td>\n",
              "      <td>0</td>\n",
              "      <td>No Deposit</td>\n",
              "      <td>0</td>\n",
              "      <td>Transient</td>\n",
              "      <td>73.15</td>\n",
              "      <td>0</td>\n",
              "      <td>0</td>\n",
              "      <td>Check-Out</td>\n",
              "      <td>2015-09-03</td>\n",
              "      <td>2</td>\n",
              "    </tr>\n",
              "    <tr>\n",
              "      <th>42140</th>\n",
              "      <td>City Hotel</td>\n",
              "      <td>0</td>\n",
              "      <td>0</td>\n",
              "      <td>2015</td>\n",
              "      <td>September</td>\n",
              "      <td>36</td>\n",
              "      <td>1</td>\n",
              "      <td>0</td>\n",
              "      <td>1</td>\n",
              "      <td>2</td>\n",
              "      <td>0.0</td>\n",
              "      <td>0</td>\n",
              "      <td>BB</td>\n",
              "      <td>PRT</td>\n",
              "      <td>Complementary</td>\n",
              "      <td>Direct</td>\n",
              "      <td>0</td>\n",
              "      <td>0</td>\n",
              "      <td>0</td>\n",
              "      <td>A</td>\n",
              "      <td>E</td>\n",
              "      <td>0</td>\n",
              "      <td>No Deposit</td>\n",
              "      <td>0</td>\n",
              "      <td>Transient</td>\n",
              "      <td>0.00</td>\n",
              "      <td>0</td>\n",
              "      <td>0</td>\n",
              "      <td>Check-Out</td>\n",
              "      <td>2015-09-02</td>\n",
              "      <td>1</td>\n",
              "    </tr>\n",
              "    <tr>\n",
              "      <th>42141</th>\n",
              "      <td>City Hotel</td>\n",
              "      <td>0</td>\n",
              "      <td>1</td>\n",
              "      <td>2015</td>\n",
              "      <td>September</td>\n",
              "      <td>36</td>\n",
              "      <td>1</td>\n",
              "      <td>0</td>\n",
              "      <td>1</td>\n",
              "      <td>1</td>\n",
              "      <td>0.0</td>\n",
              "      <td>0</td>\n",
              "      <td>BB</td>\n",
              "      <td>PRT</td>\n",
              "      <td>Complementary</td>\n",
              "      <td>Direct</td>\n",
              "      <td>0</td>\n",
              "      <td>0</td>\n",
              "      <td>0</td>\n",
              "      <td>A</td>\n",
              "      <td>F</td>\n",
              "      <td>0</td>\n",
              "      <td>No Deposit</td>\n",
              "      <td>0</td>\n",
              "      <td>Transient</td>\n",
              "      <td>0.00</td>\n",
              "      <td>0</td>\n",
              "      <td>1</td>\n",
              "      <td>Check-Out</td>\n",
              "      <td>2015-09-02</td>\n",
              "      <td>1</td>\n",
              "    </tr>\n",
              "    <tr>\n",
              "      <th>42142</th>\n",
              "      <td>City Hotel</td>\n",
              "      <td>0</td>\n",
              "      <td>1</td>\n",
              "      <td>2015</td>\n",
              "      <td>September</td>\n",
              "      <td>36</td>\n",
              "      <td>1</td>\n",
              "      <td>0</td>\n",
              "      <td>1</td>\n",
              "      <td>1</td>\n",
              "      <td>0.0</td>\n",
              "      <td>0</td>\n",
              "      <td>BB</td>\n",
              "      <td>PRT</td>\n",
              "      <td>Complementary</td>\n",
              "      <td>Direct</td>\n",
              "      <td>0</td>\n",
              "      <td>0</td>\n",
              "      <td>0</td>\n",
              "      <td>A</td>\n",
              "      <td>A</td>\n",
              "      <td>0</td>\n",
              "      <td>No Deposit</td>\n",
              "      <td>0</td>\n",
              "      <td>Transient</td>\n",
              "      <td>0.00</td>\n",
              "      <td>0</td>\n",
              "      <td>1</td>\n",
              "      <td>Check-Out</td>\n",
              "      <td>2015-09-02</td>\n",
              "      <td>1</td>\n",
              "    </tr>\n",
              "  </tbody>\n",
              "</table>\n",
              "</div>"
            ],
            "text/plain": [
              "            hotel  is_canceled  ...  reservation_status_date  total_nights\n",
              "42138  City Hotel            0  ...               2015-09-02             1\n",
              "42139  City Hotel            0  ...               2015-09-03             2\n",
              "42140  City Hotel            0  ...               2015-09-02             1\n",
              "42141  City Hotel            0  ...               2015-09-02             1\n",
              "42142  City Hotel            0  ...               2015-09-02             1\n",
              "\n",
              "[5 rows x 31 columns]"
            ]
          },
          "metadata": {
            "tags": []
          },
          "execution_count": 45
        }
      ]
    },
    {
      "cell_type": "code",
      "metadata": {
        "colab": {
          "base_uri": "https://localhost:8080/",
          "height": 425
        },
        "id": "vgxc8aA3FOCa",
        "outputId": "35cf94f0-6ee9-4ce2-9c07-a41459c1213d"
      },
      "source": [
        "#first find resort hotel guest\n",
        "resort_guests1 = data_resort1['arrival_date_month'].value_counts().reset_index()\n",
        "resort_guests1.columns=['month','no of guests']\n",
        "resort_guests1"
      ],
      "execution_count": null,
      "outputs": [
        {
          "output_type": "execute_result",
          "data": {
            "text/html": [
              "<div>\n",
              "<style scoped>\n",
              "    .dataframe tbody tr th:only-of-type {\n",
              "        vertical-align: middle;\n",
              "    }\n",
              "\n",
              "    .dataframe tbody tr th {\n",
              "        vertical-align: top;\n",
              "    }\n",
              "\n",
              "    .dataframe thead th {\n",
              "        text-align: right;\n",
              "    }\n",
              "</style>\n",
              "<table border=\"1\" class=\"dataframe\">\n",
              "  <thead>\n",
              "    <tr style=\"text-align: right;\">\n",
              "      <th></th>\n",
              "      <th>month</th>\n",
              "      <th>no of guests</th>\n",
              "    </tr>\n",
              "  </thead>\n",
              "  <tbody>\n",
              "    <tr>\n",
              "      <th>0</th>\n",
              "      <td>October</td>\n",
              "      <td>2577</td>\n",
              "    </tr>\n",
              "    <tr>\n",
              "      <th>1</th>\n",
              "      <td>March</td>\n",
              "      <td>2573</td>\n",
              "    </tr>\n",
              "    <tr>\n",
              "      <th>2</th>\n",
              "      <td>April</td>\n",
              "      <td>2550</td>\n",
              "    </tr>\n",
              "    <tr>\n",
              "      <th>3</th>\n",
              "      <td>May</td>\n",
              "      <td>2535</td>\n",
              "    </tr>\n",
              "    <tr>\n",
              "      <th>4</th>\n",
              "      <td>February</td>\n",
              "      <td>2308</td>\n",
              "    </tr>\n",
              "    <tr>\n",
              "      <th>5</th>\n",
              "      <td>August</td>\n",
              "      <td>2214</td>\n",
              "    </tr>\n",
              "    <tr>\n",
              "      <th>6</th>\n",
              "      <td>September</td>\n",
              "      <td>2102</td>\n",
              "    </tr>\n",
              "    <tr>\n",
              "      <th>7</th>\n",
              "      <td>July</td>\n",
              "      <td>2079</td>\n",
              "    </tr>\n",
              "    <tr>\n",
              "      <th>8</th>\n",
              "      <td>June</td>\n",
              "      <td>2038</td>\n",
              "    </tr>\n",
              "    <tr>\n",
              "      <th>9</th>\n",
              "      <td>December</td>\n",
              "      <td>2017</td>\n",
              "    </tr>\n",
              "    <tr>\n",
              "      <th>10</th>\n",
              "      <td>November</td>\n",
              "      <td>1976</td>\n",
              "    </tr>\n",
              "    <tr>\n",
              "      <th>11</th>\n",
              "      <td>January</td>\n",
              "      <td>1868</td>\n",
              "    </tr>\n",
              "  </tbody>\n",
              "</table>\n",
              "</div>"
            ],
            "text/plain": [
              "        month  no of guests\n",
              "0     October          2577\n",
              "1       March          2573\n",
              "2       April          2550\n",
              "3         May          2535\n",
              "4    February          2308\n",
              "5      August          2214\n",
              "6   September          2102\n",
              "7        July          2079\n",
              "8        June          2038\n",
              "9    December          2017\n",
              "10   November          1976\n",
              "11    January          1868"
            ]
          },
          "metadata": {
            "tags": []
          },
          "execution_count": 46
        }
      ]
    },
    {
      "cell_type": "code",
      "metadata": {
        "colab": {
          "base_uri": "https://localhost:8080/",
          "height": 425
        },
        "id": "GOOPp43IFb2d",
        "outputId": "ace8cbcf-80e8-4a64-acaf-8cc3a83f9be1"
      },
      "source": [
        "#now find out city hotel guest\n",
        "city_guests1 = data_city1['arrival_date_month'].value_counts().reset_index()\n",
        "city_guests1.columns=['month','no of guests']\n",
        "city_guests1"
      ],
      "execution_count": null,
      "outputs": [
        {
          "output_type": "execute_result",
          "data": {
            "text/html": [
              "<div>\n",
              "<style scoped>\n",
              "    .dataframe tbody tr th:only-of-type {\n",
              "        vertical-align: middle;\n",
              "    }\n",
              "\n",
              "    .dataframe tbody tr th {\n",
              "        vertical-align: top;\n",
              "    }\n",
              "\n",
              "    .dataframe thead th {\n",
              "        text-align: right;\n",
              "    }\n",
              "</style>\n",
              "<table border=\"1\" class=\"dataframe\">\n",
              "  <thead>\n",
              "    <tr style=\"text-align: right;\">\n",
              "      <th></th>\n",
              "      <th>month</th>\n",
              "      <th>no of guests</th>\n",
              "    </tr>\n",
              "  </thead>\n",
              "  <tbody>\n",
              "    <tr>\n",
              "      <th>0</th>\n",
              "      <td>May</td>\n",
              "      <td>4579</td>\n",
              "    </tr>\n",
              "    <tr>\n",
              "      <th>1</th>\n",
              "      <td>June</td>\n",
              "      <td>4366</td>\n",
              "    </tr>\n",
              "    <tr>\n",
              "      <th>2</th>\n",
              "      <td>October</td>\n",
              "      <td>4337</td>\n",
              "    </tr>\n",
              "    <tr>\n",
              "      <th>3</th>\n",
              "      <td>July</td>\n",
              "      <td>4323</td>\n",
              "    </tr>\n",
              "    <tr>\n",
              "      <th>4</th>\n",
              "      <td>September</td>\n",
              "      <td>4290</td>\n",
              "    </tr>\n",
              "    <tr>\n",
              "      <th>5</th>\n",
              "      <td>August</td>\n",
              "      <td>4133</td>\n",
              "    </tr>\n",
              "    <tr>\n",
              "      <th>6</th>\n",
              "      <td>March</td>\n",
              "      <td>4072</td>\n",
              "    </tr>\n",
              "    <tr>\n",
              "      <th>7</th>\n",
              "      <td>April</td>\n",
              "      <td>4015</td>\n",
              "    </tr>\n",
              "    <tr>\n",
              "      <th>8</th>\n",
              "      <td>February</td>\n",
              "      <td>3064</td>\n",
              "    </tr>\n",
              "    <tr>\n",
              "      <th>9</th>\n",
              "      <td>November</td>\n",
              "      <td>2696</td>\n",
              "    </tr>\n",
              "    <tr>\n",
              "      <th>10</th>\n",
              "      <td>December</td>\n",
              "      <td>2392</td>\n",
              "    </tr>\n",
              "    <tr>\n",
              "      <th>11</th>\n",
              "      <td>January</td>\n",
              "      <td>2254</td>\n",
              "    </tr>\n",
              "  </tbody>\n",
              "</table>\n",
              "</div>"
            ],
            "text/plain": [
              "        month  no of guests\n",
              "0         May          4579\n",
              "1        June          4366\n",
              "2     October          4337\n",
              "3        July          4323\n",
              "4   September          4290\n",
              "5      August          4133\n",
              "6       March          4072\n",
              "7       April          4015\n",
              "8    February          3064\n",
              "9    November          2696\n",
              "10   December          2392\n",
              "11    January          2254"
            ]
          },
          "metadata": {
            "tags": []
          },
          "execution_count": 47
        }
      ]
    },
    {
      "cell_type": "code",
      "metadata": {
        "colab": {
          "base_uri": "https://localhost:8080/",
          "height": 425
        },
        "id": "dv9BJoPzCoUA",
        "outputId": "bd8eb1f3-377f-44fe-e538-1817ee1798bb"
      },
      "source": [
        "#we merge both resort and city hotel \n",
        "final_guests1 = resort_guests1.merge(city_guests1,on='month')\n",
        "final_guests1.columns=['month','guests in resort','guest in city hotel']\n",
        "final_guests1"
      ],
      "execution_count": null,
      "outputs": [
        {
          "output_type": "execute_result",
          "data": {
            "text/html": [
              "<div>\n",
              "<style scoped>\n",
              "    .dataframe tbody tr th:only-of-type {\n",
              "        vertical-align: middle;\n",
              "    }\n",
              "\n",
              "    .dataframe tbody tr th {\n",
              "        vertical-align: top;\n",
              "    }\n",
              "\n",
              "    .dataframe thead th {\n",
              "        text-align: right;\n",
              "    }\n",
              "</style>\n",
              "<table border=\"1\" class=\"dataframe\">\n",
              "  <thead>\n",
              "    <tr style=\"text-align: right;\">\n",
              "      <th></th>\n",
              "      <th>month</th>\n",
              "      <th>guests in resort</th>\n",
              "      <th>guest in city hotel</th>\n",
              "    </tr>\n",
              "  </thead>\n",
              "  <tbody>\n",
              "    <tr>\n",
              "      <th>0</th>\n",
              "      <td>October</td>\n",
              "      <td>2577</td>\n",
              "      <td>4337</td>\n",
              "    </tr>\n",
              "    <tr>\n",
              "      <th>1</th>\n",
              "      <td>March</td>\n",
              "      <td>2573</td>\n",
              "      <td>4072</td>\n",
              "    </tr>\n",
              "    <tr>\n",
              "      <th>2</th>\n",
              "      <td>April</td>\n",
              "      <td>2550</td>\n",
              "      <td>4015</td>\n",
              "    </tr>\n",
              "    <tr>\n",
              "      <th>3</th>\n",
              "      <td>May</td>\n",
              "      <td>2535</td>\n",
              "      <td>4579</td>\n",
              "    </tr>\n",
              "    <tr>\n",
              "      <th>4</th>\n",
              "      <td>February</td>\n",
              "      <td>2308</td>\n",
              "      <td>3064</td>\n",
              "    </tr>\n",
              "    <tr>\n",
              "      <th>5</th>\n",
              "      <td>August</td>\n",
              "      <td>2214</td>\n",
              "      <td>4133</td>\n",
              "    </tr>\n",
              "    <tr>\n",
              "      <th>6</th>\n",
              "      <td>September</td>\n",
              "      <td>2102</td>\n",
              "      <td>4290</td>\n",
              "    </tr>\n",
              "    <tr>\n",
              "      <th>7</th>\n",
              "      <td>July</td>\n",
              "      <td>2079</td>\n",
              "      <td>4323</td>\n",
              "    </tr>\n",
              "    <tr>\n",
              "      <th>8</th>\n",
              "      <td>June</td>\n",
              "      <td>2038</td>\n",
              "      <td>4366</td>\n",
              "    </tr>\n",
              "    <tr>\n",
              "      <th>9</th>\n",
              "      <td>December</td>\n",
              "      <td>2017</td>\n",
              "      <td>2392</td>\n",
              "    </tr>\n",
              "    <tr>\n",
              "      <th>10</th>\n",
              "      <td>November</td>\n",
              "      <td>1976</td>\n",
              "      <td>2696</td>\n",
              "    </tr>\n",
              "    <tr>\n",
              "      <th>11</th>\n",
              "      <td>January</td>\n",
              "      <td>1868</td>\n",
              "      <td>2254</td>\n",
              "    </tr>\n",
              "  </tbody>\n",
              "</table>\n",
              "</div>"
            ],
            "text/plain": [
              "        month  guests in resort  guest in city hotel\n",
              "0     October              2577                 4337\n",
              "1       March              2573                 4072\n",
              "2       April              2550                 4015\n",
              "3         May              2535                 4579\n",
              "4    February              2308                 3064\n",
              "5      August              2214                 4133\n",
              "6   September              2102                 4290\n",
              "7        July              2079                 4323\n",
              "8        June              2038                 4366\n",
              "9    December              2017                 2392\n",
              "10   November              1976                 2696\n",
              "11    January              1868                 2254"
            ]
          },
          "metadata": {
            "tags": []
          },
          "execution_count": 48
        }
      ]
    },
    {
      "cell_type": "code",
      "metadata": {
        "colab": {
          "base_uri": "https://localhost:8080/"
        },
        "id": "IJIB4Lojbb-9",
        "outputId": "599585ef-5628-4a44-953d-1b93c167ae8b"
      },
      "source": [
        "!pip install sort_dataframeby_monthorweek\n",
        "!pip install sorted-months-weekdays"
      ],
      "execution_count": null,
      "outputs": [
        {
          "output_type": "stream",
          "text": [
            "Collecting sort_dataframeby_monthorweek\n",
            "  Downloading sort_dataframeby_monthorweek-0.4.tar.gz (2.8 kB)\n",
            "Building wheels for collected packages: sort-dataframeby-monthorweek\n",
            "  Building wheel for sort-dataframeby-monthorweek (setup.py) ... \u001b[?25l\u001b[?25hdone\n",
            "  Created wheel for sort-dataframeby-monthorweek: filename=sort_dataframeby_monthorweek-0.4-py3-none-any.whl size=3441 sha256=3bd8eaec19007e821c8b175b6d8641cd2332b7a5919d20674f283754c182a38a\n",
            "  Stored in directory: /root/.cache/pip/wheels/de/e1/ad/5fe265a9780676079c4b8caaaffaa8d5c4ab2f37cf823e8aa8\n",
            "Successfully built sort-dataframeby-monthorweek\n",
            "Installing collected packages: sort-dataframeby-monthorweek\n",
            "Successfully installed sort-dataframeby-monthorweek-0.4\n",
            "Collecting sorted-months-weekdays\n",
            "  Downloading sorted_months_weekdays-0.2.tar.gz (2.7 kB)\n",
            "Building wheels for collected packages: sorted-months-weekdays\n",
            "  Building wheel for sorted-months-weekdays (setup.py) ... \u001b[?25l\u001b[?25hdone\n",
            "  Created wheel for sorted-months-weekdays: filename=sorted_months_weekdays-0.2-py3-none-any.whl size=3247 sha256=9af452a95bb783f83ceeeca7633eaa239d32129eb3e0e98e6ba3de94c58ccc05\n",
            "  Stored in directory: /root/.cache/pip/wheels/4f/4f/78/3f1b8fc72651f7c766a6f73d667fccb12a8aabe240b38df7a4\n",
            "Successfully built sorted-months-weekdays\n",
            "Installing collected packages: sorted-months-weekdays\n",
            "Successfully installed sorted-months-weekdays-0.2\n"
          ],
          "name": "stdout"
        }
      ]
    },
    {
      "cell_type": "code",
      "metadata": {
        "colab": {
          "base_uri": "https://localhost:8080/",
          "height": 425
        },
        "id": "XWvtcZVGb1pX",
        "outputId": "2a22f7e6-8275-45fc-9cab-74161c3b193e"
      },
      "source": [
        "import sort_dataframeby_monthorweek\n",
        "df_sort = sort_dataframeby_monthorweek.Sort_Dataframeby_Month(df=final_guests1,monthcolumnname='month')\n",
        "df_sort"
      ],
      "execution_count": null,
      "outputs": [
        {
          "output_type": "execute_result",
          "data": {
            "text/html": [
              "<div>\n",
              "<style scoped>\n",
              "    .dataframe tbody tr th:only-of-type {\n",
              "        vertical-align: middle;\n",
              "    }\n",
              "\n",
              "    .dataframe tbody tr th {\n",
              "        vertical-align: top;\n",
              "    }\n",
              "\n",
              "    .dataframe thead th {\n",
              "        text-align: right;\n",
              "    }\n",
              "</style>\n",
              "<table border=\"1\" class=\"dataframe\">\n",
              "  <thead>\n",
              "    <tr style=\"text-align: right;\">\n",
              "      <th></th>\n",
              "      <th>month</th>\n",
              "      <th>guests in resort</th>\n",
              "      <th>guest in city hotel</th>\n",
              "    </tr>\n",
              "  </thead>\n",
              "  <tbody>\n",
              "    <tr>\n",
              "      <th>0</th>\n",
              "      <td>January</td>\n",
              "      <td>1868</td>\n",
              "      <td>2254</td>\n",
              "    </tr>\n",
              "    <tr>\n",
              "      <th>1</th>\n",
              "      <td>February</td>\n",
              "      <td>2308</td>\n",
              "      <td>3064</td>\n",
              "    </tr>\n",
              "    <tr>\n",
              "      <th>2</th>\n",
              "      <td>March</td>\n",
              "      <td>2573</td>\n",
              "      <td>4072</td>\n",
              "    </tr>\n",
              "    <tr>\n",
              "      <th>3</th>\n",
              "      <td>April</td>\n",
              "      <td>2550</td>\n",
              "      <td>4015</td>\n",
              "    </tr>\n",
              "    <tr>\n",
              "      <th>4</th>\n",
              "      <td>May</td>\n",
              "      <td>2535</td>\n",
              "      <td>4579</td>\n",
              "    </tr>\n",
              "    <tr>\n",
              "      <th>5</th>\n",
              "      <td>June</td>\n",
              "      <td>2038</td>\n",
              "      <td>4366</td>\n",
              "    </tr>\n",
              "    <tr>\n",
              "      <th>6</th>\n",
              "      <td>July</td>\n",
              "      <td>2079</td>\n",
              "      <td>4323</td>\n",
              "    </tr>\n",
              "    <tr>\n",
              "      <th>7</th>\n",
              "      <td>August</td>\n",
              "      <td>2214</td>\n",
              "      <td>4133</td>\n",
              "    </tr>\n",
              "    <tr>\n",
              "      <th>8</th>\n",
              "      <td>September</td>\n",
              "      <td>2102</td>\n",
              "      <td>4290</td>\n",
              "    </tr>\n",
              "    <tr>\n",
              "      <th>9</th>\n",
              "      <td>October</td>\n",
              "      <td>2577</td>\n",
              "      <td>4337</td>\n",
              "    </tr>\n",
              "    <tr>\n",
              "      <th>10</th>\n",
              "      <td>November</td>\n",
              "      <td>1976</td>\n",
              "      <td>2696</td>\n",
              "    </tr>\n",
              "    <tr>\n",
              "      <th>11</th>\n",
              "      <td>December</td>\n",
              "      <td>2017</td>\n",
              "      <td>2392</td>\n",
              "    </tr>\n",
              "  </tbody>\n",
              "</table>\n",
              "</div>"
            ],
            "text/plain": [
              "        month  guests in resort  guest in city hotel\n",
              "0     January              1868                 2254\n",
              "1    February              2308                 3064\n",
              "2       March              2573                 4072\n",
              "3       April              2550                 4015\n",
              "4         May              2535                 4579\n",
              "5        June              2038                 4366\n",
              "6        July              2079                 4323\n",
              "7      August              2214                 4133\n",
              "8   September              2102                 4290\n",
              "9     October              2577                 4337\n",
              "10   November              1976                 2696\n",
              "11   December              2017                 2392"
            ]
          },
          "metadata": {
            "tags": []
          },
          "execution_count": 50
        }
      ]
    },
    {
      "cell_type": "code",
      "metadata": {
        "colab": {
          "base_uri": "https://localhost:8080/",
          "height": 351
        },
        "id": "zfYm8PZf7kho",
        "outputId": "274e9b57-13c7-4df8-a982-08219bdaad06"
      },
      "source": [
        "plt.plot(df_sort['month'], df_sort['guest in city hotel'],'-.h')\n",
        "plt.plot(df_sort['month'], df_sort['guests in resort'],'-h')\n",
        "plt.title('Demand according to month')\n",
        "plt.xlabel('Months')\n",
        "plt.ylabel('Number of bookings')\n",
        "plt.legend(labels=['City hotel demand','Resort hotel demand'])"
      ],
      "execution_count": null,
      "outputs": [
        {
          "output_type": "execute_result",
          "data": {
            "text/plain": [
              "<matplotlib.legend.Legend at 0x7effadc31c10>"
            ]
          },
          "metadata": {
            "tags": []
          },
          "execution_count": 51
        },
        {
          "output_type": "display_data",
          "data": {
            "image/png": "[encoded data removed]",
            "text/plain": [
              "<Figure size 1080x360 with 1 Axes>"
            ]
          },
          "metadata": {
            "tags": [],
            "needs_background": "light"
          }
        }
      ]
    },
    {
      "cell_type": "code",
      "metadata": {
        "colab": {
          "base_uri": "https://localhost:8080/",
          "height": 425
        },
        "id": "BZB94Ul_uTOL",
        "outputId": "f345a63e-4625-48a8-80f1-c15833620022"
      },
      "source": [
        "resort_month_df = data_resort1.groupby(['arrival_date_month'])['adr'].mean().reset_index()\n",
        "resort_month_df.head(15)"
      ],
      "execution_count": null,
      "outputs": [
        {
          "output_type": "execute_result",
          "data": {
            "text/html": [
              "<div>\n",
              "<style scoped>\n",
              "    .dataframe tbody tr th:only-of-type {\n",
              "        vertical-align: middle;\n",
              "    }\n",
              "\n",
              "    .dataframe tbody tr th {\n",
              "        vertical-align: top;\n",
              "    }\n",
              "\n",
              "    .dataframe thead th {\n",
              "        text-align: right;\n",
              "    }\n",
              "</style>\n",
              "<table border=\"1\" class=\"dataframe\">\n",
              "  <thead>\n",
              "    <tr style=\"text-align: right;\">\n",
              "      <th></th>\n",
              "      <th>arrival_date_month</th>\n",
              "      <th>adr</th>\n",
              "    </tr>\n",
              "  </thead>\n",
              "  <tbody>\n",
              "    <tr>\n",
              "      <th>0</th>\n",
              "      <td>April</td>\n",
              "      <td>75.867816</td>\n",
              "    </tr>\n",
              "    <tr>\n",
              "      <th>1</th>\n",
              "      <td>August</td>\n",
              "      <td>194.381323</td>\n",
              "    </tr>\n",
              "    <tr>\n",
              "      <th>2</th>\n",
              "      <td>December</td>\n",
              "      <td>68.322236</td>\n",
              "    </tr>\n",
              "    <tr>\n",
              "      <th>3</th>\n",
              "      <td>February</td>\n",
              "      <td>54.147478</td>\n",
              "    </tr>\n",
              "    <tr>\n",
              "      <th>4</th>\n",
              "      <td>January</td>\n",
              "      <td>48.708919</td>\n",
              "    </tr>\n",
              "    <tr>\n",
              "      <th>5</th>\n",
              "      <td>July</td>\n",
              "      <td>162.794949</td>\n",
              "    </tr>\n",
              "    <tr>\n",
              "      <th>6</th>\n",
              "      <td>June</td>\n",
              "      <td>107.921869</td>\n",
              "    </tr>\n",
              "    <tr>\n",
              "      <th>7</th>\n",
              "      <td>March</td>\n",
              "      <td>57.012487</td>\n",
              "    </tr>\n",
              "    <tr>\n",
              "      <th>8</th>\n",
              "      <td>May</td>\n",
              "      <td>76.657558</td>\n",
              "    </tr>\n",
              "    <tr>\n",
              "      <th>9</th>\n",
              "      <td>November</td>\n",
              "      <td>48.681640</td>\n",
              "    </tr>\n",
              "    <tr>\n",
              "      <th>10</th>\n",
              "      <td>October</td>\n",
              "      <td>61.727505</td>\n",
              "    </tr>\n",
              "    <tr>\n",
              "      <th>11</th>\n",
              "      <td>September</td>\n",
              "      <td>96.416860</td>\n",
              "    </tr>\n",
              "  </tbody>\n",
              "</table>\n",
              "</div>"
            ],
            "text/plain": [
              "   arrival_date_month         adr\n",
              "0               April   75.867816\n",
              "1              August  194.381323\n",
              "2            December   68.322236\n",
              "3            February   54.147478\n",
              "4             January   48.708919\n",
              "5                July  162.794949\n",
              "6                June  107.921869\n",
              "7               March   57.012487\n",
              "8                 May   76.657558\n",
              "9            November   48.681640\n",
              "10            October   61.727505\n",
              "11          September   96.416860"
            ]
          },
          "metadata": {
            "tags": []
          },
          "execution_count": 52
        }
      ]
    },
    {
      "cell_type": "code",
      "metadata": {
        "colab": {
          "base_uri": "https://localhost:8080/",
          "height": 425
        },
        "id": "bVWhTEwxu3HD",
        "outputId": "b217a79c-49bd-4b65-a324-ee8025680676"
      },
      "source": [
        "city_month_df = data_city1.groupby(['arrival_date_month'])['adr'].mean().reset_index()\n",
        "city_month_df.head(15)\n",
        "#we merge both resort and city hotel monthly data average\n",
        "final_month_adr = resort_month_df.merge(city_month_df,on='arrival_date_month')\n",
        "final_month_adr.columns=['month','Month avg resort','Month avg city']\n",
        "final_month_adr"
      ],
      "execution_count": null,
      "outputs": [
        {
          "output_type": "execute_result",
          "data": {
            "text/html": [
              "<div>\n",
              "<style scoped>\n",
              "    .dataframe tbody tr th:only-of-type {\n",
              "        vertical-align: middle;\n",
              "    }\n",
              "\n",
              "    .dataframe tbody tr th {\n",
              "        vertical-align: top;\n",
              "    }\n",
              "\n",
              "    .dataframe thead th {\n",
              "        text-align: right;\n",
              "    }\n",
              "</style>\n",
              "<table border=\"1\" class=\"dataframe\">\n",
              "  <thead>\n",
              "    <tr style=\"text-align: right;\">\n",
              "      <th></th>\n",
              "      <th>month</th>\n",
              "      <th>Month avg resort</th>\n",
              "      <th>Month avg city</th>\n",
              "    </tr>\n",
              "  </thead>\n",
              "  <tbody>\n",
              "    <tr>\n",
              "      <th>0</th>\n",
              "      <td>April</td>\n",
              "      <td>75.867816</td>\n",
              "      <td>111.856824</td>\n",
              "    </tr>\n",
              "    <tr>\n",
              "      <th>1</th>\n",
              "      <td>August</td>\n",
              "      <td>194.381323</td>\n",
              "      <td>129.485550</td>\n",
              "    </tr>\n",
              "    <tr>\n",
              "      <th>2</th>\n",
              "      <td>December</td>\n",
              "      <td>68.322236</td>\n",
              "      <td>87.856764</td>\n",
              "    </tr>\n",
              "    <tr>\n",
              "      <th>3</th>\n",
              "      <td>February</td>\n",
              "      <td>54.147478</td>\n",
              "      <td>86.183025</td>\n",
              "    </tr>\n",
              "    <tr>\n",
              "      <th>4</th>\n",
              "      <td>January</td>\n",
              "      <td>48.708919</td>\n",
              "      <td>82.160634</td>\n",
              "    </tr>\n",
              "    <tr>\n",
              "      <th>5</th>\n",
              "      <td>July</td>\n",
              "      <td>162.794949</td>\n",
              "      <td>120.020275</td>\n",
              "    </tr>\n",
              "    <tr>\n",
              "      <th>6</th>\n",
              "      <td>June</td>\n",
              "      <td>107.921869</td>\n",
              "      <td>117.702075</td>\n",
              "    </tr>\n",
              "    <tr>\n",
              "      <th>7</th>\n",
              "      <td>March</td>\n",
              "      <td>57.012487</td>\n",
              "      <td>90.170722</td>\n",
              "    </tr>\n",
              "    <tr>\n",
              "      <th>8</th>\n",
              "      <td>May</td>\n",
              "      <td>76.657558</td>\n",
              "      <td>120.445842</td>\n",
              "    </tr>\n",
              "    <tr>\n",
              "      <th>9</th>\n",
              "      <td>November</td>\n",
              "      <td>48.681640</td>\n",
              "      <td>86.500456</td>\n",
              "    </tr>\n",
              "    <tr>\n",
              "      <th>10</th>\n",
              "      <td>October</td>\n",
              "      <td>61.727505</td>\n",
              "      <td>101.745956</td>\n",
              "    </tr>\n",
              "    <tr>\n",
              "      <th>11</th>\n",
              "      <td>September</td>\n",
              "      <td>96.416860</td>\n",
              "      <td>112.598452</td>\n",
              "    </tr>\n",
              "  </tbody>\n",
              "</table>\n",
              "</div>"
            ],
            "text/plain": [
              "        month  Month avg resort  Month avg city\n",
              "0       April         75.867816      111.856824\n",
              "1      August        194.381323      129.485550\n",
              "2    December         68.322236       87.856764\n",
              "3    February         54.147478       86.183025\n",
              "4     January         48.708919       82.160634\n",
              "5        July        162.794949      120.020275\n",
              "6        June        107.921869      117.702075\n",
              "7       March         57.012487       90.170722\n",
              "8         May         76.657558      120.445842\n",
              "9    November         48.681640       86.500456\n",
              "10    October         61.727505      101.745956\n",
              "11  September         96.416860      112.598452"
            ]
          },
          "metadata": {
            "tags": []
          },
          "execution_count": 53
        }
      ]
    },
    {
      "cell_type": "code",
      "metadata": {
        "colab": {
          "base_uri": "https://localhost:8080/",
          "height": 425
        },
        "id": "IpPtu-jswI84",
        "outputId": "f5f3294d-23d8-4a42-d16e-994d55a1f85c"
      },
      "source": [
        "import sort_dataframeby_monthorweek\n",
        "df_sort_month = sort_dataframeby_monthorweek.Sort_Dataframeby_Month(df=final_month_adr,monthcolumnname='month')\n",
        "df_sort_month"
      ],
      "execution_count": null,
      "outputs": [
        {
          "output_type": "execute_result",
          "data": {
            "text/html": [
              "<div>\n",
              "<style scoped>\n",
              "    .dataframe tbody tr th:only-of-type {\n",
              "        vertical-align: middle;\n",
              "    }\n",
              "\n",
              "    .dataframe tbody tr th {\n",
              "        vertical-align: top;\n",
              "    }\n",
              "\n",
              "    .dataframe thead th {\n",
              "        text-align: right;\n",
              "    }\n",
              "</style>\n",
              "<table border=\"1\" class=\"dataframe\">\n",
              "  <thead>\n",
              "    <tr style=\"text-align: right;\">\n",
              "      <th></th>\n",
              "      <th>month</th>\n",
              "      <th>Month avg resort</th>\n",
              "      <th>Month avg city</th>\n",
              "    </tr>\n",
              "  </thead>\n",
              "  <tbody>\n",
              "    <tr>\n",
              "      <th>0</th>\n",
              "      <td>January</td>\n",
              "      <td>48.708919</td>\n",
              "      <td>82.160634</td>\n",
              "    </tr>\n",
              "    <tr>\n",
              "      <th>1</th>\n",
              "      <td>February</td>\n",
              "      <td>54.147478</td>\n",
              "      <td>86.183025</td>\n",
              "    </tr>\n",
              "    <tr>\n",
              "      <th>2</th>\n",
              "      <td>March</td>\n",
              "      <td>57.012487</td>\n",
              "      <td>90.170722</td>\n",
              "    </tr>\n",
              "    <tr>\n",
              "      <th>3</th>\n",
              "      <td>April</td>\n",
              "      <td>75.867816</td>\n",
              "      <td>111.856824</td>\n",
              "    </tr>\n",
              "    <tr>\n",
              "      <th>4</th>\n",
              "      <td>May</td>\n",
              "      <td>76.657558</td>\n",
              "      <td>120.445842</td>\n",
              "    </tr>\n",
              "    <tr>\n",
              "      <th>5</th>\n",
              "      <td>June</td>\n",
              "      <td>107.921869</td>\n",
              "      <td>117.702075</td>\n",
              "    </tr>\n",
              "    <tr>\n",
              "      <th>6</th>\n",
              "      <td>July</td>\n",
              "      <td>162.794949</td>\n",
              "      <td>120.020275</td>\n",
              "    </tr>\n",
              "    <tr>\n",
              "      <th>7</th>\n",
              "      <td>August</td>\n",
              "      <td>194.381323</td>\n",
              "      <td>129.485550</td>\n",
              "    </tr>\n",
              "    <tr>\n",
              "      <th>8</th>\n",
              "      <td>September</td>\n",
              "      <td>96.416860</td>\n",
              "      <td>112.598452</td>\n",
              "    </tr>\n",
              "    <tr>\n",
              "      <th>9</th>\n",
              "      <td>October</td>\n",
              "      <td>61.727505</td>\n",
              "      <td>101.745956</td>\n",
              "    </tr>\n",
              "    <tr>\n",
              "      <th>10</th>\n",
              "      <td>November</td>\n",
              "      <td>48.681640</td>\n",
              "      <td>86.500456</td>\n",
              "    </tr>\n",
              "    <tr>\n",
              "      <th>11</th>\n",
              "      <td>December</td>\n",
              "      <td>68.322236</td>\n",
              "      <td>87.856764</td>\n",
              "    </tr>\n",
              "  </tbody>\n",
              "</table>\n",
              "</div>"
            ],
            "text/plain": [
              "        month  Month avg resort  Month avg city\n",
              "0     January         48.708919       82.160634\n",
              "1    February         54.147478       86.183025\n",
              "2       March         57.012487       90.170722\n",
              "3       April         75.867816      111.856824\n",
              "4         May         76.657558      120.445842\n",
              "5        June        107.921869      117.702075\n",
              "6        July        162.794949      120.020275\n",
              "7      August        194.381323      129.485550\n",
              "8   September         96.416860      112.598452\n",
              "9     October         61.727505      101.745956\n",
              "10   November         48.681640       86.500456\n",
              "11   December         68.322236       87.856764"
            ]
          },
          "metadata": {
            "tags": []
          },
          "execution_count": 54
        }
      ]
    },
    {
      "cell_type": "code",
      "metadata": {
        "colab": {
          "base_uri": "https://localhost:8080/",
          "height": 353
        },
        "id": "0hFfPrLUwWXC",
        "outputId": "530e501d-5cc4-4999-e322-33ffb247a052"
      },
      "source": [
        "plt.plot(df_sort_month['month'], df_sort_month['Month avg city'],'-.h')\n",
        "plt.plot(df_sort_month['month'], df_sort_month['Month avg resort'],'-h')\n",
        "plt.title('Demand according to month')\n",
        "plt.xlabel('Months')\n",
        "plt.ylabel('Average price according to month')\n",
        "plt.legend(labels=['Month avg City ','Month avg Resort'])"
      ],
      "execution_count": null,
      "outputs": [
        {
          "output_type": "execute_result",
          "data": {
            "text/plain": [
              "<matplotlib.legend.Legend at 0x7effadbc8690>"
            ]
          },
          "metadata": {
            "tags": []
          },
          "execution_count": 55
        },
        {
          "output_type": "display_data",
          "data": {
            "image/png": "[encoded data removed]",
            "text/plain": [
              "<Figure size 1080x360 with 1 Axes>"
            ]
          },
          "metadata": {
            "tags": [],
            "needs_background": "light"
          }
        }
      ]
    },
    {
      "cell_type": "markdown",
      "metadata": {
        "id": "TlDGIvpeEFBB"
      },
      "source": [
        "## The optimal length of stay in order to get the best daily rate?"
      ]
    },
    {
      "cell_type": "code",
      "metadata": {
        "id": "cCs_OPfC_R6Y"
      },
      "source": [
        "resort_data = df[(df['hotel'] == 'Resort Hotel') & (df['is_canceled'] == 0)]\n",
        "city_data = df[(df['hotel'] == 'City Hotel') & (df['is_canceled'] == 0)]"
      ],
      "execution_count": null,
      "outputs": []
    },
    {
      "cell_type": "code",
      "metadata": {
        "colab": {
          "base_uri": "https://localhost:8080/"
        },
        "id": "bC7nT3XH_4L7",
        "outputId": "f0519020-f5af-4e93-a2ed-632bbe68cbf2"
      },
      "source": [
        "resort_data.columns"
      ],
      "execution_count": null,
      "outputs": [
        {
          "output_type": "execute_result",
          "data": {
            "text/plain": [
              "Index(['hotel', 'is_canceled', 'lead_time', 'arrival_date_year',\n",
              "       'arrival_date_month', 'arrival_date_week_number',\n",
              "       'arrival_date_day_of_month', 'stays_in_weekend_nights',\n",
              "       'stays_in_week_nights', 'adults', 'children', 'babies', 'meal',\n",
              "       'country', 'market_segment', 'distribution_channel',\n",
              "       'is_repeated_guest', 'previous_cancellations',\n",
              "       'previous_bookings_not_canceled', 'reserved_room_type',\n",
              "       'assigned_room_type', 'booking_changes', 'deposit_type',\n",
              "       'days_in_waiting_list', 'customer_type', 'adr',\n",
              "       'required_car_parking_spaces', 'total_of_special_requests',\n",
              "       'reservation_status', 'reservation_status_date', 'total_nights'],\n",
              "      dtype='object')"
            ]
          },
          "metadata": {
            "tags": []
          },
          "execution_count": 57
        }
      ]
    },
    {
      "cell_type": "code",
      "metadata": {
        "colab": {
          "base_uri": "https://localhost:8080/",
          "height": 421
        },
        "id": "7dkYKTEgz2kq",
        "outputId": "c1b4dcdd-ac38-4342-b901-5d528bcfd416"
      },
      "source": [
        "plt.figure(figsize=(10,6))\n",
        "sns.countplot(x= \"total_nights\", data = resort_data)\n",
        "plt.title('Average days people stayed in resort')\n",
        "plt.xlabel('Total Nights')\n",
        "plt.ylabel('Number of Stays')"
      ],
      "execution_count": null,
      "outputs": [
        {
          "output_type": "execute_result",
          "data": {
            "text/plain": [
              "Text(0, 0.5, 'Number of Stays')"
            ]
          },
          "metadata": {
            "tags": []
          },
          "execution_count": 58
        },
        {
          "output_type": "display_data",
          "data": {
            "image/png": "[encoded data removed]",
            "text/plain": [
              "<Figure size 720x432 with 1 Axes>"
            ]
          },
          "metadata": {
            "tags": [],
            "needs_background": "light"
          }
        }
      ]
    },
    {
      "cell_type": "markdown",
      "metadata": {
        "id": "w_X8yQl0GlQN"
      },
      "source": [
        "People who choose resort more likely to book for 1 day"
      ]
    },
    {
      "cell_type": "code",
      "metadata": {
        "colab": {
          "base_uri": "https://localhost:8080/",
          "height": 421
        },
        "id": "H7bz71-b04LB",
        "outputId": "ba2b8ee7-d165-4b5c-e919-5368502d29bf"
      },
      "source": [
        "plt.figure(figsize=(8,6))\n",
        "sns.countplot(x= \"total_nights\", data = city_data)\n",
        "plt.title('Average days Stayed in city hotel')\n",
        "plt.xlabel('Total Nights')\n",
        "plt.ylabel('Number of Stays in City hotels')"
      ],
      "execution_count": null,
      "outputs": [
        {
          "output_type": "execute_result",
          "data": {
            "text/plain": [
              "Text(0, 0.5, 'Number of Stays in City hotels')"
            ]
          },
          "metadata": {
            "tags": []
          },
          "execution_count": 59
        },
        {
          "output_type": "display_data",
          "data": {
            "image/png": "[encoded data removed]",
            "text/plain": [
              "<Figure size 576x432 with 1 Axes>"
            ]
          },
          "metadata": {
            "tags": [],
            "needs_background": "light"
          }
        }
      ]
    },
    {
      "cell_type": "code",
      "metadata": {
        "colab": {
          "base_uri": "https://localhost:8080/",
          "height": 519
        },
        "id": "tHN8TMZU1LBD",
        "outputId": "96cb8939-d3e4-4c7a-dffd-bf3af07a88a6"
      },
      "source": [
        "resort_hotel_df = resort_data.groupby(['total_nights'])['adr'].mean().reset_index()\n",
        "resort_hotel_df.head(15)"
      ],
      "execution_count": null,
      "outputs": [
        {
          "output_type": "execute_result",
          "data": {
            "text/html": [
              "<div>\n",
              "<style scoped>\n",
              "    .dataframe tbody tr th:only-of-type {\n",
              "        vertical-align: middle;\n",
              "    }\n",
              "\n",
              "    .dataframe tbody tr th {\n",
              "        vertical-align: top;\n",
              "    }\n",
              "\n",
              "    .dataframe thead th {\n",
              "        text-align: right;\n",
              "    }\n",
              "</style>\n",
              "<table border=\"1\" class=\"dataframe\">\n",
              "  <thead>\n",
              "    <tr style=\"text-align: right;\">\n",
              "      <th></th>\n",
              "      <th>total_nights</th>\n",
              "      <th>adr</th>\n",
              "    </tr>\n",
              "  </thead>\n",
              "  <tbody>\n",
              "    <tr>\n",
              "      <th>0</th>\n",
              "      <td>0</td>\n",
              "      <td>0.000000</td>\n",
              "    </tr>\n",
              "    <tr>\n",
              "      <th>1</th>\n",
              "      <td>1</td>\n",
              "      <td>73.754360</td>\n",
              "    </tr>\n",
              "    <tr>\n",
              "      <th>2</th>\n",
              "      <td>2</td>\n",
              "      <td>89.296123</td>\n",
              "    </tr>\n",
              "    <tr>\n",
              "      <th>3</th>\n",
              "      <td>3</td>\n",
              "      <td>94.077298</td>\n",
              "    </tr>\n",
              "    <tr>\n",
              "      <th>4</th>\n",
              "      <td>4</td>\n",
              "      <td>95.640659</td>\n",
              "    </tr>\n",
              "    <tr>\n",
              "      <th>5</th>\n",
              "      <td>5</td>\n",
              "      <td>110.157963</td>\n",
              "    </tr>\n",
              "    <tr>\n",
              "      <th>6</th>\n",
              "      <td>6</td>\n",
              "      <td>120.512446</td>\n",
              "    </tr>\n",
              "    <tr>\n",
              "      <th>7</th>\n",
              "      <td>7</td>\n",
              "      <td>97.378985</td>\n",
              "    </tr>\n",
              "    <tr>\n",
              "      <th>8</th>\n",
              "      <td>8</td>\n",
              "      <td>106.787045</td>\n",
              "    </tr>\n",
              "    <tr>\n",
              "      <th>9</th>\n",
              "      <td>9</td>\n",
              "      <td>109.594828</td>\n",
              "    </tr>\n",
              "    <tr>\n",
              "      <th>10</th>\n",
              "      <td>10</td>\n",
              "      <td>101.613800</td>\n",
              "    </tr>\n",
              "    <tr>\n",
              "      <th>11</th>\n",
              "      <td>11</td>\n",
              "      <td>100.599125</td>\n",
              "    </tr>\n",
              "    <tr>\n",
              "      <th>12</th>\n",
              "      <td>12</td>\n",
              "      <td>100.842222</td>\n",
              "    </tr>\n",
              "    <tr>\n",
              "      <th>13</th>\n",
              "      <td>13</td>\n",
              "      <td>101.593467</td>\n",
              "    </tr>\n",
              "    <tr>\n",
              "      <th>14</th>\n",
              "      <td>14</td>\n",
              "      <td>87.320175</td>\n",
              "    </tr>\n",
              "  </tbody>\n",
              "</table>\n",
              "</div>"
            ],
            "text/plain": [
              "    total_nights         adr\n",
              "0              0    0.000000\n",
              "1              1   73.754360\n",
              "2              2   89.296123\n",
              "3              3   94.077298\n",
              "4              4   95.640659\n",
              "5              5  110.157963\n",
              "6              6  120.512446\n",
              "7              7   97.378985\n",
              "8              8  106.787045\n",
              "9              9  109.594828\n",
              "10            10  101.613800\n",
              "11            11  100.599125\n",
              "12            12  100.842222\n",
              "13            13  101.593467\n",
              "14            14   87.320175"
            ]
          },
          "metadata": {
            "tags": []
          },
          "execution_count": 60
        }
      ]
    },
    {
      "cell_type": "code",
      "metadata": {
        "colab": {
          "base_uri": "https://localhost:8080/",
          "height": 519
        },
        "id": "T5P4D8khjTO3",
        "outputId": "8e81760a-4a42-4619-ae9f-23a7bc2ab345"
      },
      "source": [
        "city_hotel_df = city_data.groupby(['total_nights'])['adr'].mean().reset_index()\n",
        "city_hotel_df.head(15)"
      ],
      "execution_count": null,
      "outputs": [
        {
          "output_type": "execute_result",
          "data": {
            "text/html": [
              "<div>\n",
              "<style scoped>\n",
              "    .dataframe tbody tr th:only-of-type {\n",
              "        vertical-align: middle;\n",
              "    }\n",
              "\n",
              "    .dataframe tbody tr th {\n",
              "        vertical-align: top;\n",
              "    }\n",
              "\n",
              "    .dataframe thead th {\n",
              "        text-align: right;\n",
              "    }\n",
              "</style>\n",
              "<table border=\"1\" class=\"dataframe\">\n",
              "  <thead>\n",
              "    <tr style=\"text-align: right;\">\n",
              "      <th></th>\n",
              "      <th>total_nights</th>\n",
              "      <th>adr</th>\n",
              "    </tr>\n",
              "  </thead>\n",
              "  <tbody>\n",
              "    <tr>\n",
              "      <th>0</th>\n",
              "      <td>0</td>\n",
              "      <td>0.000000</td>\n",
              "    </tr>\n",
              "    <tr>\n",
              "      <th>1</th>\n",
              "      <td>1</td>\n",
              "      <td>105.347023</td>\n",
              "    </tr>\n",
              "    <tr>\n",
              "      <th>2</th>\n",
              "      <td>2</td>\n",
              "      <td>105.788464</td>\n",
              "    </tr>\n",
              "    <tr>\n",
              "      <th>3</th>\n",
              "      <td>3</td>\n",
              "      <td>107.524713</td>\n",
              "    </tr>\n",
              "    <tr>\n",
              "      <th>4</th>\n",
              "      <td>4</td>\n",
              "      <td>106.480432</td>\n",
              "    </tr>\n",
              "    <tr>\n",
              "      <th>5</th>\n",
              "      <td>5</td>\n",
              "      <td>106.907448</td>\n",
              "    </tr>\n",
              "    <tr>\n",
              "      <th>6</th>\n",
              "      <td>6</td>\n",
              "      <td>108.927697</td>\n",
              "    </tr>\n",
              "    <tr>\n",
              "      <th>7</th>\n",
              "      <td>7</td>\n",
              "      <td>108.275580</td>\n",
              "    </tr>\n",
              "    <tr>\n",
              "      <th>8</th>\n",
              "      <td>8</td>\n",
              "      <td>106.121435</td>\n",
              "    </tr>\n",
              "    <tr>\n",
              "      <th>9</th>\n",
              "      <td>9</td>\n",
              "      <td>112.851250</td>\n",
              "    </tr>\n",
              "    <tr>\n",
              "      <th>10</th>\n",
              "      <td>10</td>\n",
              "      <td>101.122169</td>\n",
              "    </tr>\n",
              "    <tr>\n",
              "      <th>11</th>\n",
              "      <td>11</td>\n",
              "      <td>99.249444</td>\n",
              "    </tr>\n",
              "    <tr>\n",
              "      <th>12</th>\n",
              "      <td>12</td>\n",
              "      <td>95.722286</td>\n",
              "    </tr>\n",
              "    <tr>\n",
              "      <th>13</th>\n",
              "      <td>13</td>\n",
              "      <td>95.560625</td>\n",
              "    </tr>\n",
              "    <tr>\n",
              "      <th>14</th>\n",
              "      <td>14</td>\n",
              "      <td>97.221724</td>\n",
              "    </tr>\n",
              "  </tbody>\n",
              "</table>\n",
              "</div>"
            ],
            "text/plain": [
              "    total_nights         adr\n",
              "0              0    0.000000\n",
              "1              1  105.347023\n",
              "2              2  105.788464\n",
              "3              3  107.524713\n",
              "4              4  106.480432\n",
              "5              5  106.907448\n",
              "6              6  108.927697\n",
              "7              7  108.275580\n",
              "8              8  106.121435\n",
              "9              9  112.851250\n",
              "10            10  101.122169\n",
              "11            11   99.249444\n",
              "12            12   95.722286\n",
              "13            13   95.560625\n",
              "14            14   97.221724"
            ]
          },
          "metadata": {
            "tags": []
          },
          "execution_count": 61
        }
      ]
    },
    {
      "cell_type": "code",
      "metadata": {
        "colab": {
          "base_uri": "https://localhost:8080/",
          "height": 353
        },
        "id": "gss6L-tJ8y1x",
        "outputId": "3c5f5646-0f36-4cae-8b8b-c33f77eac019"
      },
      "source": [
        "plt.plot(city_hotel_df['total_nights'][1:20],city_hotel_df['adr'][1:20])\n",
        "plt.plot(resort_hotel_df['total_nights'][1:20],resort_hotel_df['adr'][1:20])\n",
        "plt.title('People staying accoring to hotel')\n",
        "plt.xlabel('Number of days')\n",
        "plt.ylabel('adr')\n",
        "plt.legend(labels=['City hotel','Resort hotel'])"
      ],
      "execution_count": null,
      "outputs": [
        {
          "output_type": "execute_result",
          "data": {
            "text/plain": [
              "<matplotlib.legend.Legend at 0x7effad8e08d0>"
            ]
          },
          "metadata": {
            "tags": []
          },
          "execution_count": 62
        },
        {
          "output_type": "display_data",
          "data": {
            "image/png": "[encoded data removed]",
            "text/plain": [
              "<Figure size 1080x360 with 1 Axes>"
            ]
          },
          "metadata": {
            "tags": [],
            "needs_background": "light"
          }
        }
      ]
    },
    {
      "cell_type": "markdown",
      "metadata": {
        "id": "h7Y4ORczY4Hm"
      },
      "source": [
        "### Hotel preference by customer type"
      ]
    },
    {
      "cell_type": "code",
      "metadata": {
        "colab": {
          "base_uri": "https://localhost:8080/",
          "height": 206
        },
        "id": "DUySDrQJRQ9q",
        "outputId": "fed22b32-b07d-4a23-fb49-5cc9cec8249e"
      },
      "source": [
        "customer_wise=df.groupby(['customer_type','hotel'])['customer_type'].count().unstack()\n",
        "customer_wise"
      ],
      "execution_count": null,
      "outputs": [
        {
          "output_type": "execute_result",
          "data": {
            "text/html": [
              "<div>\n",
              "<style scoped>\n",
              "    .dataframe tbody tr th:only-of-type {\n",
              "        vertical-align: middle;\n",
              "    }\n",
              "\n",
              "    .dataframe tbody tr th {\n",
              "        vertical-align: top;\n",
              "    }\n",
              "\n",
              "    .dataframe thead th {\n",
              "        text-align: right;\n",
              "    }\n",
              "</style>\n",
              "<table border=\"1\" class=\"dataframe\">\n",
              "  <thead>\n",
              "    <tr style=\"text-align: right;\">\n",
              "      <th>hotel</th>\n",
              "      <th>City Hotel</th>\n",
              "      <th>Resort Hotel</th>\n",
              "    </tr>\n",
              "    <tr>\n",
              "      <th>customer_type</th>\n",
              "      <th></th>\n",
              "      <th></th>\n",
              "    </tr>\n",
              "  </thead>\n",
              "  <tbody>\n",
              "    <tr>\n",
              "      <th>Contract</th>\n",
              "      <td>2300</td>\n",
              "      <td>1776</td>\n",
              "    </tr>\n",
              "    <tr>\n",
              "      <th>Group</th>\n",
              "      <td>293</td>\n",
              "      <td>284</td>\n",
              "    </tr>\n",
              "    <tr>\n",
              "      <th>Transient</th>\n",
              "      <td>59404</td>\n",
              "      <td>30209</td>\n",
              "    </tr>\n",
              "    <tr>\n",
              "      <th>Transient-Party</th>\n",
              "      <td>17333</td>\n",
              "      <td>7791</td>\n",
              "    </tr>\n",
              "  </tbody>\n",
              "</table>\n",
              "</div>"
            ],
            "text/plain": [
              "hotel            City Hotel  Resort Hotel\n",
              "customer_type                            \n",
              "Contract               2300          1776\n",
              "Group                   293           284\n",
              "Transient             59404         30209\n",
              "Transient-Party       17333          7791"
            ]
          },
          "metadata": {
            "tags": []
          },
          "execution_count": 63
        }
      ]
    },
    {
      "cell_type": "code",
      "metadata": {
        "colab": {
          "base_uri": "https://localhost:8080/",
          "height": 417
        },
        "id": "z0kK-6m0aTaH",
        "outputId": "a3ca1585-e695-416e-cb10-3f49c53178fb"
      },
      "source": [
        "plt.rcParams['figure.figsize'] = (10, 5)\n",
        "customer_wise.plot(kind='bar')"
      ],
      "execution_count": null,
      "outputs": [
        {
          "output_type": "execute_result",
          "data": {
            "text/plain": [
              "<matplotlib.axes._subplots.AxesSubplot at 0x7effada37750>"
            ]
          },
          "metadata": {
            "tags": []
          },
          "execution_count": 64
        },
        {
          "output_type": "display_data",
          "data": {
            "image/png": "[encoded data removed]",
            "text/plain": [
              "<Figure size 720x360 with 1 Axes>"
            ]
          },
          "metadata": {
            "tags": [],
            "needs_background": "light"
          }
        }
      ]
    },
    {
      "cell_type": "code",
      "metadata": {
        "colab": {
          "base_uri": "https://localhost:8080/"
        },
        "id": "fbvJCzxpghcr",
        "outputId": "b3b11fe5-c1f3-4d72-f4d1-0de941f8db82"
      },
      "source": [
        "adults_pre = df.groupby(['hotel'])['adults'].count()\n",
        "adults_pre"
      ],
      "execution_count": null,
      "outputs": [
        {
          "output_type": "execute_result",
          "data": {
            "text/plain": [
              "hotel\n",
              "City Hotel      79330\n",
              "Resort Hotel    40060\n",
              "Name: adults, dtype: int64"
            ]
          },
          "metadata": {
            "tags": []
          },
          "execution_count": 65
        }
      ]
    },
    {
      "cell_type": "code",
      "metadata": {
        "colab": {
          "base_uri": "https://localhost:8080/",
          "height": 313
        },
        "id": "fhy08hlCiXoy",
        "outputId": "bf9c17be-c79e-4ac9-ba24-1adfd78a8cf3"
      },
      "source": [
        "df.head()"
      ],
      "execution_count": null,
      "outputs": [
        {
          "output_type": "execute_result",
          "data": {
            "text/html": [
              "<div>\n",
              "<style scoped>\n",
              "    .dataframe tbody tr th:only-of-type {\n",
              "        vertical-align: middle;\n",
              "    }\n",
              "\n",
              "    .dataframe tbody tr th {\n",
              "        vertical-align: top;\n",
              "    }\n",
              "\n",
              "    .dataframe thead th {\n",
              "        text-align: right;\n",
              "    }\n",
              "</style>\n",
              "<table border=\"1\" class=\"dataframe\">\n",
              "  <thead>\n",
              "    <tr style=\"text-align: right;\">\n",
              "      <th></th>\n",
              "      <th>hotel</th>\n",
              "      <th>is_canceled</th>\n",
              "      <th>lead_time</th>\n",
              "      <th>arrival_date_year</th>\n",
              "      <th>arrival_date_month</th>\n",
              "      <th>arrival_date_week_number</th>\n",
              "      <th>arrival_date_day_of_month</th>\n",
              "      <th>stays_in_weekend_nights</th>\n",
              "      <th>stays_in_week_nights</th>\n",
              "      <th>adults</th>\n",
              "      <th>children</th>\n",
              "      <th>babies</th>\n",
              "      <th>meal</th>\n",
              "      <th>country</th>\n",
              "      <th>market_segment</th>\n",
              "      <th>distribution_channel</th>\n",
              "      <th>is_repeated_guest</th>\n",
              "      <th>previous_cancellations</th>\n",
              "      <th>previous_bookings_not_canceled</th>\n",
              "      <th>reserved_room_type</th>\n",
              "      <th>assigned_room_type</th>\n",
              "      <th>booking_changes</th>\n",
              "      <th>deposit_type</th>\n",
              "      <th>days_in_waiting_list</th>\n",
              "      <th>customer_type</th>\n",
              "      <th>adr</th>\n",
              "      <th>required_car_parking_spaces</th>\n",
              "      <th>total_of_special_requests</th>\n",
              "      <th>reservation_status</th>\n",
              "      <th>reservation_status_date</th>\n",
              "      <th>total_nights</th>\n",
              "    </tr>\n",
              "  </thead>\n",
              "  <tbody>\n",
              "    <tr>\n",
              "      <th>0</th>\n",
              "      <td>Resort Hotel</td>\n",
              "      <td>0</td>\n",
              "      <td>342</td>\n",
              "      <td>2015</td>\n",
              "      <td>July</td>\n",
              "      <td>27</td>\n",
              "      <td>1</td>\n",
              "      <td>0</td>\n",
              "      <td>0</td>\n",
              "      <td>2</td>\n",
              "      <td>0.0</td>\n",
              "      <td>0</td>\n",
              "      <td>BB</td>\n",
              "      <td>PRT</td>\n",
              "      <td>Direct</td>\n",
              "      <td>Direct</td>\n",
              "      <td>0</td>\n",
              "      <td>0</td>\n",
              "      <td>0</td>\n",
              "      <td>C</td>\n",
              "      <td>C</td>\n",
              "      <td>3</td>\n",
              "      <td>No Deposit</td>\n",
              "      <td>0</td>\n",
              "      <td>Transient</td>\n",
              "      <td>0.0</td>\n",
              "      <td>0</td>\n",
              "      <td>0</td>\n",
              "      <td>Check-Out</td>\n",
              "      <td>2015-07-01</td>\n",
              "      <td>0</td>\n",
              "    </tr>\n",
              "    <tr>\n",
              "      <th>1</th>\n",
              "      <td>Resort Hotel</td>\n",
              "      <td>0</td>\n",
              "      <td>737</td>\n",
              "      <td>2015</td>\n",
              "      <td>July</td>\n",
              "      <td>27</td>\n",
              "      <td>1</td>\n",
              "      <td>0</td>\n",
              "      <td>0</td>\n",
              "      <td>2</td>\n",
              "      <td>0.0</td>\n",
              "      <td>0</td>\n",
              "      <td>BB</td>\n",
              "      <td>PRT</td>\n",
              "      <td>Direct</td>\n",
              "      <td>Direct</td>\n",
              "      <td>0</td>\n",
              "      <td>0</td>\n",
              "      <td>0</td>\n",
              "      <td>C</td>\n",
              "      <td>C</td>\n",
              "      <td>4</td>\n",
              "      <td>No Deposit</td>\n",
              "      <td>0</td>\n",
              "      <td>Transient</td>\n",
              "      <td>0.0</td>\n",
              "      <td>0</td>\n",
              "      <td>0</td>\n",
              "      <td>Check-Out</td>\n",
              "      <td>2015-07-01</td>\n",
              "      <td>0</td>\n",
              "    </tr>\n",
              "    <tr>\n",
              "      <th>2</th>\n",
              "      <td>Resort Hotel</td>\n",
              "      <td>0</td>\n",
              "      <td>7</td>\n",
              "      <td>2015</td>\n",
              "      <td>July</td>\n",
              "      <td>27</td>\n",
              "      <td>1</td>\n",
              "      <td>0</td>\n",
              "      <td>1</td>\n",
              "      <td>1</td>\n",
              "      <td>0.0</td>\n",
              "      <td>0</td>\n",
              "      <td>BB</td>\n",
              "      <td>GBR</td>\n",
              "      <td>Direct</td>\n",
              "      <td>Direct</td>\n",
              "      <td>0</td>\n",
              "      <td>0</td>\n",
              "      <td>0</td>\n",
              "      <td>A</td>\n",
              "      <td>C</td>\n",
              "      <td>0</td>\n",
              "      <td>No Deposit</td>\n",
              "      <td>0</td>\n",
              "      <td>Transient</td>\n",
              "      <td>75.0</td>\n",
              "      <td>0</td>\n",
              "      <td>0</td>\n",
              "      <td>Check-Out</td>\n",
              "      <td>2015-07-02</td>\n",
              "      <td>1</td>\n",
              "    </tr>\n",
              "    <tr>\n",
              "      <th>3</th>\n",
              "      <td>Resort Hotel</td>\n",
              "      <td>0</td>\n",
              "      <td>13</td>\n",
              "      <td>2015</td>\n",
              "      <td>July</td>\n",
              "      <td>27</td>\n",
              "      <td>1</td>\n",
              "      <td>0</td>\n",
              "      <td>1</td>\n",
              "      <td>1</td>\n",
              "      <td>0.0</td>\n",
              "      <td>0</td>\n",
              "      <td>BB</td>\n",
              "      <td>GBR</td>\n",
              "      <td>Corporate</td>\n",
              "      <td>Corporate</td>\n",
              "      <td>0</td>\n",
              "      <td>0</td>\n",
              "      <td>0</td>\n",
              "      <td>A</td>\n",
              "      <td>A</td>\n",
              "      <td>0</td>\n",
              "      <td>No Deposit</td>\n",
              "      <td>0</td>\n",
              "      <td>Transient</td>\n",
              "      <td>75.0</td>\n",
              "      <td>0</td>\n",
              "      <td>0</td>\n",
              "      <td>Check-Out</td>\n",
              "      <td>2015-07-02</td>\n",
              "      <td>1</td>\n",
              "    </tr>\n",
              "    <tr>\n",
              "      <th>4</th>\n",
              "      <td>Resort Hotel</td>\n",
              "      <td>0</td>\n",
              "      <td>14</td>\n",
              "      <td>2015</td>\n",
              "      <td>July</td>\n",
              "      <td>27</td>\n",
              "      <td>1</td>\n",
              "      <td>0</td>\n",
              "      <td>2</td>\n",
              "      <td>2</td>\n",
              "      <td>0.0</td>\n",
              "      <td>0</td>\n",
              "      <td>BB</td>\n",
              "      <td>GBR</td>\n",
              "      <td>Online TA</td>\n",
              "      <td>TA/TO</td>\n",
              "      <td>0</td>\n",
              "      <td>0</td>\n",
              "      <td>0</td>\n",
              "      <td>A</td>\n",
              "      <td>A</td>\n",
              "      <td>0</td>\n",
              "      <td>No Deposit</td>\n",
              "      <td>0</td>\n",
              "      <td>Transient</td>\n",
              "      <td>98.0</td>\n",
              "      <td>0</td>\n",
              "      <td>1</td>\n",
              "      <td>Check-Out</td>\n",
              "      <td>2015-07-03</td>\n",
              "      <td>2</td>\n",
              "    </tr>\n",
              "  </tbody>\n",
              "</table>\n",
              "</div>"
            ],
            "text/plain": [
              "          hotel  is_canceled  ...  reservation_status_date  total_nights\n",
              "0  Resort Hotel            0  ...               2015-07-01             0\n",
              "1  Resort Hotel            0  ...               2015-07-01             0\n",
              "2  Resort Hotel            0  ...               2015-07-02             1\n",
              "3  Resort Hotel            0  ...               2015-07-02             1\n",
              "4  Resort Hotel            0  ...               2015-07-03             2\n",
              "\n",
              "[5 rows x 31 columns]"
            ]
          },
          "metadata": {
            "tags": []
          },
          "execution_count": 66
        }
      ]
    },
    {
      "cell_type": "code",
      "metadata": {
        "colab": {
          "base_uri": "https://localhost:8080/"
        },
        "id": "dK2Rg1sHlcmu",
        "outputId": "dfdcf850-f12c-4904-d821-804912491a8f"
      },
      "source": [
        "list(df['reservation_status'].unique())"
      ],
      "execution_count": null,
      "outputs": [
        {
          "output_type": "execute_result",
          "data": {
            "text/plain": [
              "['Check-Out', 'Canceled', 'No-Show']"
            ]
          },
          "metadata": {
            "tags": []
          },
          "execution_count": 67
        }
      ]
    },
    {
      "cell_type": "code",
      "metadata": {
        "id": "GaIK-pz9njZF"
      },
      "source": [
        "reserv_stat = df[df['reservation_status'] == 'Check-Out']"
      ],
      "execution_count": null,
      "outputs": []
    },
    {
      "cell_type": "markdown",
      "metadata": {
        "id": "-L-6EUDuFCsl"
      },
      "source": [
        "## Have you ever wondered when the best time of year to book a hotel room is?\n",
        "\n",
        "lets find out"
      ]
    },
    {
      "cell_type": "code",
      "metadata": {
        "colab": {
          "base_uri": "https://localhost:8080/",
          "height": 425
        },
        "id": "rjQTWBIC8MXR",
        "outputId": "0361b4c1-4b2c-436a-bbeb-cf237eda0e6b"
      },
      "source": [
        "city_guests_average = data_city1.groupby(['arrival_date_month'])['adr'].mean().reset_index()\n",
        "city_guests_average.columns = ['month','city_hotel_adr']\n",
        "city_guests_average"
      ],
      "execution_count": null,
      "outputs": [
        {
          "output_type": "execute_result",
          "data": {
            "text/html": [
              "<div>\n",
              "<style scoped>\n",
              "    .dataframe tbody tr th:only-of-type {\n",
              "        vertical-align: middle;\n",
              "    }\n",
              "\n",
              "    .dataframe tbody tr th {\n",
              "        vertical-align: top;\n",
              "    }\n",
              "\n",
              "    .dataframe thead th {\n",
              "        text-align: right;\n",
              "    }\n",
              "</style>\n",
              "<table border=\"1\" class=\"dataframe\">\n",
              "  <thead>\n",
              "    <tr style=\"text-align: right;\">\n",
              "      <th></th>\n",
              "      <th>month</th>\n",
              "      <th>city_hotel_adr</th>\n",
              "    </tr>\n",
              "  </thead>\n",
              "  <tbody>\n",
              "    <tr>\n",
              "      <th>0</th>\n",
              "      <td>April</td>\n",
              "      <td>111.856824</td>\n",
              "    </tr>\n",
              "    <tr>\n",
              "      <th>1</th>\n",
              "      <td>August</td>\n",
              "      <td>129.485550</td>\n",
              "    </tr>\n",
              "    <tr>\n",
              "      <th>2</th>\n",
              "      <td>December</td>\n",
              "      <td>87.856764</td>\n",
              "    </tr>\n",
              "    <tr>\n",
              "      <th>3</th>\n",
              "      <td>February</td>\n",
              "      <td>86.183025</td>\n",
              "    </tr>\n",
              "    <tr>\n",
              "      <th>4</th>\n",
              "      <td>January</td>\n",
              "      <td>82.160634</td>\n",
              "    </tr>\n",
              "    <tr>\n",
              "      <th>5</th>\n",
              "      <td>July</td>\n",
              "      <td>120.020275</td>\n",
              "    </tr>\n",
              "    <tr>\n",
              "      <th>6</th>\n",
              "      <td>June</td>\n",
              "      <td>117.702075</td>\n",
              "    </tr>\n",
              "    <tr>\n",
              "      <th>7</th>\n",
              "      <td>March</td>\n",
              "      <td>90.170722</td>\n",
              "    </tr>\n",
              "    <tr>\n",
              "      <th>8</th>\n",
              "      <td>May</td>\n",
              "      <td>120.445842</td>\n",
              "    </tr>\n",
              "    <tr>\n",
              "      <th>9</th>\n",
              "      <td>November</td>\n",
              "      <td>86.500456</td>\n",
              "    </tr>\n",
              "    <tr>\n",
              "      <th>10</th>\n",
              "      <td>October</td>\n",
              "      <td>101.745956</td>\n",
              "    </tr>\n",
              "    <tr>\n",
              "      <th>11</th>\n",
              "      <td>September</td>\n",
              "      <td>112.598452</td>\n",
              "    </tr>\n",
              "  </tbody>\n",
              "</table>\n",
              "</div>"
            ],
            "text/plain": [
              "        month  city_hotel_adr\n",
              "0       April      111.856824\n",
              "1      August      129.485550\n",
              "2    December       87.856764\n",
              "3    February       86.183025\n",
              "4     January       82.160634\n",
              "5        July      120.020275\n",
              "6        June      117.702075\n",
              "7       March       90.170722\n",
              "8         May      120.445842\n",
              "9    November       86.500456\n",
              "10    October      101.745956\n",
              "11  September      112.598452"
            ]
          },
          "metadata": {
            "tags": []
          },
          "execution_count": 69
        }
      ]
    },
    {
      "cell_type": "code",
      "metadata": {
        "colab": {
          "base_uri": "https://localhost:8080/",
          "height": 425
        },
        "id": "X7VAoNyi-eAh",
        "outputId": "475d4c1d-22d6-4e9c-99c0-f06559c7ab1b"
      },
      "source": [
        "resort_guests_average = data_resort1.groupby(['arrival_date_month'])['adr'].mean().reset_index()\n",
        "resort_guests_average.columns=['month','average_resort_adr']\n",
        "resort_guests_average"
      ],
      "execution_count": null,
      "outputs": [
        {
          "output_type": "execute_result",
          "data": {
            "text/html": [
              "<div>\n",
              "<style scoped>\n",
              "    .dataframe tbody tr th:only-of-type {\n",
              "        vertical-align: middle;\n",
              "    }\n",
              "\n",
              "    .dataframe tbody tr th {\n",
              "        vertical-align: top;\n",
              "    }\n",
              "\n",
              "    .dataframe thead th {\n",
              "        text-align: right;\n",
              "    }\n",
              "</style>\n",
              "<table border=\"1\" class=\"dataframe\">\n",
              "  <thead>\n",
              "    <tr style=\"text-align: right;\">\n",
              "      <th></th>\n",
              "      <th>month</th>\n",
              "      <th>average_resort_adr</th>\n",
              "    </tr>\n",
              "  </thead>\n",
              "  <tbody>\n",
              "    <tr>\n",
              "      <th>0</th>\n",
              "      <td>April</td>\n",
              "      <td>75.867816</td>\n",
              "    </tr>\n",
              "    <tr>\n",
              "      <th>1</th>\n",
              "      <td>August</td>\n",
              "      <td>194.381323</td>\n",
              "    </tr>\n",
              "    <tr>\n",
              "      <th>2</th>\n",
              "      <td>December</td>\n",
              "      <td>68.322236</td>\n",
              "    </tr>\n",
              "    <tr>\n",
              "      <th>3</th>\n",
              "      <td>February</td>\n",
              "      <td>54.147478</td>\n",
              "    </tr>\n",
              "    <tr>\n",
              "      <th>4</th>\n",
              "      <td>January</td>\n",
              "      <td>48.708919</td>\n",
              "    </tr>\n",
              "    <tr>\n",
              "      <th>5</th>\n",
              "      <td>July</td>\n",
              "      <td>162.794949</td>\n",
              "    </tr>\n",
              "    <tr>\n",
              "      <th>6</th>\n",
              "      <td>June</td>\n",
              "      <td>107.921869</td>\n",
              "    </tr>\n",
              "    <tr>\n",
              "      <th>7</th>\n",
              "      <td>March</td>\n",
              "      <td>57.012487</td>\n",
              "    </tr>\n",
              "    <tr>\n",
              "      <th>8</th>\n",
              "      <td>May</td>\n",
              "      <td>76.657558</td>\n",
              "    </tr>\n",
              "    <tr>\n",
              "      <th>9</th>\n",
              "      <td>November</td>\n",
              "      <td>48.681640</td>\n",
              "    </tr>\n",
              "    <tr>\n",
              "      <th>10</th>\n",
              "      <td>October</td>\n",
              "      <td>61.727505</td>\n",
              "    </tr>\n",
              "    <tr>\n",
              "      <th>11</th>\n",
              "      <td>September</td>\n",
              "      <td>96.416860</td>\n",
              "    </tr>\n",
              "  </tbody>\n",
              "</table>\n",
              "</div>"
            ],
            "text/plain": [
              "        month  average_resort_adr\n",
              "0       April           75.867816\n",
              "1      August          194.381323\n",
              "2    December           68.322236\n",
              "3    February           54.147478\n",
              "4     January           48.708919\n",
              "5        July          162.794949\n",
              "6        June          107.921869\n",
              "7       March           57.012487\n",
              "8         May           76.657558\n",
              "9    November           48.681640\n",
              "10    October           61.727505\n",
              "11  September           96.416860"
            ]
          },
          "metadata": {
            "tags": []
          },
          "execution_count": 70
        }
      ]
    },
    {
      "cell_type": "code",
      "metadata": {
        "colab": {
          "base_uri": "https://localhost:8080/",
          "height": 425
        },
        "id": "XrjRjb17-uqO",
        "outputId": "a4342ccc-45e4-405d-c53a-bb80b005270d"
      },
      "source": [
        "best_month = resort_guests_average.merge(city_guests_average)\n",
        "best_month"
      ],
      "execution_count": null,
      "outputs": [
        {
          "output_type": "execute_result",
          "data": {
            "text/html": [
              "<div>\n",
              "<style scoped>\n",
              "    .dataframe tbody tr th:only-of-type {\n",
              "        vertical-align: middle;\n",
              "    }\n",
              "\n",
              "    .dataframe tbody tr th {\n",
              "        vertical-align: top;\n",
              "    }\n",
              "\n",
              "    .dataframe thead th {\n",
              "        text-align: right;\n",
              "    }\n",
              "</style>\n",
              "<table border=\"1\" class=\"dataframe\">\n",
              "  <thead>\n",
              "    <tr style=\"text-align: right;\">\n",
              "      <th></th>\n",
              "      <th>month</th>\n",
              "      <th>average_resort_adr</th>\n",
              "      <th>city_hotel_adr</th>\n",
              "    </tr>\n",
              "  </thead>\n",
              "  <tbody>\n",
              "    <tr>\n",
              "      <th>0</th>\n",
              "      <td>April</td>\n",
              "      <td>75.867816</td>\n",
              "      <td>111.856824</td>\n",
              "    </tr>\n",
              "    <tr>\n",
              "      <th>1</th>\n",
              "      <td>August</td>\n",
              "      <td>194.381323</td>\n",
              "      <td>129.485550</td>\n",
              "    </tr>\n",
              "    <tr>\n",
              "      <th>2</th>\n",
              "      <td>December</td>\n",
              "      <td>68.322236</td>\n",
              "      <td>87.856764</td>\n",
              "    </tr>\n",
              "    <tr>\n",
              "      <th>3</th>\n",
              "      <td>February</td>\n",
              "      <td>54.147478</td>\n",
              "      <td>86.183025</td>\n",
              "    </tr>\n",
              "    <tr>\n",
              "      <th>4</th>\n",
              "      <td>January</td>\n",
              "      <td>48.708919</td>\n",
              "      <td>82.160634</td>\n",
              "    </tr>\n",
              "    <tr>\n",
              "      <th>5</th>\n",
              "      <td>July</td>\n",
              "      <td>162.794949</td>\n",
              "      <td>120.020275</td>\n",
              "    </tr>\n",
              "    <tr>\n",
              "      <th>6</th>\n",
              "      <td>June</td>\n",
              "      <td>107.921869</td>\n",
              "      <td>117.702075</td>\n",
              "    </tr>\n",
              "    <tr>\n",
              "      <th>7</th>\n",
              "      <td>March</td>\n",
              "      <td>57.012487</td>\n",
              "      <td>90.170722</td>\n",
              "    </tr>\n",
              "    <tr>\n",
              "      <th>8</th>\n",
              "      <td>May</td>\n",
              "      <td>76.657558</td>\n",
              "      <td>120.445842</td>\n",
              "    </tr>\n",
              "    <tr>\n",
              "      <th>9</th>\n",
              "      <td>November</td>\n",
              "      <td>48.681640</td>\n",
              "      <td>86.500456</td>\n",
              "    </tr>\n",
              "    <tr>\n",
              "      <th>10</th>\n",
              "      <td>October</td>\n",
              "      <td>61.727505</td>\n",
              "      <td>101.745956</td>\n",
              "    </tr>\n",
              "    <tr>\n",
              "      <th>11</th>\n",
              "      <td>September</td>\n",
              "      <td>96.416860</td>\n",
              "      <td>112.598452</td>\n",
              "    </tr>\n",
              "  </tbody>\n",
              "</table>\n",
              "</div>"
            ],
            "text/plain": [
              "        month  average_resort_adr  city_hotel_adr\n",
              "0       April           75.867816      111.856824\n",
              "1      August          194.381323      129.485550\n",
              "2    December           68.322236       87.856764\n",
              "3    February           54.147478       86.183025\n",
              "4     January           48.708919       82.160634\n",
              "5        July          162.794949      120.020275\n",
              "6        June          107.921869      117.702075\n",
              "7       March           57.012487       90.170722\n",
              "8         May           76.657558      120.445842\n",
              "9    November           48.681640       86.500456\n",
              "10    October           61.727505      101.745956\n",
              "11  September           96.416860      112.598452"
            ]
          },
          "metadata": {
            "tags": []
          },
          "execution_count": 71
        }
      ]
    },
    {
      "cell_type": "code",
      "metadata": {
        "colab": {
          "base_uri": "https://localhost:8080/",
          "height": 425
        },
        "id": "o0r0yvYt_kQU",
        "outputId": "0b473986-3051-4554-918d-e58e611fa7c7"
      },
      "source": [
        "import sort_dataframeby_monthorweek # this is a pip package which helps to sort month data accordingly\n",
        "best_month_book = sort_dataframeby_monthorweek.Sort_Dataframeby_Month(df=best_month,monthcolumnname='month')\n",
        "best_month_book"
      ],
      "execution_count": null,
      "outputs": [
        {
          "output_type": "execute_result",
          "data": {
            "text/html": [
              "<div>\n",
              "<style scoped>\n",
              "    .dataframe tbody tr th:only-of-type {\n",
              "        vertical-align: middle;\n",
              "    }\n",
              "\n",
              "    .dataframe tbody tr th {\n",
              "        vertical-align: top;\n",
              "    }\n",
              "\n",
              "    .dataframe thead th {\n",
              "        text-align: right;\n",
              "    }\n",
              "</style>\n",
              "<table border=\"1\" class=\"dataframe\">\n",
              "  <thead>\n",
              "    <tr style=\"text-align: right;\">\n",
              "      <th></th>\n",
              "      <th>month</th>\n",
              "      <th>average_resort_adr</th>\n",
              "      <th>city_hotel_adr</th>\n",
              "    </tr>\n",
              "  </thead>\n",
              "  <tbody>\n",
              "    <tr>\n",
              "      <th>0</th>\n",
              "      <td>January</td>\n",
              "      <td>48.708919</td>\n",
              "      <td>82.160634</td>\n",
              "    </tr>\n",
              "    <tr>\n",
              "      <th>1</th>\n",
              "      <td>February</td>\n",
              "      <td>54.147478</td>\n",
              "      <td>86.183025</td>\n",
              "    </tr>\n",
              "    <tr>\n",
              "      <th>2</th>\n",
              "      <td>March</td>\n",
              "      <td>57.012487</td>\n",
              "      <td>90.170722</td>\n",
              "    </tr>\n",
              "    <tr>\n",
              "      <th>3</th>\n",
              "      <td>April</td>\n",
              "      <td>75.867816</td>\n",
              "      <td>111.856824</td>\n",
              "    </tr>\n",
              "    <tr>\n",
              "      <th>4</th>\n",
              "      <td>May</td>\n",
              "      <td>76.657558</td>\n",
              "      <td>120.445842</td>\n",
              "    </tr>\n",
              "    <tr>\n",
              "      <th>5</th>\n",
              "      <td>June</td>\n",
              "      <td>107.921869</td>\n",
              "      <td>117.702075</td>\n",
              "    </tr>\n",
              "    <tr>\n",
              "      <th>6</th>\n",
              "      <td>July</td>\n",
              "      <td>162.794949</td>\n",
              "      <td>120.020275</td>\n",
              "    </tr>\n",
              "    <tr>\n",
              "      <th>7</th>\n",
              "      <td>August</td>\n",
              "      <td>194.381323</td>\n",
              "      <td>129.485550</td>\n",
              "    </tr>\n",
              "    <tr>\n",
              "      <th>8</th>\n",
              "      <td>September</td>\n",
              "      <td>96.416860</td>\n",
              "      <td>112.598452</td>\n",
              "    </tr>\n",
              "    <tr>\n",
              "      <th>9</th>\n",
              "      <td>October</td>\n",
              "      <td>61.727505</td>\n",
              "      <td>101.745956</td>\n",
              "    </tr>\n",
              "    <tr>\n",
              "      <th>10</th>\n",
              "      <td>November</td>\n",
              "      <td>48.681640</td>\n",
              "      <td>86.500456</td>\n",
              "    </tr>\n",
              "    <tr>\n",
              "      <th>11</th>\n",
              "      <td>December</td>\n",
              "      <td>68.322236</td>\n",
              "      <td>87.856764</td>\n",
              "    </tr>\n",
              "  </tbody>\n",
              "</table>\n",
              "</div>"
            ],
            "text/plain": [
              "        month  average_resort_adr  city_hotel_adr\n",
              "0     January           48.708919       82.160634\n",
              "1    February           54.147478       86.183025\n",
              "2       March           57.012487       90.170722\n",
              "3       April           75.867816      111.856824\n",
              "4         May           76.657558      120.445842\n",
              "5        June          107.921869      117.702075\n",
              "6        July          162.794949      120.020275\n",
              "7      August          194.381323      129.485550\n",
              "8   September           96.416860      112.598452\n",
              "9     October           61.727505      101.745956\n",
              "10   November           48.681640       86.500456\n",
              "11   December           68.322236       87.856764"
            ]
          },
          "metadata": {
            "tags": []
          },
          "execution_count": 72
        }
      ]
    },
    {
      "cell_type": "code",
      "metadata": {
        "colab": {
          "base_uri": "https://localhost:8080/",
          "height": 353
        },
        "id": "6oVf66FzAXKy",
        "outputId": "3a5dca97-5591-4eb2-ddf3-51a0c349e867"
      },
      "source": [
        "plt.rcParams['figure.figsize'] = (12, 5)\n",
        "sns.lineplot(data=best_month_book, x=\"month\", y='average_resort_adr')\n",
        "sns.lineplot(data=best_month_book, x=\"month\", y='city_hotel_adr')\n",
        "plt.legend(labels=['Resort Hotel','City Hotel'])"
      ],
      "execution_count": null,
      "outputs": [
        {
          "output_type": "execute_result",
          "data": {
            "text/plain": [
              "<matplotlib.legend.Legend at 0x7effad7fc210>"
            ]
          },
          "metadata": {
            "tags": []
          },
          "execution_count": 73
        },
        {
          "output_type": "display_data",
          "data": {
            "image/png": "[encoded data removed]",
            "text/plain": [
              "<Figure size 864x360 with 1 Axes>"
            ]
          },
          "metadata": {
            "tags": [],
            "needs_background": "light"
          }
        }
      ]
    },
    {
      "cell_type": "markdown",
      "metadata": {
        "id": "A9JjXg6kH1vo"
      },
      "source": [
        "## Which people are more likely to cancel bookings"
      ]
    },
    {
      "cell_type": "code",
      "metadata": {
        "id": "4OgEVQMUqGNt",
        "colab": {
          "base_uri": "https://localhost:8080/",
          "height": 513
        },
        "outputId": "07b32a8e-8e3e-4f97-ff03-b6bfd1872c9c"
      },
      "source": [
        "# grouping data on lead_time:\n",
        "lead_cancel_data = df.groupby(\"lead_time\")[\"is_canceled\"].describe()\n",
        "# we use only lead_times with more than 10 bookings for graph:\n",
        "lead_cancel_data_10 = lead_cancel_data.loc[lead_cancel_data[\"count\"] >= 10]\n",
        "\n",
        "#show figure:\n",
        "plt.figure(figsize=(10, 8))\n",
        "sns.regplot(x=lead_cancel_data_10.index, y=lead_cancel_data_10[\"mean\"].values * 100)\n",
        "plt.title(\"Effect of lead time on cancelation\")\n",
        "plt.xlabel(\"Lead time\")\n",
        "plt.ylabel(\"Cancelations [%]\")\n",
        "# plt.xlim(0,365)\n",
        "plt.show()"
      ],
      "execution_count": null,
      "outputs": [
        {
          "output_type": "display_data",
          "data": {
            "image/png": "[encoded data removed]",
            "text/plain": [
              "<Figure size 720x576 with 1 Axes>"
            ]
          },
          "metadata": {
            "tags": [],
            "needs_background": "light"
          }
        }
      ]
    },
    {
      "cell_type": "markdown",
      "metadata": {
        "id": "RhvPFXhUlVsl"
      },
      "source": [
        "## What if you wanted to predict whether or not a hotel was likely to receive a disproportionately high number of special requests?"
      ]
    },
    {
      "cell_type": "code",
      "metadata": {
        "colab": {
          "base_uri": "https://localhost:8080/",
          "height": 696
        },
        "id": "JpgIx4iUm1re",
        "outputId": "49946655-ca55-45c2-fa03-95ad8063c7dc"
      },
      "source": [
        "df['total_children'] = df['children']+df['babies']\n",
        "df.corr()"
      ],
      "execution_count": null,
      "outputs": [
        {
          "output_type": "execute_result",
          "data": {
            "text/html": [
              "<div>\n",
              "<style scoped>\n",
              "    .dataframe tbody tr th:only-of-type {\n",
              "        vertical-align: middle;\n",
              "    }\n",
              "\n",
              "    .dataframe tbody tr th {\n",
              "        vertical-align: top;\n",
              "    }\n",
              "\n",
              "    .dataframe thead th {\n",
              "        text-align: right;\n",
              "    }\n",
              "</style>\n",
              "<table border=\"1\" class=\"dataframe\">\n",
              "  <thead>\n",
              "    <tr style=\"text-align: right;\">\n",
              "      <th></th>\n",
              "      <th>is_canceled</th>\n",
              "      <th>lead_time</th>\n",
              "      <th>arrival_date_year</th>\n",
              "      <th>arrival_date_week_number</th>\n",
              "      <th>arrival_date_day_of_month</th>\n",
              "      <th>stays_in_weekend_nights</th>\n",
              "      <th>stays_in_week_nights</th>\n",
              "      <th>adults</th>\n",
              "      <th>children</th>\n",
              "      <th>babies</th>\n",
              "      <th>is_repeated_guest</th>\n",
              "      <th>previous_cancellations</th>\n",
              "      <th>previous_bookings_not_canceled</th>\n",
              "      <th>booking_changes</th>\n",
              "      <th>days_in_waiting_list</th>\n",
              "      <th>adr</th>\n",
              "      <th>required_car_parking_spaces</th>\n",
              "      <th>total_of_special_requests</th>\n",
              "      <th>total_nights</th>\n",
              "      <th>total_children</th>\n",
              "    </tr>\n",
              "  </thead>\n",
              "  <tbody>\n",
              "    <tr>\n",
              "      <th>is_canceled</th>\n",
              "      <td>1.000000</td>\n",
              "      <td>0.293123</td>\n",
              "      <td>0.016660</td>\n",
              "      <td>0.008148</td>\n",
              "      <td>-0.006130</td>\n",
              "      <td>-0.001791</td>\n",
              "      <td>0.024765</td>\n",
              "      <td>0.060017</td>\n",
              "      <td>0.005036</td>\n",
              "      <td>-0.032491</td>\n",
              "      <td>-0.084793</td>\n",
              "      <td>0.110133</td>\n",
              "      <td>-0.057358</td>\n",
              "      <td>-0.144381</td>\n",
              "      <td>0.054186</td>\n",
              "      <td>0.047557</td>\n",
              "      <td>-0.195498</td>\n",
              "      <td>-0.234658</td>\n",
              "      <td>0.017779</td>\n",
              "      <td>-0.002808</td>\n",
              "    </tr>\n",
              "    <tr>\n",
              "      <th>lead_time</th>\n",
              "      <td>0.293123</td>\n",
              "      <td>1.000000</td>\n",
              "      <td>0.040142</td>\n",
              "      <td>0.126871</td>\n",
              "      <td>0.002268</td>\n",
              "      <td>0.085671</td>\n",
              "      <td>0.165799</td>\n",
              "      <td>0.119519</td>\n",
              "      <td>-0.037613</td>\n",
              "      <td>-0.020915</td>\n",
              "      <td>-0.124410</td>\n",
              "      <td>0.086042</td>\n",
              "      <td>-0.073548</td>\n",
              "      <td>0.000149</td>\n",
              "      <td>0.170084</td>\n",
              "      <td>-0.063077</td>\n",
              "      <td>-0.116451</td>\n",
              "      <td>-0.095712</td>\n",
              "      <td>0.157167</td>\n",
              "      <td>-0.041276</td>\n",
              "    </tr>\n",
              "    <tr>\n",
              "      <th>arrival_date_year</th>\n",
              "      <td>0.016660</td>\n",
              "      <td>0.040142</td>\n",
              "      <td>1.000000</td>\n",
              "      <td>-0.540561</td>\n",
              "      <td>-0.000221</td>\n",
              "      <td>0.021497</td>\n",
              "      <td>0.030883</td>\n",
              "      <td>0.029635</td>\n",
              "      <td>0.054636</td>\n",
              "      <td>-0.013192</td>\n",
              "      <td>0.010341</td>\n",
              "      <td>-0.119822</td>\n",
              "      <td>0.029218</td>\n",
              "      <td>0.030872</td>\n",
              "      <td>-0.056497</td>\n",
              "      <td>0.197580</td>\n",
              "      <td>-0.013684</td>\n",
              "      <td>0.108531</td>\n",
              "      <td>0.031438</td>\n",
              "      <td>0.049666</td>\n",
              "    </tr>\n",
              "    <tr>\n",
              "      <th>arrival_date_week_number</th>\n",
              "      <td>0.008148</td>\n",
              "      <td>0.126871</td>\n",
              "      <td>-0.540561</td>\n",
              "      <td>1.000000</td>\n",
              "      <td>0.066809</td>\n",
              "      <td>0.018208</td>\n",
              "      <td>0.015558</td>\n",
              "      <td>0.025909</td>\n",
              "      <td>0.005515</td>\n",
              "      <td>0.010395</td>\n",
              "      <td>-0.030131</td>\n",
              "      <td>0.035501</td>\n",
              "      <td>-0.020904</td>\n",
              "      <td>0.005508</td>\n",
              "      <td>0.022933</td>\n",
              "      <td>0.075791</td>\n",
              "      <td>0.001920</td>\n",
              "      <td>0.026149</td>\n",
              "      <td>0.018719</td>\n",
              "      <td>0.007783</td>\n",
              "    </tr>\n",
              "    <tr>\n",
              "      <th>arrival_date_day_of_month</th>\n",
              "      <td>-0.006130</td>\n",
              "      <td>0.002268</td>\n",
              "      <td>-0.000221</td>\n",
              "      <td>0.066809</td>\n",
              "      <td>1.000000</td>\n",
              "      <td>-0.016354</td>\n",
              "      <td>-0.028174</td>\n",
              "      <td>-0.001566</td>\n",
              "      <td>0.014553</td>\n",
              "      <td>-0.000230</td>\n",
              "      <td>-0.006145</td>\n",
              "      <td>-0.027011</td>\n",
              "      <td>-0.000300</td>\n",
              "      <td>0.010613</td>\n",
              "      <td>0.022728</td>\n",
              "      <td>0.030245</td>\n",
              "      <td>0.008683</td>\n",
              "      <td>0.003062</td>\n",
              "      <td>-0.027408</td>\n",
              "      <td>0.014004</td>\n",
              "    </tr>\n",
              "    <tr>\n",
              "      <th>stays_in_weekend_nights</th>\n",
              "      <td>-0.001791</td>\n",
              "      <td>0.085671</td>\n",
              "      <td>0.021497</td>\n",
              "      <td>0.018208</td>\n",
              "      <td>-0.016354</td>\n",
              "      <td>1.000000</td>\n",
              "      <td>0.498969</td>\n",
              "      <td>0.091871</td>\n",
              "      <td>0.045794</td>\n",
              "      <td>0.018483</td>\n",
              "      <td>-0.087239</td>\n",
              "      <td>-0.012775</td>\n",
              "      <td>-0.042715</td>\n",
              "      <td>0.063281</td>\n",
              "      <td>-0.054151</td>\n",
              "      <td>0.049342</td>\n",
              "      <td>-0.018554</td>\n",
              "      <td>0.072671</td>\n",
              "      <td>0.762790</td>\n",
              "      <td>0.048604</td>\n",
              "    </tr>\n",
              "    <tr>\n",
              "      <th>stays_in_week_nights</th>\n",
              "      <td>0.024765</td>\n",
              "      <td>0.165799</td>\n",
              "      <td>0.030883</td>\n",
              "      <td>0.015558</td>\n",
              "      <td>-0.028174</td>\n",
              "      <td>0.498969</td>\n",
              "      <td>1.000000</td>\n",
              "      <td>0.092976</td>\n",
              "      <td>0.044203</td>\n",
              "      <td>0.020191</td>\n",
              "      <td>-0.097245</td>\n",
              "      <td>-0.013992</td>\n",
              "      <td>-0.048743</td>\n",
              "      <td>0.096209</td>\n",
              "      <td>-0.002020</td>\n",
              "      <td>0.065237</td>\n",
              "      <td>-0.024859</td>\n",
              "      <td>0.068192</td>\n",
              "      <td>0.941005</td>\n",
              "      <td>0.047471</td>\n",
              "    </tr>\n",
              "    <tr>\n",
              "      <th>adults</th>\n",
              "      <td>0.060017</td>\n",
              "      <td>0.119519</td>\n",
              "      <td>0.029635</td>\n",
              "      <td>0.025909</td>\n",
              "      <td>-0.001566</td>\n",
              "      <td>0.091871</td>\n",
              "      <td>0.092976</td>\n",
              "      <td>1.000000</td>\n",
              "      <td>0.030440</td>\n",
              "      <td>0.018146</td>\n",
              "      <td>-0.146426</td>\n",
              "      <td>-0.006738</td>\n",
              "      <td>-0.107983</td>\n",
              "      <td>-0.051673</td>\n",
              "      <td>-0.008283</td>\n",
              "      <td>0.230641</td>\n",
              "      <td>0.014785</td>\n",
              "      <td>0.122884</td>\n",
              "      <td>0.105249</td>\n",
              "      <td>0.033693</td>\n",
              "    </tr>\n",
              "    <tr>\n",
              "      <th>children</th>\n",
              "      <td>0.005036</td>\n",
              "      <td>-0.037613</td>\n",
              "      <td>0.054636</td>\n",
              "      <td>0.005515</td>\n",
              "      <td>0.014553</td>\n",
              "      <td>0.045794</td>\n",
              "      <td>0.044203</td>\n",
              "      <td>0.030440</td>\n",
              "      <td>1.000000</td>\n",
              "      <td>0.024030</td>\n",
              "      <td>-0.032858</td>\n",
              "      <td>-0.024729</td>\n",
              "      <td>-0.021072</td>\n",
              "      <td>0.048952</td>\n",
              "      <td>-0.033271</td>\n",
              "      <td>0.324853</td>\n",
              "      <td>0.056255</td>\n",
              "      <td>0.081736</td>\n",
              "      <td>0.050865</td>\n",
              "      <td>0.971727</td>\n",
              "    </tr>\n",
              "    <tr>\n",
              "      <th>babies</th>\n",
              "      <td>-0.032491</td>\n",
              "      <td>-0.020915</td>\n",
              "      <td>-0.013192</td>\n",
              "      <td>0.010395</td>\n",
              "      <td>-0.000230</td>\n",
              "      <td>0.018483</td>\n",
              "      <td>0.020191</td>\n",
              "      <td>0.018146</td>\n",
              "      <td>0.024030</td>\n",
              "      <td>1.000000</td>\n",
              "      <td>-0.008943</td>\n",
              "      <td>-0.007501</td>\n",
              "      <td>-0.006550</td>\n",
              "      <td>0.083440</td>\n",
              "      <td>-0.010621</td>\n",
              "      <td>0.029186</td>\n",
              "      <td>0.037383</td>\n",
              "      <td>0.097889</td>\n",
              "      <td>0.022283</td>\n",
              "      <td>0.259389</td>\n",
              "    </tr>\n",
              "    <tr>\n",
              "      <th>is_repeated_guest</th>\n",
              "      <td>-0.084793</td>\n",
              "      <td>-0.124410</td>\n",
              "      <td>0.010341</td>\n",
              "      <td>-0.030131</td>\n",
              "      <td>-0.006145</td>\n",
              "      <td>-0.087239</td>\n",
              "      <td>-0.097245</td>\n",
              "      <td>-0.146426</td>\n",
              "      <td>-0.032858</td>\n",
              "      <td>-0.008943</td>\n",
              "      <td>1.000000</td>\n",
              "      <td>0.082293</td>\n",
              "      <td>0.418056</td>\n",
              "      <td>0.012092</td>\n",
              "      <td>-0.022235</td>\n",
              "      <td>-0.134314</td>\n",
              "      <td>0.077090</td>\n",
              "      <td>0.013050</td>\n",
              "      <td>-0.106626</td>\n",
              "      <td>-0.033854</td>\n",
              "    </tr>\n",
              "    <tr>\n",
              "      <th>previous_cancellations</th>\n",
              "      <td>0.110133</td>\n",
              "      <td>0.086042</td>\n",
              "      <td>-0.119822</td>\n",
              "      <td>0.035501</td>\n",
              "      <td>-0.027011</td>\n",
              "      <td>-0.012775</td>\n",
              "      <td>-0.013992</td>\n",
              "      <td>-0.006738</td>\n",
              "      <td>-0.024729</td>\n",
              "      <td>-0.007501</td>\n",
              "      <td>0.082293</td>\n",
              "      <td>1.000000</td>\n",
              "      <td>0.152728</td>\n",
              "      <td>-0.026993</td>\n",
              "      <td>0.005929</td>\n",
              "      <td>-0.065646</td>\n",
              "      <td>-0.018492</td>\n",
              "      <td>-0.048384</td>\n",
              "      <td>-0.015429</td>\n",
              "      <td>-0.025661</td>\n",
              "    </tr>\n",
              "    <tr>\n",
              "      <th>previous_bookings_not_canceled</th>\n",
              "      <td>-0.057358</td>\n",
              "      <td>-0.073548</td>\n",
              "      <td>0.029218</td>\n",
              "      <td>-0.020904</td>\n",
              "      <td>-0.000300</td>\n",
              "      <td>-0.042715</td>\n",
              "      <td>-0.048743</td>\n",
              "      <td>-0.107983</td>\n",
              "      <td>-0.021072</td>\n",
              "      <td>-0.006550</td>\n",
              "      <td>0.418056</td>\n",
              "      <td>0.152728</td>\n",
              "      <td>1.000000</td>\n",
              "      <td>0.011608</td>\n",
              "      <td>-0.009397</td>\n",
              "      <td>-0.072144</td>\n",
              "      <td>0.047653</td>\n",
              "      <td>0.037824</td>\n",
              "      <td>-0.053049</td>\n",
              "      <td>-0.021903</td>\n",
              "    </tr>\n",
              "    <tr>\n",
              "      <th>booking_changes</th>\n",
              "      <td>-0.144381</td>\n",
              "      <td>0.000149</td>\n",
              "      <td>0.030872</td>\n",
              "      <td>0.005508</td>\n",
              "      <td>0.010613</td>\n",
              "      <td>0.063281</td>\n",
              "      <td>0.096209</td>\n",
              "      <td>-0.051673</td>\n",
              "      <td>0.048952</td>\n",
              "      <td>0.083440</td>\n",
              "      <td>0.012092</td>\n",
              "      <td>-0.026993</td>\n",
              "      <td>0.011608</td>\n",
              "      <td>1.000000</td>\n",
              "      <td>-0.011634</td>\n",
              "      <td>0.019618</td>\n",
              "      <td>0.065620</td>\n",
              "      <td>0.052833</td>\n",
              "      <td>0.096498</td>\n",
              "      <td>0.066996</td>\n",
              "    </tr>\n",
              "    <tr>\n",
              "      <th>days_in_waiting_list</th>\n",
              "      <td>0.054186</td>\n",
              "      <td>0.170084</td>\n",
              "      <td>-0.056497</td>\n",
              "      <td>0.022933</td>\n",
              "      <td>0.022728</td>\n",
              "      <td>-0.054151</td>\n",
              "      <td>-0.002020</td>\n",
              "      <td>-0.008283</td>\n",
              "      <td>-0.033271</td>\n",
              "      <td>-0.010621</td>\n",
              "      <td>-0.022235</td>\n",
              "      <td>0.005929</td>\n",
              "      <td>-0.009397</td>\n",
              "      <td>-0.011634</td>\n",
              "      <td>1.000000</td>\n",
              "      <td>-0.040756</td>\n",
              "      <td>-0.030600</td>\n",
              "      <td>-0.082730</td>\n",
              "      <td>-0.022652</td>\n",
              "      <td>-0.034650</td>\n",
              "    </tr>\n",
              "    <tr>\n",
              "      <th>adr</th>\n",
              "      <td>0.047557</td>\n",
              "      <td>-0.063077</td>\n",
              "      <td>0.197580</td>\n",
              "      <td>0.075791</td>\n",
              "      <td>0.030245</td>\n",
              "      <td>0.049342</td>\n",
              "      <td>0.065237</td>\n",
              "      <td>0.230641</td>\n",
              "      <td>0.324853</td>\n",
              "      <td>0.029186</td>\n",
              "      <td>-0.134314</td>\n",
              "      <td>-0.065646</td>\n",
              "      <td>-0.072144</td>\n",
              "      <td>0.019618</td>\n",
              "      <td>-0.040756</td>\n",
              "      <td>1.000000</td>\n",
              "      <td>0.056628</td>\n",
              "      <td>0.172185</td>\n",
              "      <td>0.067945</td>\n",
              "      <td>0.320718</td>\n",
              "    </tr>\n",
              "    <tr>\n",
              "      <th>required_car_parking_spaces</th>\n",
              "      <td>-0.195498</td>\n",
              "      <td>-0.116451</td>\n",
              "      <td>-0.013684</td>\n",
              "      <td>0.001920</td>\n",
              "      <td>0.008683</td>\n",
              "      <td>-0.018554</td>\n",
              "      <td>-0.024859</td>\n",
              "      <td>0.014785</td>\n",
              "      <td>0.056255</td>\n",
              "      <td>0.037383</td>\n",
              "      <td>0.077090</td>\n",
              "      <td>-0.018492</td>\n",
              "      <td>0.047653</td>\n",
              "      <td>0.065620</td>\n",
              "      <td>-0.030600</td>\n",
              "      <td>0.056628</td>\n",
              "      <td>1.000000</td>\n",
              "      <td>0.082626</td>\n",
              "      <td>-0.025794</td>\n",
              "      <td>0.063174</td>\n",
              "    </tr>\n",
              "    <tr>\n",
              "      <th>total_of_special_requests</th>\n",
              "      <td>-0.234658</td>\n",
              "      <td>-0.095712</td>\n",
              "      <td>0.108531</td>\n",
              "      <td>0.026149</td>\n",
              "      <td>0.003062</td>\n",
              "      <td>0.072671</td>\n",
              "      <td>0.068192</td>\n",
              "      <td>0.122884</td>\n",
              "      <td>0.081736</td>\n",
              "      <td>0.097889</td>\n",
              "      <td>0.013050</td>\n",
              "      <td>-0.048384</td>\n",
              "      <td>0.037824</td>\n",
              "      <td>0.052833</td>\n",
              "      <td>-0.082730</td>\n",
              "      <td>0.172185</td>\n",
              "      <td>0.082626</td>\n",
              "      <td>1.000000</td>\n",
              "      <td>0.079259</td>\n",
              "      <td>0.102080</td>\n",
              "    </tr>\n",
              "    <tr>\n",
              "      <th>total_nights</th>\n",
              "      <td>0.017779</td>\n",
              "      <td>0.157167</td>\n",
              "      <td>0.031438</td>\n",
              "      <td>0.018719</td>\n",
              "      <td>-0.027408</td>\n",
              "      <td>0.762790</td>\n",
              "      <td>0.941005</td>\n",
              "      <td>0.105249</td>\n",
              "      <td>0.050865</td>\n",
              "      <td>0.022283</td>\n",
              "      <td>-0.106626</td>\n",
              "      <td>-0.015429</td>\n",
              "      <td>-0.053049</td>\n",
              "      <td>0.096498</td>\n",
              "      <td>-0.022652</td>\n",
              "      <td>0.067945</td>\n",
              "      <td>-0.025794</td>\n",
              "      <td>0.079259</td>\n",
              "      <td>1.000000</td>\n",
              "      <td>0.054400</td>\n",
              "    </tr>\n",
              "    <tr>\n",
              "      <th>total_children</th>\n",
              "      <td>-0.002808</td>\n",
              "      <td>-0.041276</td>\n",
              "      <td>0.049666</td>\n",
              "      <td>0.007783</td>\n",
              "      <td>0.014004</td>\n",
              "      <td>0.048604</td>\n",
              "      <td>0.047471</td>\n",
              "      <td>0.033693</td>\n",
              "      <td>0.971727</td>\n",
              "      <td>0.259389</td>\n",
              "      <td>-0.033854</td>\n",
              "      <td>-0.025661</td>\n",
              "      <td>-0.021903</td>\n",
              "      <td>0.066996</td>\n",
              "      <td>-0.034650</td>\n",
              "      <td>0.320718</td>\n",
              "      <td>0.063174</td>\n",
              "      <td>0.102080</td>\n",
              "      <td>0.054400</td>\n",
              "      <td>1.000000</td>\n",
              "    </tr>\n",
              "  </tbody>\n",
              "</table>\n",
              "</div>"
            ],
            "text/plain": [
              "                                is_canceled  ...  total_children\n",
              "is_canceled                        1.000000  ...       -0.002808\n",
              "lead_time                          0.293123  ...       -0.041276\n",
              "arrival_date_year                  0.016660  ...        0.049666\n",
              "arrival_date_week_number           0.008148  ...        0.007783\n",
              "arrival_date_day_of_month         -0.006130  ...        0.014004\n",
              "stays_in_weekend_nights           -0.001791  ...        0.048604\n",
              "stays_in_week_nights               0.024765  ...        0.047471\n",
              "adults                             0.060017  ...        0.033693\n",
              "children                           0.005036  ...        0.971727\n",
              "babies                            -0.032491  ...        0.259389\n",
              "is_repeated_guest                 -0.084793  ...       -0.033854\n",
              "previous_cancellations             0.110133  ...       -0.025661\n",
              "previous_bookings_not_canceled    -0.057358  ...       -0.021903\n",
              "booking_changes                   -0.144381  ...        0.066996\n",
              "days_in_waiting_list               0.054186  ...       -0.034650\n",
              "adr                                0.047557  ...        0.320718\n",
              "required_car_parking_spaces       -0.195498  ...        0.063174\n",
              "total_of_special_requests         -0.234658  ...        0.102080\n",
              "total_nights                       0.017779  ...        0.054400\n",
              "total_children                    -0.002808  ...        1.000000\n",
              "\n",
              "[20 rows x 20 columns]"
            ]
          },
          "metadata": {
            "tags": []
          },
          "execution_count": 75
        }
      ]
    },
    {
      "cell_type": "code",
      "metadata": {
        "id": "g15fRFn7BnOI",
        "colab": {
          "base_uri": "https://localhost:8080/",
          "height": 513
        },
        "outputId": "ba467d2e-3d38-4954-8905-3e5a701db330"
      },
      "source": [
        "# grouping data on lead_time:\n",
        "lead_cancel_data = df.groupby(\"total_children\")[\"total_of_special_requests\"].describe()\n",
        "# we use only lead_times with more than 10 bookings for graph:\n",
        "lead_cancel_data_10 = lead_cancel_data.loc[lead_cancel_data[\"count\"]>=1]\n",
        "\n",
        "#show figure:\n",
        "plt.figure(figsize=(10, 8))\n",
        "sns.regplot(x=lead_cancel_data_10.index, y=lead_cancel_data_10[\"mean\"].values * 100)\n",
        "plt.title(\"Effect of children on special requests\")\n",
        "plt.xlabel(\"Lead time\")\n",
        "plt.ylabel(\"Cancelations [%]\")\n",
        "# plt.xlim(0,365)\n",
        "plt.show()"
      ],
      "execution_count": null,
      "outputs": [
        {
          "output_type": "display_data",
          "data": {
            "image/png": "[encoded data removed]",
            "text/plain": [
              "<Figure size 720x576 with 1 Axes>"
            ]
          },
          "metadata": {
            "tags": [],
            "needs_background": "light"
          }
        }
      ]
    },
    {
      "cell_type": "code",
      "metadata": {
        "id": "0NaaszBBeGBh",
        "colab": {
          "base_uri": "https://localhost:8080/",
          "height": 1000
        },
        "outputId": "28ea18ce-db15-4c71-fe94-4a2c94d09029"
      },
      "source": [
        "month_year_wise=df.sort_values(['arrival_date_year']).groupby(['arrival_date_year','arrival_date_month','hotel','total_of_special_requests'],sort=False )['total_of_special_requests'].count().unstack().reset_index()\n",
        "month_year_wise"
      ],
      "execution_count": null,
      "outputs": [
        {
          "output_type": "execute_result",
          "data": {
            "text/html": [
              "<div>\n",
              "<style scoped>\n",
              "    .dataframe tbody tr th:only-of-type {\n",
              "        vertical-align: middle;\n",
              "    }\n",
              "\n",
              "    .dataframe tbody tr th {\n",
              "        vertical-align: top;\n",
              "    }\n",
              "\n",
              "    .dataframe thead th {\n",
              "        text-align: right;\n",
              "    }\n",
              "</style>\n",
              "<table border=\"1\" class=\"dataframe\">\n",
              "  <thead>\n",
              "    <tr style=\"text-align: right;\">\n",
              "      <th>total_of_special_requests</th>\n",
              "      <th>arrival_date_year</th>\n",
              "      <th>arrival_date_month</th>\n",
              "      <th>hotel</th>\n",
              "      <th>0</th>\n",
              "      <th>2</th>\n",
              "      <th>1</th>\n",
              "      <th>3</th>\n",
              "      <th>4</th>\n",
              "      <th>5</th>\n",
              "    </tr>\n",
              "  </thead>\n",
              "  <tbody>\n",
              "    <tr>\n",
              "      <th>0</th>\n",
              "      <td>2015</td>\n",
              "      <td>July</td>\n",
              "      <td>Resort Hotel</td>\n",
              "      <td>647.0</td>\n",
              "      <td>207.0</td>\n",
              "      <td>476.0</td>\n",
              "      <td>46.0</td>\n",
              "      <td>1.0</td>\n",
              "      <td>1.0</td>\n",
              "    </tr>\n",
              "    <tr>\n",
              "      <th>1</th>\n",
              "      <td>2015</td>\n",
              "      <td>July</td>\n",
              "      <td>City Hotel</td>\n",
              "      <td>1257.0</td>\n",
              "      <td>42.0</td>\n",
              "      <td>96.0</td>\n",
              "      <td>3.0</td>\n",
              "      <td>NaN</td>\n",
              "      <td>NaN</td>\n",
              "    </tr>\n",
              "    <tr>\n",
              "      <th>2</th>\n",
              "      <td>2015</td>\n",
              "      <td>December</td>\n",
              "      <td>Resort Hotel</td>\n",
              "      <td>750.0</td>\n",
              "      <td>148.0</td>\n",
              "      <td>353.0</td>\n",
              "      <td>14.0</td>\n",
              "      <td>1.0</td>\n",
              "      <td>NaN</td>\n",
              "    </tr>\n",
              "    <tr>\n",
              "      <th>3</th>\n",
              "      <td>2015</td>\n",
              "      <td>December</td>\n",
              "      <td>City Hotel</td>\n",
              "      <td>1142.0</td>\n",
              "      <td>133.0</td>\n",
              "      <td>353.0</td>\n",
              "      <td>26.0</td>\n",
              "      <td>NaN</td>\n",
              "      <td>NaN</td>\n",
              "    </tr>\n",
              "    <tr>\n",
              "      <th>4</th>\n",
              "      <td>2015</td>\n",
              "      <td>August</td>\n",
              "      <td>Resort Hotel</td>\n",
              "      <td>553.0</td>\n",
              "      <td>277.0</td>\n",
              "      <td>493.0</td>\n",
              "      <td>76.0</td>\n",
              "      <td>10.0</td>\n",
              "      <td>NaN</td>\n",
              "    </tr>\n",
              "    <tr>\n",
              "      <th>5</th>\n",
              "      <td>2015</td>\n",
              "      <td>August</td>\n",
              "      <td>City Hotel</td>\n",
              "      <td>1906.0</td>\n",
              "      <td>214.0</td>\n",
              "      <td>319.0</td>\n",
              "      <td>38.0</td>\n",
              "      <td>3.0</td>\n",
              "      <td>NaN</td>\n",
              "    </tr>\n",
              "    <tr>\n",
              "      <th>6</th>\n",
              "      <td>2015</td>\n",
              "      <td>November</td>\n",
              "      <td>Resort Hotel</td>\n",
              "      <td>755.0</td>\n",
              "      <td>88.0</td>\n",
              "      <td>249.0</td>\n",
              "      <td>12.0</td>\n",
              "      <td>1.0</td>\n",
              "      <td>NaN</td>\n",
              "    </tr>\n",
              "    <tr>\n",
              "      <th>7</th>\n",
              "      <td>2015</td>\n",
              "      <td>November</td>\n",
              "      <td>City Hotel</td>\n",
              "      <td>870.0</td>\n",
              "      <td>92.0</td>\n",
              "      <td>259.0</td>\n",
              "      <td>14.0</td>\n",
              "      <td>NaN</td>\n",
              "      <td>NaN</td>\n",
              "    </tr>\n",
              "    <tr>\n",
              "      <th>8</th>\n",
              "      <td>2015</td>\n",
              "      <td>September</td>\n",
              "      <td>Resort Hotel</td>\n",
              "      <td>1010.0</td>\n",
              "      <td>181.0</td>\n",
              "      <td>367.0</td>\n",
              "      <td>25.0</td>\n",
              "      <td>2.0</td>\n",
              "      <td>NaN</td>\n",
              "    </tr>\n",
              "    <tr>\n",
              "      <th>9</th>\n",
              "      <td>2015</td>\n",
              "      <td>September</td>\n",
              "      <td>City Hotel</td>\n",
              "      <td>2816.0</td>\n",
              "      <td>256.0</td>\n",
              "      <td>414.0</td>\n",
              "      <td>41.0</td>\n",
              "      <td>2.0</td>\n",
              "      <td>NaN</td>\n",
              "    </tr>\n",
              "    <tr>\n",
              "      <th>10</th>\n",
              "      <td>2015</td>\n",
              "      <td>October</td>\n",
              "      <td>Resort Hotel</td>\n",
              "      <td>1022.0</td>\n",
              "      <td>173.0</td>\n",
              "      <td>339.0</td>\n",
              "      <td>37.0</td>\n",
              "      <td>NaN</td>\n",
              "      <td>NaN</td>\n",
              "    </tr>\n",
              "    <tr>\n",
              "      <th>11</th>\n",
              "      <td>2015</td>\n",
              "      <td>October</td>\n",
              "      <td>City Hotel</td>\n",
              "      <td>2585.0</td>\n",
              "      <td>236.0</td>\n",
              "      <td>509.0</td>\n",
              "      <td>51.0</td>\n",
              "      <td>2.0</td>\n",
              "      <td>3.0</td>\n",
              "    </tr>\n",
              "    <tr>\n",
              "      <th>12</th>\n",
              "      <td>2016</td>\n",
              "      <td>July</td>\n",
              "      <td>Resort Hotel</td>\n",
              "      <td>739.0</td>\n",
              "      <td>177.0</td>\n",
              "      <td>485.0</td>\n",
              "      <td>35.0</td>\n",
              "      <td>5.0</td>\n",
              "      <td>NaN</td>\n",
              "    </tr>\n",
              "    <tr>\n",
              "      <th>13</th>\n",
              "      <td>2016</td>\n",
              "      <td>July</td>\n",
              "      <td>City Hotel</td>\n",
              "      <td>1592.0</td>\n",
              "      <td>418.0</td>\n",
              "      <td>1067.0</td>\n",
              "      <td>44.0</td>\n",
              "      <td>10.0</td>\n",
              "      <td>NaN</td>\n",
              "    </tr>\n",
              "    <tr>\n",
              "      <th>14</th>\n",
              "      <td>2016</td>\n",
              "      <td>December</td>\n",
              "      <td>Resort Hotel</td>\n",
              "      <td>699.0</td>\n",
              "      <td>172.0</td>\n",
              "      <td>458.0</td>\n",
              "      <td>43.0</td>\n",
              "      <td>10.0</td>\n",
              "      <td>NaN</td>\n",
              "    </tr>\n",
              "    <tr>\n",
              "      <th>15</th>\n",
              "      <td>2016</td>\n",
              "      <td>December</td>\n",
              "      <td>City Hotel</td>\n",
              "      <td>1237.0</td>\n",
              "      <td>424.0</td>\n",
              "      <td>754.0</td>\n",
              "      <td>54.0</td>\n",
              "      <td>9.0</td>\n",
              "      <td>NaN</td>\n",
              "    </tr>\n",
              "    <tr>\n",
              "      <th>16</th>\n",
              "      <td>2016</td>\n",
              "      <td>August</td>\n",
              "      <td>Resort Hotel</td>\n",
              "      <td>856.0</td>\n",
              "      <td>218.0</td>\n",
              "      <td>571.0</td>\n",
              "      <td>36.0</td>\n",
              "      <td>1.0</td>\n",
              "      <td>3.0</td>\n",
              "    </tr>\n",
              "    <tr>\n",
              "      <th>17</th>\n",
              "      <td>2016</td>\n",
              "      <td>August</td>\n",
              "      <td>City Hotel</td>\n",
              "      <td>1662.0</td>\n",
              "      <td>447.0</td>\n",
              "      <td>1194.0</td>\n",
              "      <td>68.0</td>\n",
              "      <td>7.0</td>\n",
              "      <td>NaN</td>\n",
              "    </tr>\n",
              "    <tr>\n",
              "      <th>18</th>\n",
              "      <td>2016</td>\n",
              "      <td>November</td>\n",
              "      <td>Resort Hotel</td>\n",
              "      <td>692.0</td>\n",
              "      <td>191.0</td>\n",
              "      <td>402.0</td>\n",
              "      <td>40.0</td>\n",
              "      <td>6.0</td>\n",
              "      <td>1.0</td>\n",
              "    </tr>\n",
              "    <tr>\n",
              "      <th>19</th>\n",
              "      <td>2016</td>\n",
              "      <td>November</td>\n",
              "      <td>City Hotel</td>\n",
              "      <td>1709.0</td>\n",
              "      <td>435.0</td>\n",
              "      <td>875.0</td>\n",
              "      <td>93.0</td>\n",
              "      <td>8.0</td>\n",
              "      <td>2.0</td>\n",
              "    </tr>\n",
              "    <tr>\n",
              "      <th>20</th>\n",
              "      <td>2016</td>\n",
              "      <td>September</td>\n",
              "      <td>Resort Hotel</td>\n",
              "      <td>846.0</td>\n",
              "      <td>207.0</td>\n",
              "      <td>431.0</td>\n",
              "      <td>36.0</td>\n",
              "      <td>3.0</td>\n",
              "      <td>NaN</td>\n",
              "    </tr>\n",
              "    <tr>\n",
              "      <th>21</th>\n",
              "      <td>2016</td>\n",
              "      <td>September</td>\n",
              "      <td>City Hotel</td>\n",
              "      <td>2168.0</td>\n",
              "      <td>478.0</td>\n",
              "      <td>1111.0</td>\n",
              "      <td>94.0</td>\n",
              "      <td>15.0</td>\n",
              "      <td>5.0</td>\n",
              "    </tr>\n",
              "    <tr>\n",
              "      <th>22</th>\n",
              "      <td>2016</td>\n",
              "      <td>October</td>\n",
              "      <td>Resort Hotel</td>\n",
              "      <td>1306.0</td>\n",
              "      <td>181.0</td>\n",
              "      <td>465.0</td>\n",
              "      <td>29.0</td>\n",
              "      <td>3.0</td>\n",
              "      <td>NaN</td>\n",
              "    </tr>\n",
              "    <tr>\n",
              "      <th>23</th>\n",
              "      <td>2016</td>\n",
              "      <td>October</td>\n",
              "      <td>City Hotel</td>\n",
              "      <td>2441.0</td>\n",
              "      <td>536.0</td>\n",
              "      <td>1096.0</td>\n",
              "      <td>117.0</td>\n",
              "      <td>27.0</td>\n",
              "      <td>2.0</td>\n",
              "    </tr>\n",
              "    <tr>\n",
              "      <th>24</th>\n",
              "      <td>2016</td>\n",
              "      <td>June</td>\n",
              "      <td>Resort Hotel</td>\n",
              "      <td>763.0</td>\n",
              "      <td>151.0</td>\n",
              "      <td>424.0</td>\n",
              "      <td>27.0</td>\n",
              "      <td>4.0</td>\n",
              "      <td>NaN</td>\n",
              "    </tr>\n",
              "    <tr>\n",
              "      <th>25</th>\n",
              "      <td>2016</td>\n",
              "      <td>June</td>\n",
              "      <td>City Hotel</td>\n",
              "      <td>2465.0</td>\n",
              "      <td>250.0</td>\n",
              "      <td>1159.0</td>\n",
              "      <td>45.0</td>\n",
              "      <td>4.0</td>\n",
              "      <td>NaN</td>\n",
              "    </tr>\n",
              "    <tr>\n",
              "      <th>26</th>\n",
              "      <td>2016</td>\n",
              "      <td>January</td>\n",
              "      <td>Resort Hotel</td>\n",
              "      <td>510.0</td>\n",
              "      <td>96.0</td>\n",
              "      <td>267.0</td>\n",
              "      <td>11.0</td>\n",
              "      <td>NaN</td>\n",
              "      <td>NaN</td>\n",
              "    </tr>\n",
              "    <tr>\n",
              "      <th>27</th>\n",
              "      <td>2016</td>\n",
              "      <td>January</td>\n",
              "      <td>City Hotel</td>\n",
              "      <td>937.0</td>\n",
              "      <td>57.0</td>\n",
              "      <td>364.0</td>\n",
              "      <td>6.0</td>\n",
              "      <td>NaN</td>\n",
              "      <td>NaN</td>\n",
              "    </tr>\n",
              "    <tr>\n",
              "      <th>28</th>\n",
              "      <td>2016</td>\n",
              "      <td>April</td>\n",
              "      <td>Resort Hotel</td>\n",
              "      <td>1335.0</td>\n",
              "      <td>94.0</td>\n",
              "      <td>425.0</td>\n",
              "      <td>12.0</td>\n",
              "      <td>1.0</td>\n",
              "      <td>NaN</td>\n",
              "    </tr>\n",
              "    <tr>\n",
              "      <th>29</th>\n",
              "      <td>2016</td>\n",
              "      <td>April</td>\n",
              "      <td>City Hotel</td>\n",
              "      <td>2302.0</td>\n",
              "      <td>259.0</td>\n",
              "      <td>974.0</td>\n",
              "      <td>26.0</td>\n",
              "      <td>NaN</td>\n",
              "      <td>NaN</td>\n",
              "    </tr>\n",
              "    <tr>\n",
              "      <th>30</th>\n",
              "      <td>2016</td>\n",
              "      <td>March</td>\n",
              "      <td>Resort Hotel</td>\n",
              "      <td>1220.0</td>\n",
              "      <td>127.0</td>\n",
              "      <td>410.0</td>\n",
              "      <td>19.0</td>\n",
              "      <td>2.0</td>\n",
              "      <td>NaN</td>\n",
              "    </tr>\n",
              "    <tr>\n",
              "      <th>31</th>\n",
              "      <td>2016</td>\n",
              "      <td>March</td>\n",
              "      <td>City Hotel</td>\n",
              "      <td>1901.0</td>\n",
              "      <td>186.0</td>\n",
              "      <td>950.0</td>\n",
              "      <td>8.0</td>\n",
              "      <td>1.0</td>\n",
              "      <td>NaN</td>\n",
              "    </tr>\n",
              "    <tr>\n",
              "      <th>32</th>\n",
              "      <td>2016</td>\n",
              "      <td>February</td>\n",
              "      <td>Resort Hotel</td>\n",
              "      <td>1002.0</td>\n",
              "      <td>140.0</td>\n",
              "      <td>364.0</td>\n",
              "      <td>12.0</td>\n",
              "      <td>2.0</td>\n",
              "      <td>NaN</td>\n",
              "    </tr>\n",
              "    <tr>\n",
              "      <th>33</th>\n",
              "      <td>2016</td>\n",
              "      <td>February</td>\n",
              "      <td>City Hotel</td>\n",
              "      <td>1615.0</td>\n",
              "      <td>137.0</td>\n",
              "      <td>599.0</td>\n",
              "      <td>19.0</td>\n",
              "      <td>1.0</td>\n",
              "      <td>NaN</td>\n",
              "    </tr>\n",
              "    <tr>\n",
              "      <th>34</th>\n",
              "      <td>2016</td>\n",
              "      <td>May</td>\n",
              "      <td>Resort Hotel</td>\n",
              "      <td>1188.0</td>\n",
              "      <td>132.0</td>\n",
              "      <td>462.0</td>\n",
              "      <td>17.0</td>\n",
              "      <td>2.0</td>\n",
              "      <td>1.0</td>\n",
              "    </tr>\n",
              "    <tr>\n",
              "      <th>35</th>\n",
              "      <td>2016</td>\n",
              "      <td>May</td>\n",
              "      <td>City Hotel</td>\n",
              "      <td>2442.0</td>\n",
              "      <td>249.0</td>\n",
              "      <td>951.0</td>\n",
              "      <td>33.0</td>\n",
              "      <td>1.0</td>\n",
              "      <td>NaN</td>\n",
              "    </tr>\n",
              "    <tr>\n",
              "      <th>36</th>\n",
              "      <td>2017</td>\n",
              "      <td>July</td>\n",
              "      <td>Resort Hotel</td>\n",
              "      <td>677.0</td>\n",
              "      <td>310.0</td>\n",
              "      <td>680.0</td>\n",
              "      <td>78.0</td>\n",
              "      <td>9.0</td>\n",
              "      <td>NaN</td>\n",
              "    </tr>\n",
              "    <tr>\n",
              "      <th>37</th>\n",
              "      <td>2017</td>\n",
              "      <td>July</td>\n",
              "      <td>City Hotel</td>\n",
              "      <td>1613.0</td>\n",
              "      <td>477.0</td>\n",
              "      <td>1357.0</td>\n",
              "      <td>91.0</td>\n",
              "      <td>19.0</td>\n",
              "      <td>2.0</td>\n",
              "    </tr>\n",
              "    <tr>\n",
              "      <th>38</th>\n",
              "      <td>2017</td>\n",
              "      <td>August</td>\n",
              "      <td>Resort Hotel</td>\n",
              "      <td>588.0</td>\n",
              "      <td>407.0</td>\n",
              "      <td>644.0</td>\n",
              "      <td>117.0</td>\n",
              "      <td>41.0</td>\n",
              "      <td>3.0</td>\n",
              "    </tr>\n",
              "    <tr>\n",
              "      <th>39</th>\n",
              "      <td>2017</td>\n",
              "      <td>August</td>\n",
              "      <td>City Hotel</td>\n",
              "      <td>1303.0</td>\n",
              "      <td>444.0</td>\n",
              "      <td>1226.0</td>\n",
              "      <td>131.0</td>\n",
              "      <td>19.0</td>\n",
              "      <td>2.0</td>\n",
              "    </tr>\n",
              "    <tr>\n",
              "      <th>40</th>\n",
              "      <td>2017</td>\n",
              "      <td>June</td>\n",
              "      <td>Resort Hotel</td>\n",
              "      <td>789.0</td>\n",
              "      <td>240.0</td>\n",
              "      <td>599.0</td>\n",
              "      <td>40.0</td>\n",
              "      <td>8.0</td>\n",
              "      <td>NaN</td>\n",
              "    </tr>\n",
              "    <tr>\n",
              "      <th>41</th>\n",
              "      <td>2017</td>\n",
              "      <td>June</td>\n",
              "      <td>City Hotel</td>\n",
              "      <td>2265.0</td>\n",
              "      <td>391.0</td>\n",
              "      <td>1220.0</td>\n",
              "      <td>81.0</td>\n",
              "      <td>10.0</td>\n",
              "      <td>4.0</td>\n",
              "    </tr>\n",
              "    <tr>\n",
              "      <th>42</th>\n",
              "      <td>2017</td>\n",
              "      <td>January</td>\n",
              "      <td>Resort Hotel</td>\n",
              "      <td>704.0</td>\n",
              "      <td>134.0</td>\n",
              "      <td>445.0</td>\n",
              "      <td>21.0</td>\n",
              "      <td>4.0</td>\n",
              "      <td>1.0</td>\n",
              "    </tr>\n",
              "    <tr>\n",
              "      <th>43</th>\n",
              "      <td>2017</td>\n",
              "      <td>January</td>\n",
              "      <td>City Hotel</td>\n",
              "      <td>1389.0</td>\n",
              "      <td>324.0</td>\n",
              "      <td>584.0</td>\n",
              "      <td>71.0</td>\n",
              "      <td>4.0</td>\n",
              "      <td>NaN</td>\n",
              "    </tr>\n",
              "    <tr>\n",
              "      <th>44</th>\n",
              "      <td>2017</td>\n",
              "      <td>April</td>\n",
              "      <td>Resort Hotel</td>\n",
              "      <td>937.0</td>\n",
              "      <td>202.0</td>\n",
              "      <td>556.0</td>\n",
              "      <td>35.0</td>\n",
              "      <td>10.0</td>\n",
              "      <td>2.0</td>\n",
              "    </tr>\n",
              "    <tr>\n",
              "      <th>45</th>\n",
              "      <td>2017</td>\n",
              "      <td>April</td>\n",
              "      <td>City Hotel</td>\n",
              "      <td>2307.0</td>\n",
              "      <td>465.0</td>\n",
              "      <td>982.0</td>\n",
              "      <td>131.0</td>\n",
              "      <td>30.0</td>\n",
              "      <td>4.0</td>\n",
              "    </tr>\n",
              "    <tr>\n",
              "      <th>46</th>\n",
              "      <td>2017</td>\n",
              "      <td>March</td>\n",
              "      <td>Resort Hotel</td>\n",
              "      <td>1019.0</td>\n",
              "      <td>157.0</td>\n",
              "      <td>349.0</td>\n",
              "      <td>27.0</td>\n",
              "      <td>5.0</td>\n",
              "      <td>1.0</td>\n",
              "    </tr>\n",
              "    <tr>\n",
              "      <th>47</th>\n",
              "      <td>2017</td>\n",
              "      <td>March</td>\n",
              "      <td>City Hotel</td>\n",
              "      <td>1940.0</td>\n",
              "      <td>362.0</td>\n",
              "      <td>1017.0</td>\n",
              "      <td>89.0</td>\n",
              "      <td>4.0</td>\n",
              "      <td>NaN</td>\n",
              "    </tr>\n",
              "    <tr>\n",
              "      <th>48</th>\n",
              "      <td>2017</td>\n",
              "      <td>February</td>\n",
              "      <td>Resort Hotel</td>\n",
              "      <td>876.0</td>\n",
              "      <td>193.0</td>\n",
              "      <td>469.0</td>\n",
              "      <td>38.0</td>\n",
              "      <td>6.0</td>\n",
              "      <td>1.0</td>\n",
              "    </tr>\n",
              "    <tr>\n",
              "      <th>49</th>\n",
              "      <td>2017</td>\n",
              "      <td>February</td>\n",
              "      <td>City Hotel</td>\n",
              "      <td>1483.0</td>\n",
              "      <td>308.0</td>\n",
              "      <td>705.0</td>\n",
              "      <td>92.0</td>\n",
              "      <td>6.0</td>\n",
              "      <td>NaN</td>\n",
              "    </tr>\n",
              "    <tr>\n",
              "      <th>50</th>\n",
              "      <td>2017</td>\n",
              "      <td>May</td>\n",
              "      <td>Resort Hotel</td>\n",
              "      <td>878.0</td>\n",
              "      <td>224.0</td>\n",
              "      <td>623.0</td>\n",
              "      <td>27.0</td>\n",
              "      <td>5.0</td>\n",
              "      <td>NaN</td>\n",
              "    </tr>\n",
              "    <tr>\n",
              "      <th>51</th>\n",
              "      <td>2017</td>\n",
              "      <td>May</td>\n",
              "      <td>City Hotel</td>\n",
              "      <td>2610.0</td>\n",
              "      <td>522.0</td>\n",
              "      <td>1285.0</td>\n",
              "      <td>121.0</td>\n",
              "      <td>16.0</td>\n",
              "      <td>2.0</td>\n",
              "    </tr>\n",
              "  </tbody>\n",
              "</table>\n",
              "</div>"
            ],
            "text/plain": [
              "total_of_special_requests  arrival_date_year arrival_date_month  ...     4    5\n",
              "0                                       2015               July  ...   1.0  1.0\n",
              "1                                       2015               July  ...   NaN  NaN\n",
              "2                                       2015           December  ...   1.0  NaN\n",
              "3                                       2015           December  ...   NaN  NaN\n",
              "4                                       2015             August  ...  10.0  NaN\n",
              "5                                       2015             August  ...   3.0  NaN\n",
              "6                                       2015           November  ...   1.0  NaN\n",
              "7                                       2015           November  ...   NaN  NaN\n",
              "8                                       2015          September  ...   2.0  NaN\n",
              "9                                       2015          September  ...   2.0  NaN\n",
              "10                                      2015            October  ...   NaN  NaN\n",
              "11                                      2015            October  ...   2.0  3.0\n",
              "12                                      2016               July  ...   5.0  NaN\n",
              "13                                      2016               July  ...  10.0  NaN\n",
              "14                                      2016           December  ...  10.0  NaN\n",
              "15                                      2016           December  ...   9.0  NaN\n",
              "16                                      2016             August  ...   1.0  3.0\n",
              "17                                      2016             August  ...   7.0  NaN\n",
              "18                                      2016           November  ...   6.0  1.0\n",
              "19                                      2016           November  ...   8.0  2.0\n",
              "20                                      2016          September  ...   3.0  NaN\n",
              "21                                      2016          September  ...  15.0  5.0\n",
              "22                                      2016            October  ...   3.0  NaN\n",
              "23                                      2016            October  ...  27.0  2.0\n",
              "24                                      2016               June  ...   4.0  NaN\n",
              "25                                      2016               June  ...   4.0  NaN\n",
              "26                                      2016            January  ...   NaN  NaN\n",
              "27                                      2016            January  ...   NaN  NaN\n",
              "28                                      2016              April  ...   1.0  NaN\n",
              "29                                      2016              April  ...   NaN  NaN\n",
              "30                                      2016              March  ...   2.0  NaN\n",
              "31                                      2016              March  ...   1.0  NaN\n",
              "32                                      2016           February  ...   2.0  NaN\n",
              "33                                      2016           February  ...   1.0  NaN\n",
              "34                                      2016                May  ...   2.0  1.0\n",
              "35                                      2016                May  ...   1.0  NaN\n",
              "36                                      2017               July  ...   9.0  NaN\n",
              "37                                      2017               July  ...  19.0  2.0\n",
              "38                                      2017             August  ...  41.0  3.0\n",
              "39                                      2017             August  ...  19.0  2.0\n",
              "40                                      2017               June  ...   8.0  NaN\n",
              "41                                      2017               June  ...  10.0  4.0\n",
              "42                                      2017            January  ...   4.0  1.0\n",
              "43                                      2017            January  ...   4.0  NaN\n",
              "44                                      2017              April  ...  10.0  2.0\n",
              "45                                      2017              April  ...  30.0  4.0\n",
              "46                                      2017              March  ...   5.0  1.0\n",
              "47                                      2017              March  ...   4.0  NaN\n",
              "48                                      2017           February  ...   6.0  1.0\n",
              "49                                      2017           February  ...   6.0  NaN\n",
              "50                                      2017                May  ...   5.0  NaN\n",
              "51                                      2017                May  ...  16.0  2.0\n",
              "\n",
              "[52 rows x 9 columns]"
            ]
          },
          "metadata": {
            "tags": []
          },
          "execution_count": 79
        }
      ]
    },
    {
      "cell_type": "code",
      "metadata": {
        "id": "aVYq12Q9WRKA",
        "colab": {
          "base_uri": "https://localhost:8080/",
          "height": 329
        },
        "outputId": "d29c04a2-2793-454f-8597-7443401fe560"
      },
      "source": [
        "plt.rcParams['figure.figsize'] = (15, 5)\n",
        "month_year_wise.plot(kind='bar')"
      ],
      "execution_count": null,
      "outputs": [
        {
          "output_type": "execute_result",
          "data": {
            "text/plain": [
              "<matplotlib.axes._subplots.AxesSubplot at 0x7effad5daf90>"
            ]
          },
          "metadata": {
            "tags": []
          },
          "execution_count": 80
        },
        {
          "output_type": "display_data",
          "data": {
            "image/png": "[encoded data removed]",
            "text/plain": [
              "<Figure size 1080x360 with 1 Axes>"
            ]
          },
          "metadata": {
            "tags": [],
            "needs_background": "light"
          }
        }
      ]
    },
    {
      "cell_type": "code",
      "metadata": {
        "colab": {
          "base_uri": "https://localhost:8080/"
        },
        "id": "QppxCM_fWpMz",
        "outputId": "b61a2c5e-4826-4c0d-b65d-dcdf1c5fc06c"
      },
      "source": [
        "month_year_wise.index"
      ],
      "execution_count": null,
      "outputs": [
        {
          "output_type": "execute_result",
          "data": {
            "text/plain": [
              "RangeIndex(start=0, stop=52, step=1)"
            ]
          },
          "metadata": {
            "tags": []
          },
          "execution_count": 81
        }
      ]
    },
    {
      "cell_type": "code",
      "metadata": {
        "id": "nKVjCJ_Vwxo7"
      },
      "source": [
        "nnn=df.groupby(['arrival_date_month','total_children'])['total_of_special_requests'].sum().reset_index()"
      ],
      "execution_count": null,
      "outputs": []
    },
    {
      "cell_type": "code",
      "metadata": {
        "id": "QUd8zFRWx20z"
      },
      "source": [
        "new_df = df.copy() # creating a dataframe copy"
      ],
      "execution_count": null,
      "outputs": []
    },
    {
      "cell_type": "code",
      "metadata": {
        "colab": {
          "base_uri": "https://localhost:8080/"
        },
        "id": "mEvwX8-2ysrC",
        "outputId": "ddac400d-9fe2-4f51-9c1f-8888c382e4ca"
      },
      "source": [
        "new_df.columns"
      ],
      "execution_count": null,
      "outputs": [
        {
          "output_type": "execute_result",
          "data": {
            "text/plain": [
              "Index(['hotel', 'is_canceled', 'lead_time', 'arrival_date_year',\n",
              "       'arrival_date_month', 'arrival_date_week_number',\n",
              "       'arrival_date_day_of_month', 'stays_in_weekend_nights',\n",
              "       'stays_in_week_nights', 'adults', 'children', 'babies', 'meal',\n",
              "       'country', 'market_segment', 'distribution_channel',\n",
              "       'is_repeated_guest', 'previous_cancellations',\n",
              "       'previous_bookings_not_canceled', 'reserved_room_type',\n",
              "       'assigned_room_type', 'booking_changes', 'deposit_type',\n",
              "       'days_in_waiting_list', 'customer_type', 'adr',\n",
              "       'required_car_parking_spaces', 'total_of_special_requests',\n",
              "       'reservation_status', 'reservation_status_date', 'total_nights',\n",
              "       'total_children'],\n",
              "      dtype='object')"
            ]
          },
          "metadata": {
            "tags": []
          },
          "execution_count": 96
        }
      ]
    },
    {
      "cell_type": "code",
      "metadata": {
        "id": "bJ2Lt4bUzxZm"
      },
      "source": [
        "new_df=new_df.drop(index=0,columns='total_of_special_requests')"
      ],
      "execution_count": null,
      "outputs": []
    },
    {
      "cell_type": "code",
      "metadata": {
        "id": "0XG3SQzf0x8O"
      },
      "source": [
        "month_special_reqs=df.groupby(['arrival_date_month'])['total_of_special_requests'].sum().reset_index()"
      ],
      "execution_count": null,
      "outputs": []
    },
    {
      "cell_type": "code",
      "metadata": {
        "colab": {
          "base_uri": "https://localhost:8080/",
          "height": 413
        },
        "id": "_SeXxWQx1JTp",
        "outputId": "35b7dd3a-f375-4cd3-ec57-1c2fdb5ad450"
      },
      "source": [
        "month_special_reqs.plot(kind='bar',x='arrival_date_month',y='total_of_special_requests')\n",
        "plt.title('Special requests according to month')\n",
        "plt.ylabel('Special request count')"
      ],
      "execution_count": null,
      "outputs": [
        {
          "output_type": "execute_result",
          "data": {
            "text/plain": [
              "Text(0, 0.5, 'Special request count')"
            ]
          },
          "metadata": {
            "tags": []
          },
          "execution_count": 111
        },
        {
          "output_type": "display_data",
          "data": {
            "image/png": "[encoded data removed]",
            "text/plain": [
              "<Figure size 720x360 with 1 Axes>"
            ]
          },
          "metadata": {
            "tags": [],
            "needs_background": "light"
          }
        }
      ]
    },
    {
      "cell_type": "code",
      "metadata": {
        "colab": {
          "base_uri": "https://localhost:8080/",
          "height": 417
        },
        "id": "vYmV8t0B1LFf",
        "outputId": "aa2703bc-8261-4df1-a01c-3e1ff880155a"
      },
      "source": [
        "child_special_reqs=df.groupby(['total_children'])['total_of_special_requests'].sum().reset_index()\n",
        "plt.rcParams['figure.figsize'] = (6, 6)\n",
        "child_special_reqs.plot(kind='bar')\n",
        "plt.title('Special requests according to child count')\n",
        "plt.xlabel('Children count')\n",
        "plt.ylabel('Special request count')"
      ],
      "execution_count": null,
      "outputs": [
        {
          "output_type": "execute_result",
          "data": {
            "text/plain": [
              "Text(0, 0.5, 'Special request count')"
            ]
          },
          "metadata": {
            "tags": []
          },
          "execution_count": 112
        },
        {
          "output_type": "display_data",
          "data": {
            "image/png": "[encoded data removed]",
            "text/plain": [
              "<Figure size 432x432 with 1 Axes>"
            ]
          },
          "metadata": {
            "tags": [],
            "needs_background": "light"
          }
        }
      ]
    },
    {
      "cell_type": "code",
      "metadata": {
        "colab": {
          "base_uri": "https://localhost:8080/",
          "height": 425
        },
        "id": "7mlN7MNC1wOf",
        "outputId": "322dc2e9-085f-49a2-898f-0e9115a071fd"
      },
      "source": [
        "adult_special_reqs=df.groupby(['adults'])['total_of_special_requests'].sum().reset_index()\n",
        "plt.rcParams['figure.figsize'] = (6, 6)\n",
        "adult_special_reqs.plot(kind='bar')\n",
        "plt.title('Special requests according to adult count')\n",
        "plt.xlabel('Adult count')\n",
        "plt.ylabel('Special request count')"
      ],
      "execution_count": null,
      "outputs": [
        {
          "output_type": "execute_result",
          "data": {
            "text/plain": [
              "Text(0, 0.5, 'Special request count')"
            ]
          },
          "metadata": {
            "tags": []
          },
          "execution_count": 113
        },
        {
          "output_type": "display_data",
          "data": {
            "image/png": "[encoded data removed]",
            "text/plain": [
              "<Figure size 432x432 with 1 Axes>"
            ]
          },
          "metadata": {
            "tags": [],
            "needs_background": "light"
          }
        }
      ]
    },
    {
      "cell_type": "code",
      "metadata": {
        "colab": {
          "base_uri": "https://localhost:8080/",
          "height": 480
        },
        "id": "_9jkhzy912DH",
        "outputId": "1d5f7432-66f3-4ab5-c69a-0e8b1513021f"
      },
      "source": [
        "adult_req_months=df.groupby(['arrival_date_month'])['total_of_special_requests','adults'].sum().reset_index()\n",
        "adult_req_months"
      ],
      "execution_count": null,
      "outputs": [
        {
          "output_type": "stream",
          "text": [
            "/usr/local/lib/python3.7/dist-packages/ipykernel_launcher.py:1: FutureWarning: Indexing with multiple keys (implicitly converted to a tuple of keys) will be deprecated, use a list instead.\n",
            "  \"\"\"Entry point for launching an IPython kernel.\n"
          ],
          "name": "stderr"
        },
        {
          "output_type": "execute_result",
          "data": {
            "text/html": [
              "<div>\n",
              "<style scoped>\n",
              "    .dataframe tbody tr th:only-of-type {\n",
              "        vertical-align: middle;\n",
              "    }\n",
              "\n",
              "    .dataframe tbody tr th {\n",
              "        vertical-align: top;\n",
              "    }\n",
              "\n",
              "    .dataframe thead th {\n",
              "        text-align: right;\n",
              "    }\n",
              "</style>\n",
              "<table border=\"1\" class=\"dataframe\">\n",
              "  <thead>\n",
              "    <tr style=\"text-align: right;\">\n",
              "      <th></th>\n",
              "      <th>arrival_date_month</th>\n",
              "      <th>total_of_special_requests</th>\n",
              "      <th>adults</th>\n",
              "    </tr>\n",
              "  </thead>\n",
              "  <tbody>\n",
              "    <tr>\n",
              "      <th>0</th>\n",
              "      <td>April</td>\n",
              "      <td>5783</td>\n",
              "      <td>20806</td>\n",
              "    </tr>\n",
              "    <tr>\n",
              "      <th>1</th>\n",
              "      <td>August</td>\n",
              "      <td>10223</td>\n",
              "      <td>27795</td>\n",
              "    </tr>\n",
              "    <tr>\n",
              "      <th>2</th>\n",
              "      <td>December</td>\n",
              "      <td>4163</td>\n",
              "      <td>12382</td>\n",
              "    </tr>\n",
              "    <tr>\n",
              "      <th>3</th>\n",
              "      <td>February</td>\n",
              "      <td>4241</td>\n",
              "      <td>14450</td>\n",
              "    </tr>\n",
              "    <tr>\n",
              "      <th>4</th>\n",
              "      <td>January</td>\n",
              "      <td>3246</td>\n",
              "      <td>10024</td>\n",
              "    </tr>\n",
              "    <tr>\n",
              "      <th>5</th>\n",
              "      <td>July</td>\n",
              "      <td>8505</td>\n",
              "      <td>25164</td>\n",
              "    </tr>\n",
              "    <tr>\n",
              "      <th>6</th>\n",
              "      <td>June</td>\n",
              "      <td>6169</td>\n",
              "      <td>20353</td>\n",
              "    </tr>\n",
              "    <tr>\n",
              "      <th>7</th>\n",
              "      <td>March</td>\n",
              "      <td>4872</td>\n",
              "      <td>17675</td>\n",
              "    </tr>\n",
              "    <tr>\n",
              "      <th>8</th>\n",
              "      <td>May</td>\n",
              "      <td>6280</td>\n",
              "      <td>21539</td>\n",
              "    </tr>\n",
              "    <tr>\n",
              "      <th>9</th>\n",
              "      <td>November</td>\n",
              "      <td>3949</td>\n",
              "      <td>11488</td>\n",
              "    </tr>\n",
              "    <tr>\n",
              "      <th>10</th>\n",
              "      <td>October</td>\n",
              "      <td>5516</td>\n",
              "      <td>20279</td>\n",
              "    </tr>\n",
              "    <tr>\n",
              "      <th>11</th>\n",
              "      <td>September</td>\n",
              "      <td>5268</td>\n",
              "      <td>19681</td>\n",
              "    </tr>\n",
              "  </tbody>\n",
              "</table>\n",
              "</div>"
            ],
            "text/plain": [
              "   arrival_date_month  total_of_special_requests  adults\n",
              "0               April                       5783   20806\n",
              "1              August                      10223   27795\n",
              "2            December                       4163   12382\n",
              "3            February                       4241   14450\n",
              "4             January                       3246   10024\n",
              "5                July                       8505   25164\n",
              "6                June                       6169   20353\n",
              "7               March                       4872   17675\n",
              "8                 May                       6280   21539\n",
              "9            November                       3949   11488\n",
              "10            October                       5516   20279\n",
              "11          September                       5268   19681"
            ]
          },
          "metadata": {
            "tags": []
          },
          "execution_count": 102
        }
      ]
    },
    {
      "cell_type": "code",
      "metadata": {
        "colab": {
          "base_uri": "https://localhost:8080/",
          "height": 527
        },
        "id": "EabCdamJ7xlt",
        "outputId": "a33682a8-0781-4673-cef3-28b559edcdfc"
      },
      "source": [
        "plt.rcParams['figure.figsize']=(10,3)\n",
        "adult_req_months.plot(x='arrival_date_month',kind='bar')\n",
        "plt.title('special Requests according to month')\n",
        "plt.xlabel('Months')\n",
        "plt.ylabel('demand with adults & special requests')\n",
        "adult_req_months.plot()\n",
        "plt.title('special Requests according to month')\n",
        "plt.xlabel('Months')\n",
        "plt.ylabel('demand with adults & special requests')"
      ],
      "execution_count": null,
      "outputs": [
        {
          "output_type": "execute_result",
          "data": {
            "text/plain": [
              "Text(0, 0.5, 'demand with adults & special requests')"
            ]
          },
          "metadata": {
            "tags": []
          },
          "execution_count": 114
        },
        {
          "output_type": "display_data",
          "data": {
            "image/png": "[encoded data removed]",
            "text/plain": [
              "<Figure size 720x216 with 1 Axes>"
            ]
          },
          "metadata": {
            "tags": [],
            "needs_background": "light"
          }
        },
        {
          "output_type": "display_data",
          "data": {
            "image/png": "[encoded data removed]",
            "text/plain": [
              "<Figure size 720x216 with 1 Axes>"
            ]
          },
          "metadata": {
            "tags": [],
            "needs_background": "light"
          }
        }
      ]
    },
    {
      "cell_type": "markdown",
      "metadata": {
        "id": "a1R1UulSR7So"
      },
      "source": [
        "# Conclusions\n",
        "\n",
        "1. At a peak, more number of bookings in the month May. But when we go through the day, The more demand for hotels is in between Mar-May & Sep-Oct.\n",
        "2. Prices are high in the month of August. People can get best price in between Nov-Mar.\n",
        "3. When people book hotel just before their arrival, they are unlikely to cancel.\n",
        "4. More number of special requests happen in the month of August and most when 2 adults book the hotel.\n"
      ]
    },
    {
      "cell_type": "code",
      "metadata": {
        "id": "fGp5EXfvWWe0"
      },
      "source": [
        ""
      ],
      "execution_count": null,
      "outputs": []
    }
  ]
}